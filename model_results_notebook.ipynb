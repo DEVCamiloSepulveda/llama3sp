{
 "cells": [
  {
   "cell_type": "code",
   "execution_count": 4,
   "metadata": {},
   "outputs": [],
   "source": [
    "import re"
   ]
  },
  {
   "cell_type": "code",
   "execution_count": 5,
   "metadata": {},
   "outputs": [],
   "source": [
    "MODELS = [\n",
    "    [\n",
    "        {'train': ['appceleratorstudio'], 'test': ['appceleratorstudio']},\n",
    "        {'train': ['aptanastudio'], 'test': ['aptanastudio']},\n",
    "        {'train': ['bamboo'], 'test': ['bamboo']},\n",
    "        {'train': ['clover'], 'test': ['clover']},\n",
    "        {'train': ['datamanagement'], 'test': ['datamanagement']},\n",
    "        {'train': ['duracloud'], 'test': ['duracloud']},\n",
    "        {'train': ['jirasoftware'], 'test': ['jirasoftware']},\n",
    "        {'train': ['mesos'], 'test': ['mesos']},\n",
    "        {'train': ['moodle'], 'test': ['moodle']},\n",
    "        {'train': ['mule'], 'test': ['mule']},\n",
    "        {'train': ['mulestudio'], 'test': ['mulestudio']},\n",
    "        {'train': ['springxd'], 'test': ['springxd']},\n",
    "        {'train': ['talenddataquality'], 'test': ['talenddataquality']},\n",
    "        {'train': ['talendesb'], 'test': ['talendesb']},\n",
    "        {'train': ['titanium'], 'test': ['titanium']},\n",
    "        {'train': ['usergrid'], 'test': ['usergrid']},\n",
    "    ],\n",
    "    [\n",
    "        {'train': ['mesos'], 'test': ['usergrid']},\n",
    "        {'train': ['usergrid'], 'test': ['mesos']},\n",
    "        {'train': ['appceleratorstudio'], 'test': ['aptanastudio']},\n",
    "        {'train': ['appceleratorstudio'], 'test': ['titanium']},\n",
    "        {'train': ['titanium'], 'test': ['appceleratorstudio']},\n",
    "        {'train': ['aptanastudio'], 'test': ['titanium']},\n",
    "        {'train': ['mule'], 'test': ['mulestudio']},\n",
    "        {'train': ['mulestudio'], 'test': ['mule']}\n",
    "    ],\n",
    "    [\n",
    "        {'train': ['clover'], 'test': ['usergrid']},\n",
    "        {'train': ['talendesb'], 'test': ['mesos']},\n",
    "        {'train': ['talenddataquality'], 'test': ['aptanastudio']},\n",
    "        {'train': ['mule'], 'test': ['titanium']},\n",
    "        {'train': ['talenddataquality'], 'test': ['appceleratorstudio']},\n",
    "        {'train': ['mulestudio'], 'test': ['titanium']},\n",
    "        {'train': ['appceleratorstudio'], 'test': ['mulestudio']},\n",
    "        {'train': ['appceleratorstudio'], 'test': ['mule']}\n",
    "    ]\n",
    "]"
   ]
  },
  {
   "cell_type": "code",
   "execution_count": 6,
   "metadata": {},
   "outputs": [
    {
     "name": "stdout",
     "output_type": "stream",
     "text": [
      "Within results saved to deepseekr1_within_results.csv\n",
      "Cross results saved to deepseekr1_cross_results.csv\n"
     ]
    }
   ],
   "source": [
    "within_results = []\n",
    "cross_results = []\n",
    "\n",
    "csv_header = \"Train,Test,MAE,MdAE\\n\"\n",
    "csv_within = csv_header\n",
    "csv_cross = csv_header\n",
    "\n",
    "for i, model in enumerate(MODELS):\n",
    "    for j, data in enumerate(model):\n",
    "        train_project = data['train'][0]\n",
    "        test_project = data['test'][0]\n",
    "\n",
    "        model_name = f\"{train_project}_{test_project}\"\n",
    "\n",
    "        with open(f'./results/{model_name}.txt', 'r') as f:\n",
    "            lines = f.readlines()\n",
    "            if len(lines) < 4:\n",
    "                print(f\"Error: {model_name} does not have enough lines in the file.\")\n",
    "                continue\n",
    "            \n",
    "            # Get the last 4 lines of the file\n",
    "            results = lines[-4:]\n",
    "            match = re.search(r\"MAE:\\s*([\\d.]+)\\s+MdAE:\\s*([\\d.]+)\", results[0])\n",
    "            if match:\n",
    "                mae = round(float(match.group(1)), 2)\n",
    "                mdae = round(float(match.group(2)), 2)\n",
    "            \n",
    "            if i == 0:\n",
    "                csv_within += f\"{train_project},{test_project},{mae},{mdae}\\n\"\n",
    "            else:\n",
    "                csv_cross += f\"{train_project},{test_project},{mae},{mdae}\\n\"\n",
    "\n",
    "with open(f'./data_model_analysis/deepseekr1_within_results.csv', 'w') as f:\n",
    "    f.write(csv_within)\n",
    "    print(f\"Within results saved to deepseekr1_within_results.csv\")\n",
    "with open(f'./data_model_analysis/deepseekr1_cross_results.csv', 'w') as f:\n",
    "    f.write(csv_cross)\n",
    "    print(f\"Cross results saved to deepseekr1_cross_results.csv\")"
   ]
  }
 ],
 "metadata": {
  "kernelspec": {
   "display_name": "Python 3",
   "language": "python",
   "name": "python3"
  },
  "language_info": {
   "codemirror_mode": {
    "name": "ipython",
    "version": 3
   },
   "file_extension": ".py",
   "mimetype": "text/x-python",
   "name": "python",
   "nbconvert_exporter": "python",
   "pygments_lexer": "ipython3",
   "version": "3.9.13"
  }
 },
 "nbformat": 4,
 "nbformat_minor": 2
}
