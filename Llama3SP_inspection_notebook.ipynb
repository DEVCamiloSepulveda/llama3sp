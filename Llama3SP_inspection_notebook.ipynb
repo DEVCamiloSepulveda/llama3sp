{
 "cells": [
  {
   "cell_type": "markdown",
   "metadata": {},
   "source": [
    "# Llama3SP - Model Inspection Notebook\n",
    "\n",
    "#### Hello!  Welcome to the model inspection notebook, we provides the scripts for model loading and model inference on testing data of model training process for all of the models mentioned in our experiments in the paper. \n",
    "\n",
    "##### Attention!!!\n",
    "##### Before interacting with this notebook, you may want to install a few dependencies [HERE](#dependencies).\n",
    "##### Also, make sure to run the [Static Methods](#static-method) cell, then you are good to go\n",
    "#### The models are categorized by the experiment scenario, please follow the link as follows to reach the specific section\n",
    "\n",
    "### 1. [Within Project Models](#within_project)\n",
    "### 2. [Cross Project Models](#cross_project)"
   ]
  },
  {
   "cell_type": "markdown",
   "metadata": {},
   "source": [
    "<a id='dependencies'></a>\n",
    "## Dependencies Installation\n",
    "#### run the cell below to install the dependencies"
   ]
  },
  {
   "cell_type": "code",
   "execution_count": null,
   "metadata": {},
   "outputs": [],
   "source": [
    "%!pip install transformers\n",
    "%!pip install peft\n",
    "%!pip install torch\n",
    "%!pip install tokenizers\n",
    "%!pip install captum"
   ]
  },
  {
   "cell_type": "markdown",
   "metadata": {},
   "source": [
    "<a id='static-method'></a>\n",
    "## Static Methods"
   ]
  },
  {
   "cell_type": "code",
   "execution_count": 1,
   "metadata": {
    "scrolled": true
   },
   "outputs": [],
   "source": [
    "from torch.utils.data import TensorDataset, DataLoader, RandomSampler, SequentialSampler\n",
    "from Llama3SP import LlamaForSequenceClassification as Llama3SP\n",
    "from transformers import (\n",
    "    AutoModelForSequenceClassification,\n",
    "    AutoTokenizer,\n",
    "    XLNetTokenizer,\n",
    "    BertTokenizer,\n",
    "    BitsAndBytesConfig,\n",
    ")\n",
    "from peft import (\n",
    "    PeftModel,\n",
    "    PeftConfig,\n",
    "    LoraConfig,\n",
    "    prepare_model_for_kbit_training,\n",
    "    get_peft_model,\n",
    ")\n",
    "from tokenizers import Tokenizer\n",
    "from pathlib import Path\n",
    "\n",
    "import torch\n",
    "import pandas as pd\n",
    "import numpy as np\n",
    "import os\n",
    "import gc\n",
    "import shutil\n",
    "import re\n",
    "\n",
    "os.environ['PYTORCH_CUDA_ALLOC_CONF'] = 'expandable_segments:True'\n",
    "os.environ['CUDA_LAUNCH_BLOCKING'] = '1'\n",
    "\n",
    "# Tokenizer Mapping\n",
    "TOKENIZER_MAPPING = {\"#0\": \"llama3\", \"#00\": \"llama3\", \"#000\": \"llama3\",\n",
    "                     \"#2\": \"sp_word_level\", \"#22\": \"sp_word_level\", \"#222\": \"sp_word_level\",\n",
    "                     \"#6\": \"wordpiece_sp\", \"#66\": \"wordpiece_sp\", \"#666\": \"wordpiece_sp\",\n",
    "                     \"#7\": \"sentencepiece_sp\", \"#77\": \"sentencepiece_sp\", \"#777\": \"sentencepiece_sp\"}\n",
    "\n",
    "# pad token ID mapping\n",
    "PAD_TOKEN_ID_MAPPING = {\"llama3\": 128001, \"sp_word_level\": 3, \"wordpiece_sp\": 0, \"sentencepiece_sp\": 0}\n",
    "# static global vars\n",
    "global DYNAMIC_BATCH, DEVICE\n",
    "DYNAMIC_BATCH = True\n",
    "DEVICE = torch.device(\"cuda\") if torch.cuda.is_available() else torch.device(\"cpu\")\n",
    "if torch.cuda.is_available():\n",
    "    # set up to release cache memory when possible\n",
    "    torch.cuda.empty_cache()\n",
    "    # set up more conservative memory limits  \n",
    "    torch.cuda.set_per_process_memory_fraction(0.8)  # Use only 80% of GPU memory\n",
    "SEQUENCE_LEN = 20\n",
    "# dynamic global vars\n",
    "global PAD_TOKEN_ID, BATCH_SIZE_RATIO, BATCH_SIZE, TOKENIZER, WITHIN_PROJECT, TEXT, KEY, TOK, MODEL, PROJECT_ID\n",
    "PAD_TOKEN_ID = None\n",
    "BATCH_SIZE_RATIO = None\n",
    "BATCH_SIZE = None\n",
    "TOKENIZER = None\n",
    "WITHIN_PROJECT = None\n",
    "TEXT = None\n",
    "KEY = None\n",
    "TOK = None\n",
    "MODEL = None\n",
    "PROJECT_ID = None\n",
    "\n",
    "\n",
    "def tokenization(text_list, path):\n",
    "    global TOKENIZER, SEQUENCE_LEN, MODEL, TOK, PAD_TOKEN_ID\n",
    "    \n",
    "    if TOKENIZER == 'llama3':\n",
    "        print('using llama3 tokenizer!')\n",
    "        tokenizer = AutoTokenizer.from_pretrained(path)\n",
    "\n",
    "        tokenizer.pad_token = tokenizer.eos_token\n",
    "        MODEL.config.pad_token_id = MODEL.config.eos_token_id \n",
    "        \n",
    "        # ensure that no sequence exceeds SEQUENCE_LEN\n",
    "        encoded_dict = tokenizer.batch_encode_plus(\n",
    "            text_list,\n",
    "            max_length=SEQUENCE_LEN,\n",
    "            padding='max_length',\n",
    "            truncation=True,\n",
    "            return_tensors='pt',\n",
    "            return_attention_mask=True,\n",
    "            return_token_type_ids=False\n",
    "        )\n",
    "        \n",
    "        # Verify dimensions\n",
    "        if encoded_dict['input_ids'].shape[1] > SEQUENCE_LEN:\n",
    "            print(f\"Warning: Truncating sequences to {SEQUENCE_LEN} tokens\")\n",
    "            encoded_dict['input_ids'] = encoded_dict['input_ids'][:, :SEQUENCE_LEN]\n",
    "            if 'attention_mask' in encoded_dict:\n",
    "                encoded_dict['attention_mask'] = encoded_dict['attention_mask'][:, :SEQUENCE_LEN]\n",
    "        \n",
    "        TOK = tokenizer\n",
    "        return encoded_dict\n",
    "    elif TOKENIZER == 'sp_word_level':\n",
    "        print('using word-level tokenizer!')\n",
    "        tokenizer = Tokenizer.from_pretrained(path)\n",
    "        encoded_sentences = {'input_ids':[]}\n",
    "        for sentence in text_list:\n",
    "            encoded = tokenizer.encode(sentence)\n",
    "            encoded = encoded.ids\n",
    "            if len(encoded) > SEQUENCE_LEN:\n",
    "                encoded = encoded[:SEQUENCE_LEN]\n",
    "            elif len(encoded) < SEQUENCE_LEN:\n",
    "                padding = SEQUENCE_LEN - len(encoded)\n",
    "                for _ in range(padding):\n",
    "                    encoded.append(3)\n",
    "            encoded_sentences['input_ids'].append(encoded)\n",
    "        tokenizer.pad_token_id = PAD_TOKEN_ID\n",
    "        MODEL.config.pad_token_id = PAD_TOKEN_ID\n",
    "\n",
    "        TOK = tokenizer\n",
    "        return encoded_sentences\n",
    "    elif TOKENIZER == 'sentencepiece_sp':\n",
    "        print('using sentencepiece tokenizer!')\n",
    "        tokenizer = XLNetTokenizer('all_tokenizers/sp_sentence_piece/spm_tokenizer.model', padding_side='right')\n",
    "\n",
    "        tokenizer.pad_token_id = tokenizer.eos_token_id\n",
    "        tokenizer.pad_token = tokenizer.eos_token\n",
    "        # update some model configs\n",
    "        # must use .cache = False as below or it crashes from my experience\n",
    "        MODEL.config.pad_token_id = tokenizer.pad_token_id\n",
    "        MODEL.config.use_cache = False\n",
    "        MODEL.config.pretraining_tp = 1\n",
    "        return tokenizer.batch_encode_plus(text_list, truncation=True, max_length=SEQUENCE_LEN, padding='max_length')\n",
    "    elif TOKENIZER == 'wordpiece_sp':\n",
    "        print('using wordpiece tokenizer!')\n",
    "        tokenizer = BertTokenizer('all_tokenizers/sp_word_piece/vocab.txt')\n",
    "\n",
    "        MODEL.config.pad_token_id = tokenizer.pad_token_id\n",
    "        MODEL.config.use_cache = False\n",
    "        MODEL.config.pretraining_tp = 1\n",
    "        return tokenizer.batch_encode_plus(text_list, truncation=True, max_length=SEQUENCE_LEN, padding='max_length')\n",
    "\n",
    "\n",
    "def prepare_dataframe(file_name):\n",
    "    data = pd.read_csv(file_name)\n",
    "    # some rows have no description, fill blank to avoid Null\n",
    "    data = data.fillna(' ')\n",
    "    d = {'text': data['title'], 'label': data['storypoint'], 'issuekey': data['issuekey']}\n",
    "    return pd.DataFrame(data=d)\n",
    "\n",
    "\n",
    "def prepare_dataloader(seq, y, sampler_type):\n",
    "    global BATCH_SIZE\n",
    "    tensor_dataset = TensorDataset(seq, y)\n",
    "    if sampler_type == 'random':\n",
    "        sampler = RandomSampler(tensor_dataset)\n",
    "    elif sampler_type == 'sequential':\n",
    "        sampler = SequentialSampler(tensor_dataset)\n",
    "    dataloader = DataLoader(tensor_dataset, sampler=sampler, batch_size=BATCH_SIZE)\n",
    "    return dataloader\n",
    "\n",
    "\n",
    "def load_trained_model(model_id, project_name):\n",
    "    global WITHIN_PROJECT, MODEL, PROJECT_ID\n",
    "\n",
    "    local = False\n",
    "    try:\n",
    "        int(model_id[1:])\n",
    "        local = False\n",
    "    except:\n",
    "        local = True\n",
    "\n",
    "    if local:\n",
    "        print(\"Loading model from local...\")\n",
    "\n",
    "        quantization_config = BitsAndBytesConfig(\n",
    "            load_in_4bit=True,\n",
    "            bnb_4bit_quant_type='nf4',\n",
    "            bnb_4bit_use_double_quant=True,\n",
    "            bnb_4bit_compute_dtype=torch.float16,\n",
    "        )\n",
    "        lora_config = LoraConfig(\n",
    "            r=8,\n",
    "            lora_alpha=16,\n",
    "            target_modules=['q_proj', 'k_proj', 'v_proj', 'o_proj'],\n",
    "            lora_dropout=0.1,\n",
    "            bias='none',\n",
    "            task_type='SEQ_CLS'\n",
    "        )\n",
    "        HF_MODEL_NAME = \"meta-llama/Llama-3.2-1B\"\n",
    "        MODEL = AutoModelForSequenceClassification.from_pretrained(\n",
    "            HF_MODEL_NAME,\n",
    "            quantization_config=quantization_config,\n",
    "            num_labels=1,\n",
    "            torch_dtype=torch.float16,\n",
    "            device_map='auto',\n",
    "            low_cpu_mem_usage=True,\n",
    "            pad_token_id=PAD_TOKEN_ID,\n",
    "        )\n",
    "        MODEL = prepare_model_for_kbit_training(MODEL)\n",
    "        MODEL = get_peft_model(MODEL, lora_config)\n",
    "        MODEL.gradient_checkpointing_enable()\n",
    "        MODEL.enable_input_require_grads()\n",
    "\n",
    "        state_dict = torch.load(model_id, map_location=DEVICE, weights_only=True)\n",
    "        MODEL.load_state_dict(state_dict, strict=False)\n",
    "\n",
    "    else:\n",
    "        print(\"Loading model from Hugging Face...\")\n",
    "\n",
    "        if WITHIN_PROJECT:\n",
    "            path = \"DEVCamiloSepulveda/\" + model_id[1:] + \"-LLAMA3SP-\" + project_name\n",
    "        else:\n",
    "            path = \"DEVCamiloSepulveda/\" + model_id[1:] + \"-LLAMA3SP-\" + project_name.split(\"_\")[0] + \"-\" + project_name.split(\"_\")[1]\n",
    "        PROJECT_ID = path\n",
    "\n",
    "        # Load the model configuration\n",
    "        config = PeftConfig.from_pretrained(path)\n",
    "\n",
    "        # Load the original base model\n",
    "        base_model = AutoModelForSequenceClassification.from_pretrained(\n",
    "            config.base_model_name_or_path,\n",
    "            num_labels=1,\n",
    "            torch_dtype=torch.float16,\n",
    "            device_map='auto'\n",
    "        )\n",
    "\n",
    "        # Load the LoRA adapters\n",
    "        MODEL = PeftModel.from_pretrained(base_model, path)\n",
    "    \n",
    "    return MODEL\n",
    "\n",
    "\n",
    "def prepare_test_dataloader(file_name, model_id, project_name):\n",
    "    global WITHIN_PROJECT, BATCH_SIZE, BATCH_SIZE_RATIO, TEXT, KEY, MODEL\n",
    "\n",
    "    global WITHIN_PROJECT, MODEL\n",
    "    if WITHIN_PROJECT:\n",
    "        path = \"DEVCamiloSepulveda/\" + model_id[1:] + \"-LLAMA3SP-\" + project_name\n",
    "    else:\n",
    "        path = \"DEVCamiloSepulveda/\" + model_id[1:] + \"-LLAMA3SP-\" + project_name.split(\"_\")[0] + \"-\" + project_name.split(\"_\")[1]\n",
    "    path = \"meta-llama/Llama-3.2-1B\"\n",
    "\n",
    "    if WITHIN_PROJECT:\n",
    "        # calculate the batch size\n",
    "        df = prepare_dataframe(file_name)\n",
    "        BATCH_SIZE = min(int(int(len(df['text'][:int(len(df)*0.6)])) * BATCH_SIZE_RATIO), 512)\n",
    "        print(\"Batch Size: \", BATCH_SIZE)\n",
    "        # prepare testing data\n",
    "        test_text = df['text'][int(len(df)*0.8):]\n",
    "        TEXT = test_text\n",
    "        KEY = df['issuekey'][int(len(df)*0.8):]\n",
    "        test_labels = df['label'][int(len(df)*0.8):]\n",
    "        tokens_test = tokenization(test_text.tolist(), path)\n",
    "        test_seq = torch.tensor(tokens_test['input_ids'])\n",
    "        test_y = torch.tensor(test_labels.tolist()).type(torch.LongTensor)\n",
    "        test_dataloader = prepare_dataloader(test_seq, test_y, sampler_type='sequential')\n",
    "    else:\n",
    "        # calculate the batch size based on training data\n",
    "        df = prepare_dataframe('sp_dataset/marked_data/' + file_name[0] + '.csv')\n",
    "        BATCH_SIZE = min(int(int(len(df['text'][:int(len(df)*0.6)])) * BATCH_SIZE_RATIO), 512)\n",
    "        # prepare testing data\n",
    "        df = prepare_dataframe('sp_dataset/marked_data/' + file_name[1] + '.csv')\n",
    "        test_text = df['text']\n",
    "        TEXT = test_text\n",
    "        KEY = df['issuekey']\n",
    "        test_labels = df['label']\n",
    "        tokens_test = tokenization(test_text.tolist(), path)\n",
    "        test_seq = torch.tensor(tokens_test['input_ids'])\n",
    "        test_y = torch.tensor(test_labels.tolist()).type(torch.LongTensor)\n",
    "        test_dataloader = prepare_dataloader(test_seq, test_y, sampler_type='sequential')         \n",
    "    return test_dataloader\n",
    "\n",
    "\n",
    "def calculate_mae(predictions, targets):\n",
    "    return np.mean(np.abs(predictions - targets))\n",
    "\n",
    "\n",
    "def do_inference(trained_model, test_dataloader):\n",
    "    global TEXT, KEY\n",
    "    global XAI\n",
    "    predictions = []\n",
    "    true_labels = []\n",
    "    try:\n",
    "        for batch in test_dataloader:\n",
    "            batch = tuple(t.to(DEVICE) for t in batch)\n",
    "            b_input_ids, b_labels = batch\n",
    "            with torch.no_grad():\n",
    "                logits = trained_model(b_input_ids)\n",
    "            logits = logits['logits'].detach().cpu().numpy()\n",
    "            label_ids = b_labels.to('cpu').numpy()\n",
    "            predictions.append(logits)\n",
    "            true_labels.append(label_ids)\n",
    "        \n",
    "        # Flatten predictions and true_labels for MAE calculation\n",
    "        flat_predictions = np.concatenate(predictions, axis=0).flatten()\n",
    "        flat_true_labels = np.concatenate(true_labels, axis=0).flatten()\n",
    "        \n",
    "        # Calculate MAE of the model (MAE_p)\n",
    "        MAE_p = calculate_mae(flat_predictions, flat_true_labels)\n",
    "        \n",
    "        # Generate random predictions and calculate MAE of random predictions (MAE_Po)\n",
    "        random_predictions = np.random.rand(1000, len(flat_true_labels))  # 1000 ejecuciones de predicciones aleatorias\n",
    "        MAE_Po = np.mean([calculate_mae(pred, flat_true_labels) for pred in random_predictions])\n",
    "        \n",
    "        # Calculate Standard Accuracy (SA)\n",
    "        SA = (1 - (MAE_p / MAE_Po)) * 100\n",
    "        \n",
    "        # Calculate Median Absolute Error (MdAE)\n",
    "        MdAE = np.median(np.abs(flat_predictions - flat_true_labels))\n",
    "        \n",
    "        return MAE_p, MdAE, SA\n",
    "        \n",
    "    except Exception as e:\n",
    "        print(f\"Unexpected error in do_inference: {e}\")\n",
    "        import traceback\n",
    "        traceback.print_exc()\n",
    "        return None\n",
    "\n",
    "\n",
    "def main(model_id, project_name):\n",
    "    global WITHIN_PROJECT, BATCH_SIZE_RATIO, TOKENIZER, PAD_TOKEN_ID, MODEL\n",
    "    # define tokenizer based on model ID\n",
    "    try:\n",
    "        TOKENIZER = TOKENIZER_MAPPING[model_id]\n",
    "    except:\n",
    "        TOKENIZER = 'llama3'\n",
    "    PAD_TOKEN_ID = PAD_TOKEN_ID_MAPPING[TOKENIZER]\n",
    "\n",
    "    if len(project_name.split('_')) == 1:\n",
    "        WITHIN_PROJECT = True\n",
    "        BATCH_SIZE_RATIO = 0.3\n",
    "        print('within project inference using model ' + model_id + ' for project ' + project_name)\n",
    "        file_name = 'sp_dataset/marked_data/' + project_name + '.csv'\n",
    "    else:\n",
    "        WITHIN_PROJECT = False\n",
    "        BATCH_SIZE_RATIO = 0.4\n",
    "        training_project = project_name.split('_')[0]\n",
    "        testing_project = project_name.split('_')[1]\n",
    "        print('cross project inference using model ' + model_id + ' trained on ' + training_project \n",
    "              + ' for project ' + testing_project)\n",
    "        file_name = (training_project, testing_project)\n",
    "    trained_model = load_trained_model(model_id, project_name)\n",
    "    \n",
    "    trained_model.to(DEVICE)\n",
    "    trained_model.eval()\n",
    "    \n",
    "    test_dataloader = prepare_test_dataloader(file_name, model_id, project_name)\n",
    "    predictions = do_inference(trained_model, test_dataloader)\n",
    "    \n",
    "    return predictions\n",
    "\n",
    "\n",
    "def clean_hf_cache(model_id=None):\n",
    "    \"\"\"\n",
    "    Cleans the cache of files downloaded from Hugging Face.\n",
    "    \n",
    "    Args:\n",
    "        model_id (str, optional): Specific model ID to clean.\n",
    "                                  If not specified, cleans the entire cache.\n",
    "    \"\"\"\n",
    "    # Use the correct cache path\n",
    "    cache_path = os.path.join(str(Path.home()), '.cache', 'huggingface', 'hub')\n",
    "    \n",
    "    if not os.path.exists(cache_path):\n",
    "        print(f\"Cache directory not found at: {cache_path}\")\n",
    "        return\n",
    "        \n",
    "    if model_id:\n",
    "        # If a model is specified, look for its specific directory\n",
    "        model_path = os.path.join(cache_path, 'models--' + model_id.replace('/', '--'))\n",
    "        if os.path.exists(model_path):\n",
    "            print(f\"Deleting cache for model: {model_id}\")\n",
    "            try:\n",
    "                shutil.rmtree(model_path)\n",
    "                print(f\"Cache successfully deleted for: {model_id}\")\n",
    "            except Exception as e:\n",
    "                print(f\"Error deleting cache: {e}\")\n",
    "        else:\n",
    "            print(f\"Cache not found for model: {model_id}\")\n",
    "    else:\n",
    "        # Clean the entire cache\n",
    "        print(f\"Deleting all Hugging Face cache at: {cache_path}\")\n",
    "        try:\n",
    "            for item in os.listdir(cache_path):\n",
    "                item_path = os.path.join(cache_path, item)\n",
    "                if os.path.isdir(item_path):\n",
    "                    shutil.rmtree(item_path)\n",
    "                else:\n",
    "                    os.remove(item_path)\n",
    "            print(\"Cache completely deleted\")\n",
    "        except Exception as e:\n",
    "            print(f\"Error deleting cache: {e}\")\n",
    "\n",
    "\n",
    "def clean_gpu_memory():\n",
    "    \"\"\"\n",
    "    Clean GPU memory by releasing cache memory and unused tensors\n",
    "    \"\"\"\n",
    "    global MODEL\n",
    "\n",
    "    del MODEL\n",
    "\n",
    "    # Release PyTorch cache memory\n",
    "    torch.cuda.empty_cache()\n",
    "    \n",
    "    # Release tensor memory\n",
    "    if torch.cuda.is_available():\n",
    "        # Get the current device\n",
    "        device = torch.cuda.current_device()\n",
    "        \n",
    "        # Synchronize the device to ensure all operations are complete\n",
    "        torch.cuda.synchronize(device)\n",
    "        \n",
    "        # Force garbage collection\n",
    "        gc.collect()\n",
    "        \n",
    "        # Release all tensors assigned to the device\n",
    "        torch.cuda.empty_cache()\n",
    "        \n",
    "        # Reset all CUDA devices\n",
    "        torch.cuda.reset_peak_memory_stats(device)\n",
    "        torch.cuda.reset_accumulated_memory_stats(device)\n",
    "\n",
    "\n",
    "def local_model_inference(models):\n",
    "    maes = []\n",
    "    mdaes = []\n",
    "    standard_accuracies = []\n",
    "    for i, model in enumerate(models):\n",
    "        train_project = model['train']\n",
    "        test_project = model['test']\n",
    "        model_name = f\"{train_project}_{test_project}\"\n",
    "        # Open the file in results to upload the model\n",
    "        with open(f\"./results/{train_project}_{test_project}.txt\", \"r\") as f:\n",
    "            model_results = f.read()\n",
    "            mae, mdae, training_time, epochs, batch_size = (\n",
    "                float(re.search(r\"MAE:\\s*([\\d.]+)\", model_results).group(1)),\n",
    "                float(re.search(r\"MdAE:\\s*([\\d.]+)\", model_results).group(1)),\n",
    "                float(re.search(r\"training time:\\s*([\\d.]+)\", model_results).group(1)),\n",
    "                int(re.search(r\"Epochs:\\s*(\\d+)\", model_results).group(1)),\n",
    "                int(re.search(r\"batch size:\\s*(\\d+)\", model_results).group(1))\n",
    "            )\n",
    "\n",
    "        mae, mdae, sa = main(f\"./models/{model_name}_epo_{epochs}\", train_project)\n",
    "        mae = round(mae, 2)\n",
    "        mdae = round(mdae, 2)\n",
    "        sa = round(sa, 2)\n",
    "        maes.append(mae)\n",
    "        mdaes.append(mdae)\n",
    "        standard_accuracies.append(sa)\n",
    "\n",
    "        print(f\"Model: {model_name}, MAE: {mae}, MdAE: {mdae}, SA: {sa}\")\n",
    "\n",
    "        clean_gpu_memory()\n",
    "    return maes, mdaes, standard_accuracies\n",
    "\n",
    "\n",
    "def create_df(maes, mdaes, saes, models):\n",
    "    data = [\n",
    "        {\n",
    "            'Project': train_proj,\n",
    "            'MAE': mae,\n",
    "            'MdAE': mdae,\n",
    "            'SA': sa,\n",
    "        }\n",
    "        if (train_proj := model['train']) == (test_proj := model['test'])\n",
    "        else {\n",
    "            'Train': train_proj,\n",
    "            'Test': test_proj,\n",
    "            'MAE': mae,\n",
    "            'MdAE': mdae,\n",
    "            'SA': sa,\n",
    "        }\n",
    "        for model, mae, mdae, sa in zip(models, maes, mdaes, saes)\n",
    "    ]\n",
    "    return pd.DataFrame(data)"
   ]
  },
  {
   "cell_type": "code",
   "execution_count": 2,
   "metadata": {},
   "outputs": [],
   "source": [
    "DEVICE = torch.device(\"cuda\") if torch.cuda.is_available() else torch.device(\"cpu\")\n",
    "if torch.cuda.is_available():\n",
    "    torch.cuda.empty_cache()\n",
    "    torch.cuda.set_per_process_memory_fraction(0.8)\n",
    "\n",
    "PROJECTS = [\n",
    "    [\n",
    "        {'train': 'appceleratorstudio', 'test': 'appceleratorstudio'},\n",
    "        {'train': 'aptanastudio', 'test': 'aptanastudio'},\n",
    "        {'train': 'bamboo', 'test': 'bamboo'},\n",
    "        {'train': 'clover', 'test': 'clover'},\n",
    "        {'train': 'datamanagement', 'test': 'datamanagement'},\n",
    "        {'train': 'duracloud', 'test': 'duracloud'},\n",
    "        {'train': 'jirasoftware', 'test': 'jirasoftware'},\n",
    "        {'train': 'mesos', 'test': 'mesos'},\n",
    "        {'train': 'moodle', 'test': 'moodle'},\n",
    "        {'train': 'mule', 'test': 'mule'},\n",
    "        {'train': 'mulestudio', 'test': 'mulestudio'},\n",
    "        {'train': 'springxd', 'test': 'springxd'},\n",
    "        {'train': 'talenddataquality', 'test': 'talenddataquality'},\n",
    "        {'train': 'talendesb', 'test': 'talendesb'},\n",
    "        {'train': 'titanium', 'test': 'titanium'},\n",
    "        {'train': 'usergrid', 'test': 'usergrid'},\n",
    "    ],\n",
    "    [\n",
    "        {'train': 'mesos', 'test': 'usergrid'},\n",
    "        {'train': 'usergrid', 'test': 'mesos'},\n",
    "        {'train': 'appceleratorstudio', 'test': 'aptanastudio'},\n",
    "        {'train': 'appceleratorstudio', 'test': 'titanium'},\n",
    "        {'train': 'titanium', 'test': 'appceleratorstudio'},\n",
    "        {'train': 'aptanastudio', 'test': 'titanium'},\n",
    "        {'train': 'mule', 'test': 'mulestudio'},\n",
    "        {'train': 'mulestudio', 'test': 'mule'}\n",
    "    ],\n",
    "    [\n",
    "        {'train': 'clover', 'test': 'usergrid'},\n",
    "        {'train': 'talendesb', 'test': 'mesos'},\n",
    "        {'train': 'talenddataquality', 'test': 'aptanastudio'},\n",
    "        {'train': 'mule', 'test': 'titanium'},\n",
    "        {'train': 'talenddataquality', 'test': 'appceleratorstudio'},\n",
    "        {'train': 'mulestudio', 'test': 'titanium'},\n",
    "        {'train': 'appceleratorstudio', 'test': 'mulestudio'},\n",
    "        {'train': 'appceleratorstudio', 'test': 'mule'}\n",
    "    ]\n",
    "]\n",
    "\n",
    "MODELS = {\n",
    "    \"#0\": \"Llama3.2\",\n",
    "    \"#2\": \"Llama3.2+SPWordLevel\",\n",
    "    \"#6\": \"Llama3.2+SPWordPiece\",\n",
    "    \"#7\": \"Llama3.2+SPSentencePiece\"\n",
    "}\n",
    "\n",
    "WITHIN_PROJECTS = PROJECTS[0]\n",
    "CROSS_PROJECTS = PROJECTS[1:]\n",
    "ALL_CROSS_PROJECTS = [item for sublist in PROJECTS[1:] for item in sublist]"
   ]
  },
  {
   "cell_type": "markdown",
   "metadata": {},
   "source": [
    "<a id='within_project'></a>\n",
    "## Within Projects Models\n",
    "\n",
    "#### There are two parts under Within Project Model section, follow the link to reach the section:\n",
    "#### 1. [Training Process Inspection](#within_project_tb)\n",
    "#### 2. [Model Testing](#within_project_model_testing)\n",
    "\n",
    "#### Different models are available for cross project estimation as follows: \n",
    "\n",
    "#### #0 - Llama3.2 Auto Tokenizer + Llama3.2\n",
    "#### #2 - Word-level Story Point Tokenizer + Llama3.2\n",
    "#### #6 - WordPiece Story Point Tokenizer + Llama3.2\n",
    "#### #7 - SentencePiece Story Point Tokenizer + Llama3.2 "
   ]
  },
  {
   "cell_type": "markdown",
   "metadata": {},
   "source": [
    "<a id='within_project_model_testing'></a>\n",
    "### Model Testing"
   ]
  },
  {
   "cell_type": "markdown",
   "metadata": {},
   "source": [
    "##### Run the cell below to do inference on all testing datasets using all the uploaded models on Hugging Face"
   ]
  },
  {
   "cell_type": "code",
   "execution_count": 3,
   "metadata": {},
   "outputs": [
    {
     "name": "stderr",
     "output_type": "stream",
     "text": [
      "C:\\Users\\Camilo\\AppData\\Local\\Temp\\ipykernel_4464\\1050825071.py:1: FutureWarning: Could not cast to float64, falling back to object. This behavior is deprecated. In a future version, when a dtype is passed to 'DataFrame', either all columns will be cast to that dtype, or a TypeError will be raised\n",
      "  llama3_within_df = pd.DataFrame({'Project': [item['train'] for item in WITHIN_PROJECTS]}, dtype='float64')\n"
     ]
    },
    {
     "name": "stdout",
     "output_type": "stream",
     "text": [
      "Running inference for project: appceleratorstudio\n",
      "within project inference using model #0 for project appceleratorstudio\n",
      "Loading model from Hugging Face...\n"
     ]
    },
    {
     "name": "stderr",
     "output_type": "stream",
     "text": [
      "c:\\Users\\Camilo\\AppData\\Local\\Programs\\Python\\Python39\\lib\\site-packages\\accelerate\\utils\\modeling.py:841: UserWarning: expandable_segments not supported on this platform (Triggered internally at C:\\actions-runner\\_work\\pytorch\\pytorch\\builder\\windows\\pytorch\\c10/cuda/CUDAAllocatorConfig.h:28.)\n",
      "  _ = torch.tensor([0], device=i)\n",
      "Some weights of LlamaForSequenceClassification were not initialized from the model checkpoint at meta-llama/Llama-3.2-1B and are newly initialized: ['score.weight']\n",
      "You should probably TRAIN this model on a down-stream task to be able to use it for predictions and inference.\n"
     ]
    },
    {
     "name": "stdout",
     "output_type": "stream",
     "text": [
      "Batch Size:  512\n",
      "using llama3 tokenizer!\n"
     ]
    },
    {
     "name": "stderr",
     "output_type": "stream",
     "text": [
      "C:\\Users\\Camilo\\AppData\\Local\\Temp\\ipykernel_4464\\2661113312.py:245: UserWarning: To copy construct from a tensor, it is recommended to use sourceTensor.clone().detach() or sourceTensor.clone().detach().requires_grad_(True), rather than torch.tensor(sourceTensor).\n",
      "  test_seq = torch.tensor(tokens_test['input_ids'])\n"
     ]
    },
    {
     "name": "stdout",
     "output_type": "stream",
     "text": [
      "MAE for project appceleratorstudio: 1.65\n",
      "MDAE for project appceleratorstudio: 1.45\n",
      "Standard Accuracy for project appceleratorstudio: 63.86\n",
      "Running inference for project: aptanastudio\n",
      "within project inference using model #0 for project aptanastudio\n",
      "Loading model from Hugging Face...\n"
     ]
    },
    {
     "name": "stderr",
     "output_type": "stream",
     "text": [
      "Some weights of LlamaForSequenceClassification were not initialized from the model checkpoint at meta-llama/Llama-3.2-1B and are newly initialized: ['score.weight']\n",
      "You should probably TRAIN this model on a down-stream task to be able to use it for predictions and inference.\n"
     ]
    },
    {
     "name": "stdout",
     "output_type": "stream",
     "text": [
      "Batch Size:  149\n",
      "using llama3 tokenizer!\n",
      "MAE for project aptanastudio: 3.74\n",
      "MDAE for project aptanastudio: 2.9\n",
      "Standard Accuracy for project aptanastudio: 44.37\n",
      "Running inference for project: bamboo\n",
      "within project inference using model #0 for project bamboo\n",
      "Loading model from Hugging Face...\n"
     ]
    },
    {
     "name": "stderr",
     "output_type": "stream",
     "text": [
      "Some weights of LlamaForSequenceClassification were not initialized from the model checkpoint at meta-llama/Llama-3.2-1B and are newly initialized: ['score.weight']\n",
      "You should probably TRAIN this model on a down-stream task to be able to use it for predictions and inference.\n"
     ]
    },
    {
     "name": "stdout",
     "output_type": "stream",
     "text": [
      "Batch Size:  93\n",
      "using llama3 tokenizer!\n",
      "MAE for project bamboo: 1.09\n",
      "MDAE for project bamboo: 1.05\n",
      "Standard Accuracy for project bamboo: 20.44\n",
      "Running inference for project: clover\n",
      "within project inference using model #0 for project clover\n",
      "Loading model from Hugging Face...\n"
     ]
    },
    {
     "name": "stderr",
     "output_type": "stream",
     "text": [
      "Some weights of LlamaForSequenceClassification were not initialized from the model checkpoint at meta-llama/Llama-3.2-1B and are newly initialized: ['score.weight']\n",
      "You should probably TRAIN this model on a down-stream task to be able to use it for predictions and inference.\n"
     ]
    },
    {
     "name": "stdout",
     "output_type": "stream",
     "text": [
      "Batch Size:  69\n",
      "using llama3 tokenizer!\n",
      "MAE for project clover: 4.08\n",
      "MDAE for project clover: 2.02\n",
      "Standard Accuracy for project clover: 8.59\n",
      "Running inference for project: datamanagement\n",
      "within project inference using model #0 for project datamanagement\n",
      "Loading model from Hugging Face...\n"
     ]
    },
    {
     "name": "stderr",
     "output_type": "stream",
     "text": [
      "Some weights of LlamaForSequenceClassification were not initialized from the model checkpoint at meta-llama/Llama-3.2-1B and are newly initialized: ['score.weight']\n",
      "You should probably TRAIN this model on a down-stream task to be able to use it for predictions and inference.\n"
     ]
    },
    {
     "name": "stdout",
     "output_type": "stream",
     "text": [
      "Batch Size:  512\n",
      "using llama3 tokenizer!\n",
      "MAE for project datamanagement: 6.45\n",
      "MDAE for project datamanagement: 3.54\n",
      "Standard Accuracy for project datamanagement: 16.7\n",
      "Running inference for project: duracloud\n",
      "within project inference using model #0 for project duracloud\n",
      "Loading model from Hugging Face...\n"
     ]
    },
    {
     "name": "stderr",
     "output_type": "stream",
     "text": [
      "Some weights of LlamaForSequenceClassification were not initialized from the model checkpoint at meta-llama/Llama-3.2-1B and are newly initialized: ['score.weight']\n",
      "You should probably TRAIN this model on a down-stream task to be able to use it for predictions and inference.\n"
     ]
    },
    {
     "name": "stdout",
     "output_type": "stream",
     "text": [
      "Batch Size:  119\n",
      "using llama3 tokenizer!\n",
      "MAE for project duracloud: 1.05\n",
      "MDAE for project duracloud: 0.89\n",
      "Standard Accuracy for project duracloud: 19.37\n",
      "Running inference for project: jirasoftware\n",
      "within project inference using model #0 for project jirasoftware\n",
      "Loading model from Hugging Face...\n"
     ]
    },
    {
     "name": "stderr",
     "output_type": "stream",
     "text": [
      "Some weights of LlamaForSequenceClassification were not initialized from the model checkpoint at meta-llama/Llama-3.2-1B and are newly initialized: ['score.weight']\n",
      "You should probably TRAIN this model on a down-stream task to be able to use it for predictions and inference.\n"
     ]
    },
    {
     "name": "stdout",
     "output_type": "stream",
     "text": [
      "Batch Size:  63\n",
      "using llama3 tokenizer!\n",
      "MAE for project jirasoftware: 2.05\n",
      "MDAE for project jirasoftware: 1.59\n",
      "Standard Accuracy for project jirasoftware: 34.87\n",
      "Running inference for project: mesos\n",
      "within project inference using model #0 for project mesos\n",
      "Loading model from Hugging Face...\n"
     ]
    },
    {
     "name": "stderr",
     "output_type": "stream",
     "text": [
      "Some weights of LlamaForSequenceClassification were not initialized from the model checkpoint at meta-llama/Llama-3.2-1B and are newly initialized: ['score.weight']\n",
      "You should probably TRAIN this model on a down-stream task to be able to use it for predictions and inference.\n"
     ]
    },
    {
     "name": "stdout",
     "output_type": "stream",
     "text": [
      "Batch Size:  302\n",
      "using llama3 tokenizer!\n",
      "MAE for project mesos: 1.38\n",
      "MDAE for project mesos: 1.1\n",
      "Standard Accuracy for project mesos: 38.67\n",
      "Running inference for project: moodle\n",
      "within project inference using model #0 for project moodle\n",
      "Loading model from Hugging Face...\n"
     ]
    },
    {
     "name": "stderr",
     "output_type": "stream",
     "text": [
      "Some weights of LlamaForSequenceClassification were not initialized from the model checkpoint at meta-llama/Llama-3.2-1B and are newly initialized: ['score.weight']\n",
      "You should probably TRAIN this model on a down-stream task to be able to use it for predictions and inference.\n"
     ]
    },
    {
     "name": "stdout",
     "output_type": "stream",
     "text": [
      "Batch Size:  209\n",
      "using llama3 tokenizer!\n",
      "MAE for project moodle: 11.61\n",
      "MDAE for project moodle: 8.72\n",
      "Standard Accuracy for project moodle: -74.63\n",
      "Running inference for project: mule\n",
      "within project inference using model #0 for project mule\n",
      "Loading model from Hugging Face...\n"
     ]
    },
    {
     "name": "stderr",
     "output_type": "stream",
     "text": [
      "Some weights of LlamaForSequenceClassification were not initialized from the model checkpoint at meta-llama/Llama-3.2-1B and are newly initialized: ['score.weight']\n",
      "You should probably TRAIN this model on a down-stream task to be able to use it for predictions and inference.\n"
     ]
    },
    {
     "name": "stdout",
     "output_type": "stream",
     "text": [
      "Batch Size:  159\n",
      "using llama3 tokenizer!\n",
      "MAE for project mule: 2.65\n",
      "MDAE for project mule: 2.27\n",
      "Standard Accuracy for project mule: 35.72\n",
      "Running inference for project: mulestudio\n",
      "within project inference using model #0 for project mulestudio\n",
      "Loading model from Hugging Face...\n"
     ]
    },
    {
     "name": "stderr",
     "output_type": "stream",
     "text": [
      "Some weights of LlamaForSequenceClassification were not initialized from the model checkpoint at meta-llama/Llama-3.2-1B and are newly initialized: ['score.weight']\n",
      "You should probably TRAIN this model on a down-stream task to be able to use it for predictions and inference.\n"
     ]
    },
    {
     "name": "stdout",
     "output_type": "stream",
     "text": [
      "Batch Size:  131\n",
      "using llama3 tokenizer!\n",
      "MAE for project mulestudio: 3.7\n",
      "MDAE for project mulestudio: 2.65\n",
      "Standard Accuracy for project mulestudio: 42.59\n",
      "Running inference for project: springxd\n",
      "within project inference using model #0 for project springxd\n",
      "Loading model from Hugging Face...\n"
     ]
    },
    {
     "name": "stderr",
     "output_type": "stream",
     "text": [
      "Some weights of LlamaForSequenceClassification were not initialized from the model checkpoint at meta-llama/Llama-3.2-1B and are newly initialized: ['score.weight']\n",
      "You should probably TRAIN this model on a down-stream task to be able to use it for predictions and inference.\n"
     ]
    },
    {
     "name": "stdout",
     "output_type": "stream",
     "text": [
      "Batch Size:  512\n",
      "using llama3 tokenizer!\n",
      "MAE for project springxd: 2.07\n",
      "MDAE for project springxd: 1.79\n",
      "Standard Accuracy for project springxd: 25.47\n",
      "Running inference for project: talenddataquality\n",
      "within project inference using model #0 for project talenddataquality\n",
      "Loading model from Hugging Face...\n"
     ]
    },
    {
     "name": "stderr",
     "output_type": "stream",
     "text": [
      "Some weights of LlamaForSequenceClassification were not initialized from the model checkpoint at meta-llama/Llama-3.2-1B and are newly initialized: ['score.weight']\n",
      "You should probably TRAIN this model on a down-stream task to be able to use it for predictions and inference.\n"
     ]
    },
    {
     "name": "stdout",
     "output_type": "stream",
     "text": [
      "Batch Size:  248\n",
      "using llama3 tokenizer!\n",
      "MAE for project talenddataquality: 3.79\n",
      "MDAE for project talenddataquality: 3.45\n",
      "Standard Accuracy for project talenddataquality: -29.97\n",
      "Running inference for project: talendesb\n",
      "within project inference using model #0 for project talendesb\n",
      "Loading model from Hugging Face...\n"
     ]
    },
    {
     "name": "stderr",
     "output_type": "stream",
     "text": [
      "Some weights of LlamaForSequenceClassification were not initialized from the model checkpoint at meta-llama/Llama-3.2-1B and are newly initialized: ['score.weight']\n",
      "You should probably TRAIN this model on a down-stream task to be able to use it for predictions and inference.\n"
     ]
    },
    {
     "name": "stdout",
     "output_type": "stream",
     "text": [
      "Batch Size:  156\n",
      "using llama3 tokenizer!\n",
      "MAE for project talendesb: 1.08\n",
      "MDAE for project talendesb: 0.86\n",
      "Standard Accuracy for project talendesb: 30.09\n",
      "Running inference for project: titanium\n",
      "within project inference using model #0 for project titanium\n",
      "Loading model from Hugging Face...\n"
     ]
    },
    {
     "name": "stderr",
     "output_type": "stream",
     "text": [
      "Some weights of LlamaForSequenceClassification were not initialized from the model checkpoint at meta-llama/Llama-3.2-1B and are newly initialized: ['score.weight']\n",
      "You should probably TRAIN this model on a down-stream task to be able to use it for predictions and inference.\n"
     ]
    },
    {
     "name": "stdout",
     "output_type": "stream",
     "text": [
      "Batch Size:  405\n",
      "using llama3 tokenizer!\n",
      "MAE for project titanium: 2.46\n",
      "MDAE for project titanium: 1.84\n",
      "Standard Accuracy for project titanium: 48.23\n",
      "Running inference for project: usergrid\n",
      "within project inference using model #0 for project usergrid\n",
      "Loading model from Hugging Face...\n"
     ]
    },
    {
     "name": "stderr",
     "output_type": "stream",
     "text": [
      "Some weights of LlamaForSequenceClassification were not initialized from the model checkpoint at meta-llama/Llama-3.2-1B and are newly initialized: ['score.weight']\n",
      "You should probably TRAIN this model on a down-stream task to be able to use it for predictions and inference.\n"
     ]
    },
    {
     "name": "stdout",
     "output_type": "stream",
     "text": [
      "Batch Size:  86\n",
      "using llama3 tokenizer!\n",
      "MAE for project usergrid: 1.51\n",
      "MDAE for project usergrid: 1.28\n",
      "Standard Accuracy for project usergrid: 38.45\n",
      "Running inference for project: appceleratorstudio\n",
      "within project inference using model #2 for project appceleratorstudio\n",
      "Loading model from Hugging Face...\n"
     ]
    },
    {
     "name": "stderr",
     "output_type": "stream",
     "text": [
      "Some weights of LlamaForSequenceClassification were not initialized from the model checkpoint at meta-llama/Llama-3.2-1B and are newly initialized: ['score.weight']\n",
      "You should probably TRAIN this model on a down-stream task to be able to use it for predictions and inference.\n"
     ]
    },
    {
     "name": "stdout",
     "output_type": "stream",
     "text": [
      "Batch Size:  512\n",
      "using word-level tokenizer!\n",
      "MAE for project appceleratorstudio: 1.5\n",
      "MDAE for project appceleratorstudio: 1.09\n",
      "Standard Accuracy for project appceleratorstudio: 67.29\n",
      "Running inference for project: aptanastudio\n",
      "within project inference using model #2 for project aptanastudio\n",
      "Loading model from Hugging Face...\n"
     ]
    },
    {
     "name": "stderr",
     "output_type": "stream",
     "text": [
      "Some weights of LlamaForSequenceClassification were not initialized from the model checkpoint at meta-llama/Llama-3.2-1B and are newly initialized: ['score.weight']\n",
      "You should probably TRAIN this model on a down-stream task to be able to use it for predictions and inference.\n"
     ]
    },
    {
     "name": "stdout",
     "output_type": "stream",
     "text": [
      "Batch Size:  149\n",
      "using word-level tokenizer!\n",
      "MAE for project aptanastudio: 3.76\n",
      "MDAE for project aptanastudio: 2.96\n",
      "Standard Accuracy for project aptanastudio: 44.05\n",
      "Running inference for project: bamboo\n",
      "within project inference using model #2 for project bamboo\n",
      "Loading model from Hugging Face...\n"
     ]
    },
    {
     "name": "stderr",
     "output_type": "stream",
     "text": [
      "Some weights of LlamaForSequenceClassification were not initialized from the model checkpoint at meta-llama/Llama-3.2-1B and are newly initialized: ['score.weight']\n",
      "You should probably TRAIN this model on a down-stream task to be able to use it for predictions and inference.\n"
     ]
    },
    {
     "name": "stdout",
     "output_type": "stream",
     "text": [
      "Batch Size:  93\n",
      "using word-level tokenizer!\n",
      "MAE for project bamboo: 1.43\n",
      "MDAE for project bamboo: 1.12\n",
      "Standard Accuracy for project bamboo: -3.79\n",
      "Running inference for project: clover\n",
      "within project inference using model #2 for project clover\n",
      "Loading model from Hugging Face...\n"
     ]
    },
    {
     "name": "stderr",
     "output_type": "stream",
     "text": [
      "Some weights of LlamaForSequenceClassification were not initialized from the model checkpoint at meta-llama/Llama-3.2-1B and are newly initialized: ['score.weight']\n",
      "You should probably TRAIN this model on a down-stream task to be able to use it for predictions and inference.\n"
     ]
    },
    {
     "name": "stdout",
     "output_type": "stream",
     "text": [
      "Batch Size:  69\n",
      "using word-level tokenizer!\n",
      "MAE for project clover: 4.9\n",
      "MDAE for project clover: 3.13\n",
      "Standard Accuracy for project clover: -9.83\n",
      "Running inference for project: datamanagement\n",
      "within project inference using model #2 for project datamanagement\n",
      "Loading model from Hugging Face...\n"
     ]
    },
    {
     "name": "stderr",
     "output_type": "stream",
     "text": [
      "Some weights of LlamaForSequenceClassification were not initialized from the model checkpoint at meta-llama/Llama-3.2-1B and are newly initialized: ['score.weight']\n",
      "You should probably TRAIN this model on a down-stream task to be able to use it for predictions and inference.\n"
     ]
    },
    {
     "name": "stdout",
     "output_type": "stream",
     "text": [
      "Batch Size:  512\n",
      "using word-level tokenizer!\n",
      "MAE for project datamanagement: 16.79\n",
      "MDAE for project datamanagement: 15.9\n",
      "Standard Accuracy for project datamanagement: -116.75\n",
      "Running inference for project: duracloud\n",
      "within project inference using model #2 for project duracloud\n",
      "Loading model from Hugging Face...\n"
     ]
    },
    {
     "name": "stderr",
     "output_type": "stream",
     "text": [
      "Some weights of LlamaForSequenceClassification were not initialized from the model checkpoint at meta-llama/Llama-3.2-1B and are newly initialized: ['score.weight']\n",
      "You should probably TRAIN this model on a down-stream task to be able to use it for predictions and inference.\n"
     ]
    },
    {
     "name": "stdout",
     "output_type": "stream",
     "text": [
      "Batch Size:  119\n",
      "using word-level tokenizer!\n",
      "MAE for project duracloud: 1.37\n",
      "MDAE for project duracloud: 1.12\n",
      "Standard Accuracy for project duracloud: -4.53\n",
      "Running inference for project: jirasoftware\n",
      "within project inference using model #2 for project jirasoftware\n",
      "Loading model from Hugging Face...\n"
     ]
    },
    {
     "name": "stderr",
     "output_type": "stream",
     "text": [
      "Some weights of LlamaForSequenceClassification were not initialized from the model checkpoint at meta-llama/Llama-3.2-1B and are newly initialized: ['score.weight']\n",
      "You should probably TRAIN this model on a down-stream task to be able to use it for predictions and inference.\n"
     ]
    },
    {
     "name": "stdout",
     "output_type": "stream",
     "text": [
      "Batch Size:  63\n",
      "using word-level tokenizer!\n",
      "MAE for project jirasoftware: 2.32\n",
      "MDAE for project jirasoftware: 1.95\n",
      "Standard Accuracy for project jirasoftware: 26.38\n",
      "Running inference for project: mesos\n",
      "within project inference using model #2 for project mesos\n",
      "Loading model from Hugging Face...\n"
     ]
    },
    {
     "name": "stderr",
     "output_type": "stream",
     "text": [
      "Some weights of LlamaForSequenceClassification were not initialized from the model checkpoint at meta-llama/Llama-3.2-1B and are newly initialized: ['score.weight']\n",
      "You should probably TRAIN this model on a down-stream task to be able to use it for predictions and inference.\n"
     ]
    },
    {
     "name": "stdout",
     "output_type": "stream",
     "text": [
      "Batch Size:  302\n",
      "using word-level tokenizer!\n",
      "MAE for project mesos: 1.51\n",
      "MDAE for project mesos: 1.38\n",
      "Standard Accuracy for project mesos: 32.94\n",
      "Running inference for project: moodle\n",
      "within project inference using model #2 for project moodle\n",
      "Loading model from Hugging Face...\n"
     ]
    },
    {
     "name": "stderr",
     "output_type": "stream",
     "text": [
      "Some weights of LlamaForSequenceClassification were not initialized from the model checkpoint at meta-llama/Llama-3.2-1B and are newly initialized: ['score.weight']\n",
      "You should probably TRAIN this model on a down-stream task to be able to use it for predictions and inference.\n"
     ]
    },
    {
     "name": "stdout",
     "output_type": "stream",
     "text": [
      "Batch Size:  209\n",
      "using word-level tokenizer!\n",
      "MAE for project moodle: 11.64\n",
      "MDAE for project moodle: 12.64\n",
      "Standard Accuracy for project moodle: -75.04\n",
      "Running inference for project: mule\n",
      "within project inference using model #2 for project mule\n",
      "Loading model from Hugging Face...\n"
     ]
    },
    {
     "name": "stderr",
     "output_type": "stream",
     "text": [
      "Some weights of LlamaForSequenceClassification were not initialized from the model checkpoint at meta-llama/Llama-3.2-1B and are newly initialized: ['score.weight']\n",
      "You should probably TRAIN this model on a down-stream task to be able to use it for predictions and inference.\n"
     ]
    },
    {
     "name": "stdout",
     "output_type": "stream",
     "text": [
      "Batch Size:  159\n",
      "using word-level tokenizer!\n",
      "MAE for project mule: 2.69\n",
      "MDAE for project mule: 2.31\n",
      "Standard Accuracy for project mule: 34.83\n",
      "Running inference for project: mulestudio\n",
      "within project inference using model #2 for project mulestudio\n",
      "Loading model from Hugging Face...\n"
     ]
    },
    {
     "name": "stderr",
     "output_type": "stream",
     "text": [
      "Some weights of LlamaForSequenceClassification were not initialized from the model checkpoint at meta-llama/Llama-3.2-1B and are newly initialized: ['score.weight']\n",
      "You should probably TRAIN this model on a down-stream task to be able to use it for predictions and inference.\n"
     ]
    },
    {
     "name": "stdout",
     "output_type": "stream",
     "text": [
      "Batch Size:  131\n",
      "using word-level tokenizer!\n",
      "MAE for project mulestudio: 3.56\n",
      "MDAE for project mulestudio: 2.55\n",
      "Standard Accuracy for project mulestudio: 44.75\n",
      "Running inference for project: springxd\n",
      "within project inference using model #2 for project springxd\n",
      "Loading model from Hugging Face...\n"
     ]
    },
    {
     "name": "stderr",
     "output_type": "stream",
     "text": [
      "Some weights of LlamaForSequenceClassification were not initialized from the model checkpoint at meta-llama/Llama-3.2-1B and are newly initialized: ['score.weight']\n",
      "You should probably TRAIN this model on a down-stream task to be able to use it for predictions and inference.\n"
     ]
    },
    {
     "name": "stdout",
     "output_type": "stream",
     "text": [
      "Batch Size:  512\n",
      "using word-level tokenizer!\n",
      "MAE for project springxd: 1.93\n",
      "MDAE for project springxd: 1.52\n",
      "Standard Accuracy for project springxd: 30.6\n",
      "Running inference for project: talenddataquality\n",
      "within project inference using model #2 for project talenddataquality\n",
      "Loading model from Hugging Face...\n"
     ]
    },
    {
     "name": "stderr",
     "output_type": "stream",
     "text": [
      "Some weights of LlamaForSequenceClassification were not initialized from the model checkpoint at meta-llama/Llama-3.2-1B and are newly initialized: ['score.weight']\n",
      "You should probably TRAIN this model on a down-stream task to be able to use it for predictions and inference.\n"
     ]
    },
    {
     "name": "stdout",
     "output_type": "stream",
     "text": [
      "Batch Size:  248\n",
      "using word-level tokenizer!\n",
      "MAE for project talenddataquality: 4.67\n",
      "MDAE for project talenddataquality: 4.56\n",
      "Standard Accuracy for project talenddataquality: -60.21\n",
      "Running inference for project: talendesb\n",
      "within project inference using model #2 for project talendesb\n",
      "Loading model from Hugging Face...\n"
     ]
    },
    {
     "name": "stderr",
     "output_type": "stream",
     "text": [
      "Some weights of LlamaForSequenceClassification were not initialized from the model checkpoint at meta-llama/Llama-3.2-1B and are newly initialized: ['score.weight']\n",
      "You should probably TRAIN this model on a down-stream task to be able to use it for predictions and inference.\n"
     ]
    },
    {
     "name": "stdout",
     "output_type": "stream",
     "text": [
      "Batch Size:  156\n",
      "using word-level tokenizer!\n",
      "MAE for project talendesb: 1.71\n",
      "MDAE for project talendesb: 1.48\n",
      "Standard Accuracy for project talendesb: -10.36\n",
      "Running inference for project: titanium\n",
      "within project inference using model #2 for project titanium\n",
      "Loading model from Hugging Face...\n"
     ]
    },
    {
     "name": "stderr",
     "output_type": "stream",
     "text": [
      "Some weights of LlamaForSequenceClassification were not initialized from the model checkpoint at meta-llama/Llama-3.2-1B and are newly initialized: ['score.weight']\n",
      "You should probably TRAIN this model on a down-stream task to be able to use it for predictions and inference.\n"
     ]
    },
    {
     "name": "stdout",
     "output_type": "stream",
     "text": [
      "Batch Size:  405\n",
      "using word-level tokenizer!\n",
      "MAE for project titanium: 2.34\n",
      "MDAE for project titanium: 1.66\n",
      "Standard Accuracy for project titanium: 50.8\n",
      "Running inference for project: usergrid\n",
      "within project inference using model #2 for project usergrid\n",
      "Loading model from Hugging Face...\n"
     ]
    },
    {
     "name": "stderr",
     "output_type": "stream",
     "text": [
      "Some weights of LlamaForSequenceClassification were not initialized from the model checkpoint at meta-llama/Llama-3.2-1B and are newly initialized: ['score.weight']\n",
      "You should probably TRAIN this model on a down-stream task to be able to use it for predictions and inference.\n"
     ]
    },
    {
     "name": "stdout",
     "output_type": "stream",
     "text": [
      "Batch Size:  86\n",
      "using word-level tokenizer!\n",
      "MAE for project usergrid: 1.52\n",
      "MDAE for project usergrid: 1.31\n",
      "Standard Accuracy for project usergrid: 38.1\n",
      "Running inference for project: appceleratorstudio\n",
      "within project inference using model #6 for project appceleratorstudio\n",
      "Loading model from Hugging Face...\n"
     ]
    },
    {
     "name": "stderr",
     "output_type": "stream",
     "text": [
      "Some weights of LlamaForSequenceClassification were not initialized from the model checkpoint at meta-llama/Llama-3.2-1B and are newly initialized: ['score.weight']\n",
      "You should probably TRAIN this model on a down-stream task to be able to use it for predictions and inference.\n"
     ]
    },
    {
     "name": "stdout",
     "output_type": "stream",
     "text": [
      "Batch Size:  512\n",
      "using wordpiece tokenizer!\n",
      "MAE for project appceleratorstudio: 1.67\n",
      "MDAE for project appceleratorstudio: 1.37\n",
      "Standard Accuracy for project appceleratorstudio: 63.46\n",
      "Running inference for project: aptanastudio\n",
      "within project inference using model #6 for project aptanastudio\n",
      "Loading model from Hugging Face...\n"
     ]
    },
    {
     "name": "stderr",
     "output_type": "stream",
     "text": [
      "Some weights of LlamaForSequenceClassification were not initialized from the model checkpoint at meta-llama/Llama-3.2-1B and are newly initialized: ['score.weight']\n",
      "You should probably TRAIN this model on a down-stream task to be able to use it for predictions and inference.\n"
     ]
    },
    {
     "name": "stdout",
     "output_type": "stream",
     "text": [
      "Batch Size:  149\n",
      "using wordpiece tokenizer!\n",
      "MAE for project aptanastudio: 4.04\n",
      "MDAE for project aptanastudio: 2.95\n",
      "Standard Accuracy for project aptanastudio: 39.9\n",
      "Running inference for project: bamboo\n",
      "within project inference using model #6 for project bamboo\n",
      "Loading model from Hugging Face...\n"
     ]
    },
    {
     "name": "stderr",
     "output_type": "stream",
     "text": [
      "Some weights of LlamaForSequenceClassification were not initialized from the model checkpoint at meta-llama/Llama-3.2-1B and are newly initialized: ['score.weight']\n",
      "You should probably TRAIN this model on a down-stream task to be able to use it for predictions and inference.\n"
     ]
    },
    {
     "name": "stdout",
     "output_type": "stream",
     "text": [
      "Batch Size:  93\n",
      "using wordpiece tokenizer!\n",
      "MAE for project bamboo: 1.17\n",
      "MDAE for project bamboo: 1.05\n",
      "Standard Accuracy for project bamboo: 15.34\n",
      "Running inference for project: clover\n",
      "within project inference using model #6 for project clover\n",
      "Loading model from Hugging Face...\n"
     ]
    },
    {
     "name": "stderr",
     "output_type": "stream",
     "text": [
      "Some weights of LlamaForSequenceClassification were not initialized from the model checkpoint at meta-llama/Llama-3.2-1B and are newly initialized: ['score.weight']\n",
      "You should probably TRAIN this model on a down-stream task to be able to use it for predictions and inference.\n"
     ]
    },
    {
     "name": "stdout",
     "output_type": "stream",
     "text": [
      "Batch Size:  69\n",
      "using wordpiece tokenizer!\n",
      "MAE for project clover: 3.84\n",
      "MDAE for project clover: 1.76\n",
      "Standard Accuracy for project clover: 13.88\n",
      "Running inference for project: datamanagement\n",
      "within project inference using model #6 for project datamanagement\n",
      "Loading model from Hugging Face...\n"
     ]
    },
    {
     "name": "stderr",
     "output_type": "stream",
     "text": [
      "Some weights of LlamaForSequenceClassification were not initialized from the model checkpoint at meta-llama/Llama-3.2-1B and are newly initialized: ['score.weight']\n",
      "You should probably TRAIN this model on a down-stream task to be able to use it for predictions and inference.\n"
     ]
    },
    {
     "name": "stdout",
     "output_type": "stream",
     "text": [
      "Batch Size:  512\n",
      "using wordpiece tokenizer!\n",
      "MAE for project datamanagement: 6.78\n",
      "MDAE for project datamanagement: 3.96\n",
      "Standard Accuracy for project datamanagement: 12.39\n",
      "Running inference for project: duracloud\n",
      "within project inference using model #6 for project duracloud\n",
      "Loading model from Hugging Face...\n"
     ]
    },
    {
     "name": "stderr",
     "output_type": "stream",
     "text": [
      "Some weights of LlamaForSequenceClassification were not initialized from the model checkpoint at meta-llama/Llama-3.2-1B and are newly initialized: ['score.weight']\n",
      "You should probably TRAIN this model on a down-stream task to be able to use it for predictions and inference.\n"
     ]
    },
    {
     "name": "stdout",
     "output_type": "stream",
     "text": [
      "Batch Size:  119\n",
      "using wordpiece tokenizer!\n",
      "MAE for project duracloud: 1.29\n",
      "MDAE for project duracloud: 1.33\n",
      "Standard Accuracy for project duracloud: 1.52\n",
      "Running inference for project: jirasoftware\n",
      "within project inference using model #6 for project jirasoftware\n",
      "Loading model from Hugging Face...\n"
     ]
    },
    {
     "name": "stderr",
     "output_type": "stream",
     "text": [
      "Some weights of LlamaForSequenceClassification were not initialized from the model checkpoint at meta-llama/Llama-3.2-1B and are newly initialized: ['score.weight']\n",
      "You should probably TRAIN this model on a down-stream task to be able to use it for predictions and inference.\n"
     ]
    },
    {
     "name": "stdout",
     "output_type": "stream",
     "text": [
      "Batch Size:  63\n",
      "using wordpiece tokenizer!\n",
      "MAE for project jirasoftware: 2.13\n",
      "MDAE for project jirasoftware: 1.73\n",
      "Standard Accuracy for project jirasoftware: 32.32\n",
      "Running inference for project: mesos\n",
      "within project inference using model #6 for project mesos\n",
      "Loading model from Hugging Face...\n"
     ]
    },
    {
     "name": "stderr",
     "output_type": "stream",
     "text": [
      "Some weights of LlamaForSequenceClassification were not initialized from the model checkpoint at meta-llama/Llama-3.2-1B and are newly initialized: ['score.weight']\n",
      "You should probably TRAIN this model on a down-stream task to be able to use it for predictions and inference.\n"
     ]
    },
    {
     "name": "stdout",
     "output_type": "stream",
     "text": [
      "Batch Size:  302\n",
      "using wordpiece tokenizer!\n",
      "MAE for project mesos: 1.19\n",
      "MDAE for project mesos: 0.88\n",
      "Standard Accuracy for project mesos: 47.17\n",
      "Running inference for project: moodle\n",
      "within project inference using model #6 for project moodle\n",
      "Loading model from Hugging Face...\n"
     ]
    },
    {
     "name": "stderr",
     "output_type": "stream",
     "text": [
      "Some weights of LlamaForSequenceClassification were not initialized from the model checkpoint at meta-llama/Llama-3.2-1B and are newly initialized: ['score.weight']\n",
      "You should probably TRAIN this model on a down-stream task to be able to use it for predictions and inference.\n"
     ]
    },
    {
     "name": "stdout",
     "output_type": "stream",
     "text": [
      "Batch Size:  209\n",
      "using wordpiece tokenizer!\n",
      "MAE for project moodle: 13.81\n",
      "MDAE for project moodle: 14.3\n",
      "Standard Accuracy for project moodle: -107.67\n",
      "Running inference for project: mule\n",
      "within project inference using model #6 for project mule\n",
      "Loading model from Hugging Face...\n"
     ]
    },
    {
     "name": "stderr",
     "output_type": "stream",
     "text": [
      "Some weights of LlamaForSequenceClassification were not initialized from the model checkpoint at meta-llama/Llama-3.2-1B and are newly initialized: ['score.weight']\n",
      "You should probably TRAIN this model on a down-stream task to be able to use it for predictions and inference.\n"
     ]
    },
    {
     "name": "stdout",
     "output_type": "stream",
     "text": [
      "Batch Size:  159\n",
      "using wordpiece tokenizer!\n",
      "MAE for project mule: 2.8\n",
      "MDAE for project mule: 2.45\n",
      "Standard Accuracy for project mule: 32.16\n",
      "Running inference for project: mulestudio\n",
      "within project inference using model #6 for project mulestudio\n",
      "Loading model from Hugging Face...\n"
     ]
    },
    {
     "name": "stderr",
     "output_type": "stream",
     "text": [
      "Some weights of LlamaForSequenceClassification were not initialized from the model checkpoint at meta-llama/Llama-3.2-1B and are newly initialized: ['score.weight']\n",
      "You should probably TRAIN this model on a down-stream task to be able to use it for predictions and inference.\n"
     ]
    },
    {
     "name": "stdout",
     "output_type": "stream",
     "text": [
      "Batch Size:  131\n",
      "using wordpiece tokenizer!\n",
      "MAE for project mulestudio: 3.84\n",
      "MDAE for project mulestudio: 2.61\n",
      "Standard Accuracy for project mulestudio: 40.44\n",
      "Running inference for project: springxd\n",
      "within project inference using model #6 for project springxd\n",
      "Loading model from Hugging Face...\n"
     ]
    },
    {
     "name": "stderr",
     "output_type": "stream",
     "text": [
      "Some weights of LlamaForSequenceClassification were not initialized from the model checkpoint at meta-llama/Llama-3.2-1B and are newly initialized: ['score.weight']\n",
      "You should probably TRAIN this model on a down-stream task to be able to use it for predictions and inference.\n"
     ]
    },
    {
     "name": "stdout",
     "output_type": "stream",
     "text": [
      "Batch Size:  512\n",
      "using wordpiece tokenizer!\n",
      "MAE for project springxd: 1.85\n",
      "MDAE for project springxd: 1.47\n",
      "Standard Accuracy for project springxd: 33.44\n",
      "Running inference for project: talenddataquality\n",
      "within project inference using model #6 for project talenddataquality\n",
      "Loading model from Hugging Face...\n"
     ]
    },
    {
     "name": "stderr",
     "output_type": "stream",
     "text": [
      "Some weights of LlamaForSequenceClassification were not initialized from the model checkpoint at meta-llama/Llama-3.2-1B and are newly initialized: ['score.weight']\n",
      "You should probably TRAIN this model on a down-stream task to be able to use it for predictions and inference.\n"
     ]
    },
    {
     "name": "stdout",
     "output_type": "stream",
     "text": [
      "Batch Size:  248\n",
      "using wordpiece tokenizer!\n",
      "MAE for project talenddataquality: 3.75\n",
      "MDAE for project talenddataquality: 3.62\n",
      "Standard Accuracy for project talenddataquality: -28.72\n",
      "Running inference for project: talendesb\n",
      "within project inference using model #6 for project talendesb\n",
      "Loading model from Hugging Face...\n"
     ]
    },
    {
     "name": "stderr",
     "output_type": "stream",
     "text": [
      "Some weights of LlamaForSequenceClassification were not initialized from the model checkpoint at meta-llama/Llama-3.2-1B and are newly initialized: ['score.weight']\n",
      "You should probably TRAIN this model on a down-stream task to be able to use it for predictions and inference.\n"
     ]
    },
    {
     "name": "stdout",
     "output_type": "stream",
     "text": [
      "Batch Size:  156\n",
      "using wordpiece tokenizer!\n",
      "MAE for project talendesb: 1.05\n",
      "MDAE for project talendesb: 0.84\n",
      "Standard Accuracy for project talendesb: 31.96\n",
      "Running inference for project: titanium\n",
      "within project inference using model #6 for project titanium\n",
      "Loading model from Hugging Face...\n"
     ]
    },
    {
     "name": "stderr",
     "output_type": "stream",
     "text": [
      "Some weights of LlamaForSequenceClassification were not initialized from the model checkpoint at meta-llama/Llama-3.2-1B and are newly initialized: ['score.weight']\n",
      "You should probably TRAIN this model on a down-stream task to be able to use it for predictions and inference.\n"
     ]
    },
    {
     "name": "stdout",
     "output_type": "stream",
     "text": [
      "Batch Size:  405\n",
      "using wordpiece tokenizer!\n",
      "MAE for project titanium: 2.47\n",
      "MDAE for project titanium: 1.95\n",
      "Standard Accuracy for project titanium: 48.03\n",
      "Running inference for project: usergrid\n",
      "within project inference using model #6 for project usergrid\n",
      "Loading model from Hugging Face...\n"
     ]
    },
    {
     "name": "stderr",
     "output_type": "stream",
     "text": [
      "Some weights of LlamaForSequenceClassification were not initialized from the model checkpoint at meta-llama/Llama-3.2-1B and are newly initialized: ['score.weight']\n",
      "You should probably TRAIN this model on a down-stream task to be able to use it for predictions and inference.\n"
     ]
    },
    {
     "name": "stdout",
     "output_type": "stream",
     "text": [
      "Batch Size:  86\n",
      "using wordpiece tokenizer!\n",
      "MAE for project usergrid: 1.37\n",
      "MDAE for project usergrid: 1.13\n",
      "Standard Accuracy for project usergrid: 44.02\n",
      "Running inference for project: appceleratorstudio\n",
      "within project inference using model #7 for project appceleratorstudio\n",
      "Loading model from Hugging Face...\n"
     ]
    },
    {
     "name": "stderr",
     "output_type": "stream",
     "text": [
      "Some weights of LlamaForSequenceClassification were not initialized from the model checkpoint at meta-llama/Llama-3.2-1B and are newly initialized: ['score.weight']\n",
      "You should probably TRAIN this model on a down-stream task to be able to use it for predictions and inference.\n"
     ]
    },
    {
     "name": "stdout",
     "output_type": "stream",
     "text": [
      "Batch Size:  512\n",
      "using sentencepiece tokenizer!\n",
      "MAE for project appceleratorstudio: 1.64\n",
      "MDAE for project appceleratorstudio: 1.46\n",
      "Standard Accuracy for project appceleratorstudio: 64.25\n",
      "Running inference for project: aptanastudio\n",
      "within project inference using model #7 for project aptanastudio\n",
      "Loading model from Hugging Face...\n"
     ]
    },
    {
     "name": "stderr",
     "output_type": "stream",
     "text": [
      "Some weights of LlamaForSequenceClassification were not initialized from the model checkpoint at meta-llama/Llama-3.2-1B and are newly initialized: ['score.weight']\n",
      "You should probably TRAIN this model on a down-stream task to be able to use it for predictions and inference.\n"
     ]
    },
    {
     "name": "stdout",
     "output_type": "stream",
     "text": [
      "Batch Size:  149\n",
      "using sentencepiece tokenizer!\n",
      "MAE for project aptanastudio: 3.74\n",
      "MDAE for project aptanastudio: 2.67\n",
      "Standard Accuracy for project aptanastudio: 44.35\n",
      "Running inference for project: bamboo\n",
      "within project inference using model #7 for project bamboo\n",
      "Loading model from Hugging Face...\n"
     ]
    },
    {
     "name": "stderr",
     "output_type": "stream",
     "text": [
      "Some weights of LlamaForSequenceClassification were not initialized from the model checkpoint at meta-llama/Llama-3.2-1B and are newly initialized: ['score.weight']\n",
      "You should probably TRAIN this model on a down-stream task to be able to use it for predictions and inference.\n"
     ]
    },
    {
     "name": "stdout",
     "output_type": "stream",
     "text": [
      "Batch Size:  93\n",
      "using sentencepiece tokenizer!\n",
      "MAE for project bamboo: 0.97\n",
      "MDAE for project bamboo: 0.83\n",
      "Standard Accuracy for project bamboo: 29.34\n",
      "Running inference for project: clover\n",
      "within project inference using model #7 for project clover\n",
      "Loading model from Hugging Face...\n"
     ]
    },
    {
     "name": "stderr",
     "output_type": "stream",
     "text": [
      "Some weights of LlamaForSequenceClassification were not initialized from the model checkpoint at meta-llama/Llama-3.2-1B and are newly initialized: ['score.weight']\n",
      "You should probably TRAIN this model on a down-stream task to be able to use it for predictions and inference.\n"
     ]
    },
    {
     "name": "stdout",
     "output_type": "stream",
     "text": [
      "Batch Size:  69\n",
      "using sentencepiece tokenizer!\n",
      "MAE for project clover: 3.82\n",
      "MDAE for project clover: 1.42\n",
      "Standard Accuracy for project clover: 14.35\n",
      "Running inference for project: datamanagement\n",
      "within project inference using model #7 for project datamanagement\n",
      "Loading model from Hugging Face...\n"
     ]
    },
    {
     "name": "stderr",
     "output_type": "stream",
     "text": [
      "Some weights of LlamaForSequenceClassification were not initialized from the model checkpoint at meta-llama/Llama-3.2-1B and are newly initialized: ['score.weight']\n",
      "You should probably TRAIN this model on a down-stream task to be able to use it for predictions and inference.\n"
     ]
    },
    {
     "name": "stdout",
     "output_type": "stream",
     "text": [
      "Batch Size:  512\n",
      "using sentencepiece tokenizer!\n",
      "MAE for project datamanagement: 7.17\n",
      "MDAE for project datamanagement: 3.43\n",
      "Standard Accuracy for project datamanagement: 7.39\n",
      "Running inference for project: duracloud\n",
      "within project inference using model #7 for project duracloud\n",
      "Loading model from Hugging Face...\n"
     ]
    },
    {
     "name": "stderr",
     "output_type": "stream",
     "text": [
      "Some weights of LlamaForSequenceClassification were not initialized from the model checkpoint at meta-llama/Llama-3.2-1B and are newly initialized: ['score.weight']\n",
      "You should probably TRAIN this model on a down-stream task to be able to use it for predictions and inference.\n"
     ]
    },
    {
     "name": "stdout",
     "output_type": "stream",
     "text": [
      "Batch Size:  119\n",
      "using sentencepiece tokenizer!\n",
      "MAE for project duracloud: 1.1\n",
      "MDAE for project duracloud: 1.02\n",
      "Standard Accuracy for project duracloud: 15.58\n",
      "Running inference for project: jirasoftware\n",
      "within project inference using model #7 for project jirasoftware\n",
      "Loading model from Hugging Face...\n"
     ]
    },
    {
     "name": "stderr",
     "output_type": "stream",
     "text": [
      "Some weights of LlamaForSequenceClassification were not initialized from the model checkpoint at meta-llama/Llama-3.2-1B and are newly initialized: ['score.weight']\n",
      "You should probably TRAIN this model on a down-stream task to be able to use it for predictions and inference.\n"
     ]
    },
    {
     "name": "stdout",
     "output_type": "stream",
     "text": [
      "Batch Size:  63\n",
      "using sentencepiece tokenizer!\n",
      "MAE for project jirasoftware: 1.9\n",
      "MDAE for project jirasoftware: 1.49\n",
      "Standard Accuracy for project jirasoftware: 39.69\n",
      "Running inference for project: mesos\n",
      "within project inference using model #7 for project mesos\n",
      "Loading model from Hugging Face...\n"
     ]
    },
    {
     "name": "stderr",
     "output_type": "stream",
     "text": [
      "Some weights of LlamaForSequenceClassification were not initialized from the model checkpoint at meta-llama/Llama-3.2-1B and are newly initialized: ['score.weight']\n",
      "You should probably TRAIN this model on a down-stream task to be able to use it for predictions and inference.\n"
     ]
    },
    {
     "name": "stdout",
     "output_type": "stream",
     "text": [
      "Batch Size:  302\n",
      "using sentencepiece tokenizer!\n",
      "MAE for project mesos: 1.29\n",
      "MDAE for project mesos: 1.08\n",
      "Standard Accuracy for project mesos: 42.65\n",
      "Running inference for project: moodle\n",
      "within project inference using model #7 for project moodle\n",
      "Loading model from Hugging Face...\n"
     ]
    },
    {
     "name": "stderr",
     "output_type": "stream",
     "text": [
      "Some weights of LlamaForSequenceClassification were not initialized from the model checkpoint at meta-llama/Llama-3.2-1B and are newly initialized: ['score.weight']\n",
      "You should probably TRAIN this model on a down-stream task to be able to use it for predictions and inference.\n"
     ]
    },
    {
     "name": "stdout",
     "output_type": "stream",
     "text": [
      "Batch Size:  209\n",
      "using sentencepiece tokenizer!\n",
      "MAE for project moodle: 11.22\n",
      "MDAE for project moodle: 9.06\n",
      "Standard Accuracy for project moodle: -68.73\n",
      "Running inference for project: mule\n",
      "within project inference using model #7 for project mule\n",
      "Loading model from Hugging Face...\n"
     ]
    },
    {
     "name": "stderr",
     "output_type": "stream",
     "text": [
      "Some weights of LlamaForSequenceClassification were not initialized from the model checkpoint at meta-llama/Llama-3.2-1B and are newly initialized: ['score.weight']\n",
      "You should probably TRAIN this model on a down-stream task to be able to use it for predictions and inference.\n"
     ]
    },
    {
     "name": "stdout",
     "output_type": "stream",
     "text": [
      "Batch Size:  159\n",
      "using sentencepiece tokenizer!\n",
      "MAE for project mule: 2.51\n",
      "MDAE for project mule: 2.32\n",
      "Standard Accuracy for project mule: 39.2\n",
      "Running inference for project: mulestudio\n",
      "within project inference using model #7 for project mulestudio\n",
      "Loading model from Hugging Face...\n"
     ]
    },
    {
     "name": "stderr",
     "output_type": "stream",
     "text": [
      "Some weights of LlamaForSequenceClassification were not initialized from the model checkpoint at meta-llama/Llama-3.2-1B and are newly initialized: ['score.weight']\n",
      "You should probably TRAIN this model on a down-stream task to be able to use it for predictions and inference.\n"
     ]
    },
    {
     "name": "stdout",
     "output_type": "stream",
     "text": [
      "Batch Size:  131\n",
      "using sentencepiece tokenizer!\n",
      "MAE for project mulestudio: 3.81\n",
      "MDAE for project mulestudio: 2.56\n",
      "Standard Accuracy for project mulestudio: 40.95\n",
      "Running inference for project: springxd\n",
      "within project inference using model #7 for project springxd\n",
      "Loading model from Hugging Face...\n"
     ]
    },
    {
     "name": "stderr",
     "output_type": "stream",
     "text": [
      "Some weights of LlamaForSequenceClassification were not initialized from the model checkpoint at meta-llama/Llama-3.2-1B and are newly initialized: ['score.weight']\n",
      "You should probably TRAIN this model on a down-stream task to be able to use it for predictions and inference.\n"
     ]
    },
    {
     "name": "stdout",
     "output_type": "stream",
     "text": [
      "Batch Size:  512\n",
      "using sentencepiece tokenizer!\n",
      "MAE for project springxd: 1.7\n",
      "MDAE for project springxd: 1.33\n",
      "Standard Accuracy for project springxd: 38.81\n",
      "Running inference for project: talenddataquality\n",
      "within project inference using model #7 for project talenddataquality\n",
      "Loading model from Hugging Face...\n"
     ]
    },
    {
     "name": "stderr",
     "output_type": "stream",
     "text": [
      "Some weights of LlamaForSequenceClassification were not initialized from the model checkpoint at meta-llama/Llama-3.2-1B and are newly initialized: ['score.weight']\n",
      "You should probably TRAIN this model on a down-stream task to be able to use it for predictions and inference.\n"
     ]
    },
    {
     "name": "stdout",
     "output_type": "stream",
     "text": [
      "Batch Size:  248\n",
      "using sentencepiece tokenizer!\n",
      "MAE for project talenddataquality: 3.91\n",
      "MDAE for project talenddataquality: 3.74\n",
      "Standard Accuracy for project talenddataquality: -34.27\n",
      "Running inference for project: talendesb\n",
      "within project inference using model #7 for project talendesb\n",
      "Loading model from Hugging Face...\n"
     ]
    },
    {
     "name": "stderr",
     "output_type": "stream",
     "text": [
      "Some weights of LlamaForSequenceClassification were not initialized from the model checkpoint at meta-llama/Llama-3.2-1B and are newly initialized: ['score.weight']\n",
      "You should probably TRAIN this model on a down-stream task to be able to use it for predictions and inference.\n"
     ]
    },
    {
     "name": "stdout",
     "output_type": "stream",
     "text": [
      "Batch Size:  156\n",
      "using sentencepiece tokenizer!\n",
      "MAE for project talendesb: 1.0\n",
      "MDAE for project talendesb: 0.79\n",
      "Standard Accuracy for project talendesb: 35.27\n",
      "Running inference for project: titanium\n",
      "within project inference using model #7 for project titanium\n",
      "Loading model from Hugging Face...\n"
     ]
    },
    {
     "name": "stderr",
     "output_type": "stream",
     "text": [
      "Some weights of LlamaForSequenceClassification were not initialized from the model checkpoint at meta-llama/Llama-3.2-1B and are newly initialized: ['score.weight']\n",
      "You should probably TRAIN this model on a down-stream task to be able to use it for predictions and inference.\n"
     ]
    },
    {
     "name": "stdout",
     "output_type": "stream",
     "text": [
      "Batch Size:  405\n",
      "using sentencepiece tokenizer!\n",
      "MAE for project titanium: 2.32\n",
      "MDAE for project titanium: 1.57\n",
      "Standard Accuracy for project titanium: 51.29\n",
      "Running inference for project: usergrid\n",
      "within project inference using model #7 for project usergrid\n",
      "Loading model from Hugging Face...\n"
     ]
    },
    {
     "name": "stderr",
     "output_type": "stream",
     "text": [
      "Some weights of LlamaForSequenceClassification were not initialized from the model checkpoint at meta-llama/Llama-3.2-1B and are newly initialized: ['score.weight']\n",
      "You should probably TRAIN this model on a down-stream task to be able to use it for predictions and inference.\n"
     ]
    },
    {
     "name": "stdout",
     "output_type": "stream",
     "text": [
      "Batch Size:  86\n",
      "using sentencepiece tokenizer!\n",
      "MAE for project usergrid: 1.37\n",
      "MDAE for project usergrid: 1.25\n",
      "Standard Accuracy for project usergrid: 44.14\n",
      "All projects processed\n"
     ]
    },
    {
     "data": {
      "text/html": [
       "<div>\n",
       "<style scoped>\n",
       "    .dataframe tbody tr th:only-of-type {\n",
       "        vertical-align: middle;\n",
       "    }\n",
       "\n",
       "    .dataframe tbody tr th {\n",
       "        vertical-align: top;\n",
       "    }\n",
       "\n",
       "    .dataframe thead th {\n",
       "        text-align: right;\n",
       "    }\n",
       "</style>\n",
       "<table border=\"1\" class=\"dataframe\">\n",
       "  <thead>\n",
       "    <tr style=\"text-align: right;\">\n",
       "      <th></th>\n",
       "      <th>Project</th>\n",
       "      <th>Llama3.2</th>\n",
       "      <th>Llama3.2+SPWordLevel</th>\n",
       "      <th>Llama3.2+SPWordPiece</th>\n",
       "      <th>Llama3.2+SPSentencePiece</th>\n",
       "    </tr>\n",
       "  </thead>\n",
       "  <tbody>\n",
       "    <tr>\n",
       "      <th>0</th>\n",
       "      <td>appceleratorstudio</td>\n",
       "      <td>1.65</td>\n",
       "      <td>1.50</td>\n",
       "      <td>1.67</td>\n",
       "      <td>1.64</td>\n",
       "    </tr>\n",
       "    <tr>\n",
       "      <th>1</th>\n",
       "      <td>aptanastudio</td>\n",
       "      <td>3.74</td>\n",
       "      <td>3.76</td>\n",
       "      <td>4.04</td>\n",
       "      <td>3.74</td>\n",
       "    </tr>\n",
       "    <tr>\n",
       "      <th>2</th>\n",
       "      <td>bamboo</td>\n",
       "      <td>1.09</td>\n",
       "      <td>1.43</td>\n",
       "      <td>1.17</td>\n",
       "      <td>0.97</td>\n",
       "    </tr>\n",
       "    <tr>\n",
       "      <th>3</th>\n",
       "      <td>clover</td>\n",
       "      <td>4.08</td>\n",
       "      <td>4.90</td>\n",
       "      <td>3.84</td>\n",
       "      <td>3.82</td>\n",
       "    </tr>\n",
       "    <tr>\n",
       "      <th>4</th>\n",
       "      <td>datamanagement</td>\n",
       "      <td>6.45</td>\n",
       "      <td>16.79</td>\n",
       "      <td>6.78</td>\n",
       "      <td>7.17</td>\n",
       "    </tr>\n",
       "    <tr>\n",
       "      <th>5</th>\n",
       "      <td>duracloud</td>\n",
       "      <td>1.05</td>\n",
       "      <td>1.37</td>\n",
       "      <td>1.29</td>\n",
       "      <td>1.10</td>\n",
       "    </tr>\n",
       "    <tr>\n",
       "      <th>6</th>\n",
       "      <td>jirasoftware</td>\n",
       "      <td>2.05</td>\n",
       "      <td>2.32</td>\n",
       "      <td>2.13</td>\n",
       "      <td>1.90</td>\n",
       "    </tr>\n",
       "    <tr>\n",
       "      <th>7</th>\n",
       "      <td>mesos</td>\n",
       "      <td>1.38</td>\n",
       "      <td>1.51</td>\n",
       "      <td>1.19</td>\n",
       "      <td>1.29</td>\n",
       "    </tr>\n",
       "    <tr>\n",
       "      <th>8</th>\n",
       "      <td>moodle</td>\n",
       "      <td>11.61</td>\n",
       "      <td>11.64</td>\n",
       "      <td>13.81</td>\n",
       "      <td>11.22</td>\n",
       "    </tr>\n",
       "    <tr>\n",
       "      <th>9</th>\n",
       "      <td>mule</td>\n",
       "      <td>2.65</td>\n",
       "      <td>2.69</td>\n",
       "      <td>2.80</td>\n",
       "      <td>2.51</td>\n",
       "    </tr>\n",
       "    <tr>\n",
       "      <th>10</th>\n",
       "      <td>mulestudio</td>\n",
       "      <td>3.70</td>\n",
       "      <td>3.56</td>\n",
       "      <td>3.84</td>\n",
       "      <td>3.81</td>\n",
       "    </tr>\n",
       "    <tr>\n",
       "      <th>11</th>\n",
       "      <td>springxd</td>\n",
       "      <td>2.07</td>\n",
       "      <td>1.93</td>\n",
       "      <td>1.85</td>\n",
       "      <td>1.70</td>\n",
       "    </tr>\n",
       "    <tr>\n",
       "      <th>12</th>\n",
       "      <td>talenddataquality</td>\n",
       "      <td>3.79</td>\n",
       "      <td>4.67</td>\n",
       "      <td>3.75</td>\n",
       "      <td>3.91</td>\n",
       "    </tr>\n",
       "    <tr>\n",
       "      <th>13</th>\n",
       "      <td>talendesb</td>\n",
       "      <td>1.08</td>\n",
       "      <td>1.71</td>\n",
       "      <td>1.05</td>\n",
       "      <td>1.00</td>\n",
       "    </tr>\n",
       "    <tr>\n",
       "      <th>14</th>\n",
       "      <td>titanium</td>\n",
       "      <td>2.46</td>\n",
       "      <td>2.34</td>\n",
       "      <td>2.47</td>\n",
       "      <td>2.32</td>\n",
       "    </tr>\n",
       "    <tr>\n",
       "      <th>15</th>\n",
       "      <td>usergrid</td>\n",
       "      <td>1.51</td>\n",
       "      <td>1.52</td>\n",
       "      <td>1.37</td>\n",
       "      <td>1.37</td>\n",
       "    </tr>\n",
       "  </tbody>\n",
       "</table>\n",
       "</div>"
      ],
      "text/plain": [
       "               Project  Llama3.2  Llama3.2+SPWordLevel  Llama3.2+SPWordPiece  \\\n",
       "0   appceleratorstudio      1.65                  1.50                  1.67   \n",
       "1         aptanastudio      3.74                  3.76                  4.04   \n",
       "2               bamboo      1.09                  1.43                  1.17   \n",
       "3               clover      4.08                  4.90                  3.84   \n",
       "4       datamanagement      6.45                 16.79                  6.78   \n",
       "5            duracloud      1.05                  1.37                  1.29   \n",
       "6         jirasoftware      2.05                  2.32                  2.13   \n",
       "7                mesos      1.38                  1.51                  1.19   \n",
       "8               moodle     11.61                 11.64                 13.81   \n",
       "9                 mule      2.65                  2.69                  2.80   \n",
       "10          mulestudio      3.70                  3.56                  3.84   \n",
       "11            springxd      2.07                  1.93                  1.85   \n",
       "12   talenddataquality      3.79                  4.67                  3.75   \n",
       "13           talendesb      1.08                  1.71                  1.05   \n",
       "14            titanium      2.46                  2.34                  2.47   \n",
       "15            usergrid      1.51                  1.52                  1.37   \n",
       "\n",
       "    Llama3.2+SPSentencePiece  \n",
       "0                       1.64  \n",
       "1                       3.74  \n",
       "2                       0.97  \n",
       "3                       3.82  \n",
       "4                       7.17  \n",
       "5                       1.10  \n",
       "6                       1.90  \n",
       "7                       1.29  \n",
       "8                      11.22  \n",
       "9                       2.51  \n",
       "10                      3.81  \n",
       "11                      1.70  \n",
       "12                      3.91  \n",
       "13                      1.00  \n",
       "14                      2.32  \n",
       "15                      1.37  "
      ]
     },
     "execution_count": 3,
     "metadata": {},
     "output_type": "execute_result"
    }
   ],
   "source": [
    "llama3_within_df = pd.DataFrame({'Project': [item['train'] for item in WITHIN_PROJECTS]}, dtype='float64')\n",
    "llama3_within_df_mdae = llama3_within_df.copy()\n",
    "llama3_within_df_sa = llama3_within_df.copy()\n",
    "\n",
    "for model in MODELS:\n",
    "    maes = []\n",
    "    mdmaes = []\n",
    "    standard_accuracies = []\n",
    "    \n",
    "    for project in WITHIN_PROJECTS:\n",
    "        print(f\"Running inference for project: {project['train']}\")\n",
    "        mae, mdae, sa = main(model, project['train'])\n",
    "\n",
    "        mae = round(mae, 2)\n",
    "        mdae = round(mdae, 2)\n",
    "        sa = round(sa, 2)\n",
    "        maes.append(mae)\n",
    "        mdmaes.append(mdae)\n",
    "        standard_accuracies.append(sa)\n",
    "        print(f\"MAE for project {project['train']}: {mae}\")\n",
    "        print(f\"MDAE for project {project['train']}: {mdae}\")\n",
    "        print(f\"Standard Accuracy for project {project['train']}: {sa}\")\n",
    "        \n",
    "        model_id = f\"DEVCamiloSepulveda/{model[1:]}-LLAMA3SP-{project['train']}\"\n",
    "        # clean_hf_cache(model_id)\n",
    "        clean_gpu_memory()\n",
    "    llama3_within_df[MODELS[model]] = maes\n",
    "    llama3_within_df[MODELS[model]] = llama3_within_df[MODELS[model]].apply(lambda x: round(x, 2))\n",
    "    llama3_within_df_mdae[MODELS[model]] = mdmaes\n",
    "    llama3_within_df_mdae[MODELS[model]] = llama3_within_df_mdae[MODELS[model]].apply(lambda x: round(x, 2))\n",
    "    llama3_within_df_sa[MODELS[model]] = standard_accuracies\n",
    "    llama3_within_df_sa[MODELS[model]] = llama3_within_df_sa[MODELS[model]].apply(lambda x: round(x, 2))\n",
    "\n",
    "print(\"All projects processed\")\n",
    "\n",
    "llama3_within_df"
   ]
  },
  {
   "cell_type": "markdown",
   "metadata": {},
   "source": [
    "##### Optional: Save the results\n",
    "\n",
    "You can save the results of the DataFrame to a CSV file for further analysis or record-keeping. Run the following script to save the `llama3_within_df` DataFrame to a CSV file."
   ]
  },
  {
   "cell_type": "code",
   "execution_count": 13,
   "metadata": {},
   "outputs": [
    {
     "name": "stdout",
     "output_type": "stream",
     "text": [
      "CSV file 'Llama3_within_results.csv' created successfully.\n"
     ]
    }
   ],
   "source": [
    "# Save the DataFrame to a CSV file\n",
    "llama3_within_df.to_csv('./data_model_analysis/Llama3_within_results.csv', index=False)#\n",
    "\n",
    "print(\"CSV file 'Llama3_within_results.csv' created successfully.\")"
   ]
  },
  {
   "cell_type": "code",
   "execution_count": 4,
   "metadata": {},
   "outputs": [],
   "source": [
    "llama3_within_df_mdae.to_csv('./data_model_analysis/Llama3_within_results_mdae.csv', index=False)\n",
    "llama3_within_df_sa.to_csv('./data_model_analysis/Llama3_within_results_sa.csv', index=False)\n",
    "\n",
    "print(\"CSV files 'Llama3_within_results_mdae.csv' and 'Llama3_within_results_sa.csv' created successfully.\")"
   ]
  },
  {
   "cell_type": "markdown",
   "metadata": {},
   "source": [
    "##### Run the cell below to do inference on testing dataset using **local** trained model on all within projects"
   ]
  },
  {
   "cell_type": "code",
   "execution_count": 3,
   "metadata": {},
   "outputs": [
    {
     "name": "stdout",
     "output_type": "stream",
     "text": [
      "Loading models from local on Within projects inference...\n",
      "within project inference using model ./models/appceleratorstudio_appceleratorstudio_epo_1 for project appceleratorstudio\n",
      "Loading model from local...\n"
     ]
    },
    {
     "name": "stderr",
     "output_type": "stream",
     "text": [
      "c:\\Users\\Camilo\\AppData\\Local\\Programs\\Python\\Python39\\lib\\site-packages\\accelerate\\utils\\modeling.py:841: UserWarning: expandable_segments not supported on this platform (Triggered internally at C:\\actions-runner\\_work\\pytorch\\pytorch\\builder\\windows\\pytorch\\c10/cuda/CUDAAllocatorConfig.h:28.)\n",
      "  _ = torch.tensor([0], device=i)\n",
      "Some weights of LlamaForSequenceClassification were not initialized from the model checkpoint at meta-llama/Llama-3.2-1B and are newly initialized: ['score.weight']\n",
      "You should probably TRAIN this model on a down-stream task to be able to use it for predictions and inference.\n"
     ]
    },
    {
     "name": "stdout",
     "output_type": "stream",
     "text": [
      "Batch Size:  512\n",
      "using llama3 tokenizer!\n"
     ]
    },
    {
     "name": "stderr",
     "output_type": "stream",
     "text": [
      "C:\\Users\\Camilo\\AppData\\Local\\Temp\\ipykernel_21024\\2126901288.py:245: UserWarning: To copy construct from a tensor, it is recommended to use sourceTensor.clone().detach() or sourceTensor.clone().detach().requires_grad_(True), rather than torch.tensor(sourceTensor).\n",
      "  test_seq = torch.tensor(tokens_test['input_ids'])\n"
     ]
    },
    {
     "name": "stdout",
     "output_type": "stream",
     "text": [
      "Model: appceleratorstudio_appceleratorstudio, MAE: 1.59, MdAE: 1.34, SA: 65.28\n",
      "within project inference using model ./models/aptanastudio_aptanastudio_epo_12 for project aptanastudio\n",
      "Loading model from local...\n"
     ]
    },
    {
     "name": "stderr",
     "output_type": "stream",
     "text": [
      "Some weights of LlamaForSequenceClassification were not initialized from the model checkpoint at meta-llama/Llama-3.2-1B and are newly initialized: ['score.weight']\n",
      "You should probably TRAIN this model on a down-stream task to be able to use it for predictions and inference.\n"
     ]
    },
    {
     "name": "stdout",
     "output_type": "stream",
     "text": [
      "Batch Size:  149\n",
      "using llama3 tokenizer!\n",
      "Model: aptanastudio_aptanastudio, MAE: 3.89, MdAE: 3.1, SA: 42.05\n",
      "within project inference using model ./models/bamboo_bamboo_epo_17 for project bamboo\n",
      "Loading model from local...\n"
     ]
    },
    {
     "name": "stderr",
     "output_type": "stream",
     "text": [
      "Some weights of LlamaForSequenceClassification were not initialized from the model checkpoint at meta-llama/Llama-3.2-1B and are newly initialized: ['score.weight']\n",
      "You should probably TRAIN this model on a down-stream task to be able to use it for predictions and inference.\n"
     ]
    },
    {
     "name": "stdout",
     "output_type": "stream",
     "text": [
      "Batch Size:  93\n",
      "using llama3 tokenizer!\n",
      "Model: bamboo_bamboo, MAE: 1.11, MdAE: 1.01, SA: 19.5\n",
      "within project inference using model ./models/clover_clover_epo_2 for project clover\n",
      "Loading model from local...\n"
     ]
    },
    {
     "name": "stderr",
     "output_type": "stream",
     "text": [
      "Some weights of LlamaForSequenceClassification were not initialized from the model checkpoint at meta-llama/Llama-3.2-1B and are newly initialized: ['score.weight']\n",
      "You should probably TRAIN this model on a down-stream task to be able to use it for predictions and inference.\n"
     ]
    },
    {
     "name": "stdout",
     "output_type": "stream",
     "text": [
      "Batch Size:  69\n",
      "using llama3 tokenizer!\n",
      "Model: clover_clover, MAE: 3.99, MdAE: 2.61, SA: 10.45\n",
      "within project inference using model ./models/datamanagement_datamanagement_epo_1 for project datamanagement\n",
      "Loading model from local...\n"
     ]
    },
    {
     "name": "stderr",
     "output_type": "stream",
     "text": [
      "Some weights of LlamaForSequenceClassification were not initialized from the model checkpoint at meta-llama/Llama-3.2-1B and are newly initialized: ['score.weight']\n",
      "You should probably TRAIN this model on a down-stream task to be able to use it for predictions and inference.\n"
     ]
    },
    {
     "name": "stdout",
     "output_type": "stream",
     "text": [
      "Batch Size:  512\n",
      "using llama3 tokenizer!\n",
      "Model: datamanagement_datamanagement, MAE: 5.84, MdAE: 2.94, SA: 24.53\n",
      "within project inference using model ./models/duracloud_duracloud_epo_3 for project duracloud\n",
      "Loading model from local...\n"
     ]
    },
    {
     "name": "stderr",
     "output_type": "stream",
     "text": [
      "Some weights of LlamaForSequenceClassification were not initialized from the model checkpoint at meta-llama/Llama-3.2-1B and are newly initialized: ['score.weight']\n",
      "You should probably TRAIN this model on a down-stream task to be able to use it for predictions and inference.\n"
     ]
    },
    {
     "name": "stdout",
     "output_type": "stream",
     "text": [
      "Batch Size:  119\n",
      "using llama3 tokenizer!\n",
      "Model: duracloud_duracloud, MAE: 1.01, MdAE: 0.7, SA: 22.61\n",
      "within project inference using model ./models/jirasoftware_jirasoftware_epo_3 for project jirasoftware\n",
      "Loading model from local...\n"
     ]
    },
    {
     "name": "stderr",
     "output_type": "stream",
     "text": [
      "Some weights of LlamaForSequenceClassification were not initialized from the model checkpoint at meta-llama/Llama-3.2-1B and are newly initialized: ['score.weight']\n",
      "You should probably TRAIN this model on a down-stream task to be able to use it for predictions and inference.\n"
     ]
    },
    {
     "name": "stdout",
     "output_type": "stream",
     "text": [
      "Batch Size:  63\n",
      "using llama3 tokenizer!\n",
      "Model: jirasoftware_jirasoftware, MAE: 2.38, MdAE: 1.82, SA: 24.54\n",
      "within project inference using model ./models/mesos_mesos_epo_0 for project mesos\n",
      "Loading model from local...\n"
     ]
    },
    {
     "name": "stderr",
     "output_type": "stream",
     "text": [
      "Some weights of LlamaForSequenceClassification were not initialized from the model checkpoint at meta-llama/Llama-3.2-1B and are newly initialized: ['score.weight']\n",
      "You should probably TRAIN this model on a down-stream task to be able to use it for predictions and inference.\n"
     ]
    },
    {
     "name": "stdout",
     "output_type": "stream",
     "text": [
      "Batch Size:  302\n",
      "using llama3 tokenizer!\n",
      "Model: mesos_mesos, MAE: 1.27, MdAE: 1.03, SA: 43.57\n",
      "within project inference using model ./models/moodle_moodle_epo_17 for project moodle\n",
      "Loading model from local...\n"
     ]
    },
    {
     "name": "stderr",
     "output_type": "stream",
     "text": [
      "Some weights of LlamaForSequenceClassification were not initialized from the model checkpoint at meta-llama/Llama-3.2-1B and are newly initialized: ['score.weight']\n",
      "You should probably TRAIN this model on a down-stream task to be able to use it for predictions and inference.\n"
     ]
    },
    {
     "name": "stdout",
     "output_type": "stream",
     "text": [
      "Batch Size:  209\n",
      "using llama3 tokenizer!\n",
      "Model: moodle_moodle, MAE: 13.9, MdAE: 12.57, SA: -109.09\n",
      "within project inference using model ./models/mule_mule_epo_15 for project mule\n",
      "Loading model from local...\n"
     ]
    },
    {
     "name": "stderr",
     "output_type": "stream",
     "text": [
      "Some weights of LlamaForSequenceClassification were not initialized from the model checkpoint at meta-llama/Llama-3.2-1B and are newly initialized: ['score.weight']\n",
      "You should probably TRAIN this model on a down-stream task to be able to use it for predictions and inference.\n"
     ]
    },
    {
     "name": "stdout",
     "output_type": "stream",
     "text": [
      "Batch Size:  159\n",
      "using llama3 tokenizer!\n",
      "Model: mule_mule, MAE: 2.76, MdAE: 2.55, SA: 33.16\n",
      "within project inference using model ./models/mulestudio_mulestudio_epo_1 for project mulestudio\n",
      "Loading model from local...\n"
     ]
    },
    {
     "name": "stderr",
     "output_type": "stream",
     "text": [
      "Some weights of LlamaForSequenceClassification were not initialized from the model checkpoint at meta-llama/Llama-3.2-1B and are newly initialized: ['score.weight']\n",
      "You should probably TRAIN this model on a down-stream task to be able to use it for predictions and inference.\n"
     ]
    },
    {
     "name": "stdout",
     "output_type": "stream",
     "text": [
      "Batch Size:  131\n",
      "using llama3 tokenizer!\n",
      "Model: mulestudio_mulestudio, MAE: 3.91, MdAE: 3.31, SA: 39.3\n",
      "within project inference using model ./models/springxd_springxd_epo_6 for project springxd\n",
      "Loading model from local...\n"
     ]
    },
    {
     "name": "stderr",
     "output_type": "stream",
     "text": [
      "Some weights of LlamaForSequenceClassification were not initialized from the model checkpoint at meta-llama/Llama-3.2-1B and are newly initialized: ['score.weight']\n",
      "You should probably TRAIN this model on a down-stream task to be able to use it for predictions and inference.\n"
     ]
    },
    {
     "name": "stdout",
     "output_type": "stream",
     "text": [
      "Batch Size:  512\n",
      "using llama3 tokenizer!\n",
      "Model: springxd_springxd, MAE: 1.87, MdAE: 1.69, SA: 32.57\n",
      "within project inference using model ./models/talenddataquality_talenddataquality_epo_7 for project talenddataquality\n",
      "Loading model from local...\n"
     ]
    },
    {
     "name": "stderr",
     "output_type": "stream",
     "text": [
      "Some weights of LlamaForSequenceClassification were not initialized from the model checkpoint at meta-llama/Llama-3.2-1B and are newly initialized: ['score.weight']\n",
      "You should probably TRAIN this model on a down-stream task to be able to use it for predictions and inference.\n"
     ]
    },
    {
     "name": "stdout",
     "output_type": "stream",
     "text": [
      "Batch Size:  248\n",
      "using llama3 tokenizer!\n",
      "Model: talenddataquality_talenddataquality, MAE: 4.54, MdAE: 4.28, SA: -55.81\n",
      "within project inference using model ./models/talendesb_talendesb_epo_7 for project talendesb\n",
      "Loading model from local...\n"
     ]
    },
    {
     "name": "stderr",
     "output_type": "stream",
     "text": [
      "Some weights of LlamaForSequenceClassification were not initialized from the model checkpoint at meta-llama/Llama-3.2-1B and are newly initialized: ['score.weight']\n",
      "You should probably TRAIN this model on a down-stream task to be able to use it for predictions and inference.\n"
     ]
    },
    {
     "name": "stdout",
     "output_type": "stream",
     "text": [
      "Batch Size:  156\n",
      "using llama3 tokenizer!\n",
      "Model: talendesb_talendesb, MAE: 1.06, MdAE: 0.81, SA: 31.27\n",
      "within project inference using model ./models/titanium_titanium_epo_1 for project titanium\n",
      "Loading model from local...\n"
     ]
    },
    {
     "name": "stderr",
     "output_type": "stream",
     "text": [
      "Some weights of LlamaForSequenceClassification were not initialized from the model checkpoint at meta-llama/Llama-3.2-1B and are newly initialized: ['score.weight']\n",
      "You should probably TRAIN this model on a down-stream task to be able to use it for predictions and inference.\n"
     ]
    },
    {
     "name": "stdout",
     "output_type": "stream",
     "text": [
      "Batch Size:  405\n",
      "using llama3 tokenizer!\n",
      "Model: titanium_titanium, MAE: 2.6, MdAE: 1.98, SA: 45.25\n",
      "within project inference using model ./models/usergrid_usergrid_epo_14 for project usergrid\n",
      "Loading model from local...\n"
     ]
    },
    {
     "name": "stderr",
     "output_type": "stream",
     "text": [
      "Some weights of LlamaForSequenceClassification were not initialized from the model checkpoint at meta-llama/Llama-3.2-1B and are newly initialized: ['score.weight']\n",
      "You should probably TRAIN this model on a down-stream task to be able to use it for predictions and inference.\n"
     ]
    },
    {
     "name": "stdout",
     "output_type": "stream",
     "text": [
      "Batch Size:  86\n",
      "using llama3 tokenizer!\n",
      "Model: usergrid_usergrid, MAE: 1.47, MdAE: 1.06, SA: 39.79\n"
     ]
    },
    {
     "data": {
      "text/html": [
       "<div>\n",
       "<style scoped>\n",
       "    .dataframe tbody tr th:only-of-type {\n",
       "        vertical-align: middle;\n",
       "    }\n",
       "\n",
       "    .dataframe tbody tr th {\n",
       "        vertical-align: top;\n",
       "    }\n",
       "\n",
       "    .dataframe thead th {\n",
       "        text-align: right;\n",
       "    }\n",
       "</style>\n",
       "<table border=\"1\" class=\"dataframe\">\n",
       "  <thead>\n",
       "    <tr style=\"text-align: right;\">\n",
       "      <th></th>\n",
       "      <th>Project</th>\n",
       "      <th>MAE</th>\n",
       "      <th>MdAE</th>\n",
       "      <th>SA</th>\n",
       "    </tr>\n",
       "  </thead>\n",
       "  <tbody>\n",
       "    <tr>\n",
       "      <th>0</th>\n",
       "      <td>appceleratorstudio</td>\n",
       "      <td>1.59</td>\n",
       "      <td>1.34</td>\n",
       "      <td>65.28</td>\n",
       "    </tr>\n",
       "    <tr>\n",
       "      <th>1</th>\n",
       "      <td>aptanastudio</td>\n",
       "      <td>3.89</td>\n",
       "      <td>3.10</td>\n",
       "      <td>42.05</td>\n",
       "    </tr>\n",
       "    <tr>\n",
       "      <th>2</th>\n",
       "      <td>bamboo</td>\n",
       "      <td>1.11</td>\n",
       "      <td>1.01</td>\n",
       "      <td>19.50</td>\n",
       "    </tr>\n",
       "    <tr>\n",
       "      <th>3</th>\n",
       "      <td>clover</td>\n",
       "      <td>3.99</td>\n",
       "      <td>2.61</td>\n",
       "      <td>10.45</td>\n",
       "    </tr>\n",
       "    <tr>\n",
       "      <th>4</th>\n",
       "      <td>datamanagement</td>\n",
       "      <td>5.84</td>\n",
       "      <td>2.94</td>\n",
       "      <td>24.53</td>\n",
       "    </tr>\n",
       "    <tr>\n",
       "      <th>5</th>\n",
       "      <td>duracloud</td>\n",
       "      <td>1.01</td>\n",
       "      <td>0.70</td>\n",
       "      <td>22.61</td>\n",
       "    </tr>\n",
       "    <tr>\n",
       "      <th>6</th>\n",
       "      <td>jirasoftware</td>\n",
       "      <td>2.38</td>\n",
       "      <td>1.82</td>\n",
       "      <td>24.54</td>\n",
       "    </tr>\n",
       "    <tr>\n",
       "      <th>7</th>\n",
       "      <td>mesos</td>\n",
       "      <td>1.27</td>\n",
       "      <td>1.03</td>\n",
       "      <td>43.57</td>\n",
       "    </tr>\n",
       "    <tr>\n",
       "      <th>8</th>\n",
       "      <td>moodle</td>\n",
       "      <td>13.90</td>\n",
       "      <td>12.57</td>\n",
       "      <td>-109.09</td>\n",
       "    </tr>\n",
       "    <tr>\n",
       "      <th>9</th>\n",
       "      <td>mule</td>\n",
       "      <td>2.76</td>\n",
       "      <td>2.55</td>\n",
       "      <td>33.16</td>\n",
       "    </tr>\n",
       "    <tr>\n",
       "      <th>10</th>\n",
       "      <td>mulestudio</td>\n",
       "      <td>3.91</td>\n",
       "      <td>3.31</td>\n",
       "      <td>39.30</td>\n",
       "    </tr>\n",
       "    <tr>\n",
       "      <th>11</th>\n",
       "      <td>springxd</td>\n",
       "      <td>1.87</td>\n",
       "      <td>1.69</td>\n",
       "      <td>32.57</td>\n",
       "    </tr>\n",
       "    <tr>\n",
       "      <th>12</th>\n",
       "      <td>talenddataquality</td>\n",
       "      <td>4.54</td>\n",
       "      <td>4.28</td>\n",
       "      <td>-55.81</td>\n",
       "    </tr>\n",
       "    <tr>\n",
       "      <th>13</th>\n",
       "      <td>talendesb</td>\n",
       "      <td>1.06</td>\n",
       "      <td>0.81</td>\n",
       "      <td>31.27</td>\n",
       "    </tr>\n",
       "    <tr>\n",
       "      <th>14</th>\n",
       "      <td>titanium</td>\n",
       "      <td>2.60</td>\n",
       "      <td>1.98</td>\n",
       "      <td>45.25</td>\n",
       "    </tr>\n",
       "    <tr>\n",
       "      <th>15</th>\n",
       "      <td>usergrid</td>\n",
       "      <td>1.47</td>\n",
       "      <td>1.06</td>\n",
       "      <td>39.79</td>\n",
       "    </tr>\n",
       "  </tbody>\n",
       "</table>\n",
       "</div>"
      ],
      "text/plain": [
       "               Project    MAE   MdAE      SA\n",
       "0   appceleratorstudio   1.59   1.34   65.28\n",
       "1         aptanastudio   3.89   3.10   42.05\n",
       "2               bamboo   1.11   1.01   19.50\n",
       "3               clover   3.99   2.61   10.45\n",
       "4       datamanagement   5.84   2.94   24.53\n",
       "5            duracloud   1.01   0.70   22.61\n",
       "6         jirasoftware   2.38   1.82   24.54\n",
       "7                mesos   1.27   1.03   43.57\n",
       "8               moodle  13.90  12.57 -109.09\n",
       "9                 mule   2.76   2.55   33.16\n",
       "10          mulestudio   3.91   3.31   39.30\n",
       "11            springxd   1.87   1.69   32.57\n",
       "12   talenddataquality   4.54   4.28  -55.81\n",
       "13           talendesb   1.06   0.81   31.27\n",
       "14            titanium   2.60   1.98   45.25\n",
       "15            usergrid   1.47   1.06   39.79"
      ]
     },
     "execution_count": 3,
     "metadata": {},
     "output_type": "execute_result"
    }
   ],
   "source": [
    "print(\"Loading models from local on Within projects inference...\")\n",
    "        \n",
    "within_maes, within_mdaes, within_saes = local_model_inference(WITHIN_PROJECTS)\n",
    "within_df = create_df(within_maes, within_mdaes, within_saes, WITHIN_PROJECTS)\n",
    "\n",
    "within_df"
   ]
  },
  {
   "cell_type": "markdown",
   "metadata": {},
   "source": [
    "##### Optional: Save the results\n",
    "\n",
    "You can save the results of the DataFrame to a CSV file for further analysis or record-keeping. Run the following script to save the `within_df` DataFrame to a CSV file."
   ]
  },
  {
   "cell_type": "code",
   "execution_count": 4,
   "metadata": {},
   "outputs": [
    {
     "name": "stdout",
     "output_type": "stream",
     "text": [
      "CSV file 'within_project_results.csv' created successfully.\n"
     ]
    }
   ],
   "source": [
    "# Save the DataFrame to a CSV file\n",
    "within_df.to_csv('./data_model_analysis/Llama3SP_within_results.csv', index=False)\n",
    "\n",
    "print(\"CSV file 'within_project_results.csv' created successfully.\")"
   ]
  },
  {
   "cell_type": "markdown",
   "metadata": {},
   "source": [
    "<a id='cross_project'></a>\n",
    "## Cross Projects Models\n",
    "\n",
    "#### There are two parts under Cross Project Model section, follow the link to reach the section:\n",
    "#### 1. [Training Process Inspection](#cross_project_tb)\n",
    "#### 2. [Model Testing](#cross_project_model_testing)\n",
    "\n",
    "##### Different models are available for cross project estimation as follows:\n",
    "\n",
    "### Cross project - within repository models\n",
    "#### #00 - Llama3.2 Auto Tokenizer\n",
    "#### #22 - Word-level Story Point Tokenizer + Llama3.2\n",
    "#### #66 - WordPiece Story Point Tokenizer + Llama3.2\n",
    "#### #77 - SentencePiece Story Point Tokenizer + Llama3.2  \n",
    "\n",
    "### Cross project - cross repository models\n",
    "#### #000 - Llama3.2 Auto Tokenizer\n",
    "#### #222 - Word-level Story Point Tokenizer + Llama3.2\n",
    "#### #666 - WordPiece Story Point Tokenizer + Llama3.2\n",
    "#### #777 - SentencePiece Story Point Tokenizer + Llama3.2 "
   ]
  },
  {
   "cell_type": "markdown",
   "metadata": {},
   "source": [
    "<a id='cross_project_model_testing'></a>\n",
    "### Model Testing"
   ]
  },
  {
   "cell_type": "markdown",
   "metadata": {},
   "source": [
    "##### Run the cell below to do inference on all testing datasets using all the uploaded models on Hugging Face"
   ]
  },
  {
   "cell_type": "code",
   "execution_count": 5,
   "metadata": {},
   "outputs": [
    {
     "name": "stderr",
     "output_type": "stream",
     "text": [
      "C:\\Users\\Camilo\\AppData\\Local\\Temp\\ipykernel_21024\\3632030941.py:1: FutureWarning: Could not cast to float64, falling back to object. This behavior is deprecated. In a future version, when a dtype is passed to 'DataFrame', either all columns will be cast to that dtype, or a TypeError will be raised\n",
      "  llama3_cross_df = pd.DataFrame(\n"
     ]
    },
    {
     "name": "stdout",
     "output_type": "stream",
     "text": [
      "Running inference for project trained on mesos and tested on usergrid\n",
      "cross project inference using model #00 trained on mesos for project usergrid\n",
      "Loading model from Hugging Face...\n"
     ]
    },
    {
     "name": "stderr",
     "output_type": "stream",
     "text": [
      "Some weights of LlamaForSequenceClassification were not initialized from the model checkpoint at meta-llama/Llama-3.2-1B and are newly initialized: ['score.weight']\n",
      "You should probably TRAIN this model on a down-stream task to be able to use it for predictions and inference.\n"
     ]
    },
    {
     "name": "stdout",
     "output_type": "stream",
     "text": [
      "using llama3 tokenizer!\n"
     ]
    },
    {
     "name": "stderr",
     "output_type": "stream",
     "text": [
      "C:\\Users\\Camilo\\AppData\\Local\\Temp\\ipykernel_21024\\2126901288.py:259: UserWarning: To copy construct from a tensor, it is recommended to use sourceTensor.clone().detach() or sourceTensor.clone().detach().requires_grad_(True), rather than torch.tensor(sourceTensor).\n",
      "  test_seq = torch.tensor(tokens_test['input_ids'])\n"
     ]
    },
    {
     "name": "stdout",
     "output_type": "stream",
     "text": [
      "MAE for project mesos: 1.34\n",
      "MDAE for project mesos: 1.05\n",
      "Standard Accuracy for project mesos: 43.23\n",
      "Running inference for project trained on usergrid and tested on mesos\n",
      "cross project inference using model #00 trained on usergrid for project mesos\n",
      "Loading model from Hugging Face...\n"
     ]
    },
    {
     "name": "stderr",
     "output_type": "stream",
     "text": [
      "Some weights of LlamaForSequenceClassification were not initialized from the model checkpoint at meta-llama/Llama-3.2-1B and are newly initialized: ['score.weight']\n",
      "You should probably TRAIN this model on a down-stream task to be able to use it for predictions and inference.\n"
     ]
    },
    {
     "name": "stdout",
     "output_type": "stream",
     "text": [
      "using llama3 tokenizer!\n",
      "MAE for project usergrid: 1.74\n",
      "MDAE for project usergrid: 1.34\n",
      "Standard Accuracy for project usergrid: 32.85\n",
      "Running inference for project trained on appceleratorstudio and tested on aptanastudio\n",
      "cross project inference using model #00 trained on appceleratorstudio for project aptanastudio\n",
      "Loading model from Hugging Face...\n"
     ]
    },
    {
     "name": "stderr",
     "output_type": "stream",
     "text": [
      "Some weights of LlamaForSequenceClassification were not initialized from the model checkpoint at meta-llama/Llama-3.2-1B and are newly initialized: ['score.weight']\n",
      "You should probably TRAIN this model on a down-stream task to be able to use it for predictions and inference.\n"
     ]
    },
    {
     "name": "stdout",
     "output_type": "stream",
     "text": [
      "using llama3 tokenizer!\n",
      "MAE for project appceleratorstudio: 4.36\n",
      "MDAE for project appceleratorstudio: 3.12\n",
      "Standard Accuracy for project appceleratorstudio: 42.05\n",
      "Running inference for project trained on appceleratorstudio and tested on titanium\n",
      "cross project inference using model #00 trained on appceleratorstudio for project titanium\n",
      "Loading model from Hugging Face...\n"
     ]
    },
    {
     "name": "stderr",
     "output_type": "stream",
     "text": [
      "Some weights of LlamaForSequenceClassification were not initialized from the model checkpoint at meta-llama/Llama-3.2-1B and are newly initialized: ['score.weight']\n",
      "You should probably TRAIN this model on a down-stream task to be able to use it for predictions and inference.\n"
     ]
    },
    {
     "name": "stdout",
     "output_type": "stream",
     "text": [
      "using llama3 tokenizer!\n",
      "MAE for project appceleratorstudio: 3.36\n",
      "MDAE for project appceleratorstudio: 2.32\n",
      "Standard Accuracy for project appceleratorstudio: 42.19\n",
      "Running inference for project trained on titanium and tested on appceleratorstudio\n",
      "cross project inference using model #00 trained on titanium for project appceleratorstudio\n",
      "Loading model from Hugging Face...\n"
     ]
    },
    {
     "name": "stderr",
     "output_type": "stream",
     "text": [
      "Some weights of LlamaForSequenceClassification were not initialized from the model checkpoint at meta-llama/Llama-3.2-1B and are newly initialized: ['score.weight']\n",
      "You should probably TRAIN this model on a down-stream task to be able to use it for predictions and inference.\n"
     ]
    },
    {
     "name": "stdout",
     "output_type": "stream",
     "text": [
      "using llama3 tokenizer!\n",
      "MAE for project titanium: 2.55\n",
      "MDAE for project titanium: 1.88\n",
      "Standard Accuracy for project titanium: 50.29\n",
      "Running inference for project trained on aptanastudio and tested on titanium\n",
      "cross project inference using model #00 trained on aptanastudio for project titanium\n",
      "Loading model from Hugging Face...\n"
     ]
    },
    {
     "name": "stderr",
     "output_type": "stream",
     "text": [
      "Some weights of LlamaForSequenceClassification were not initialized from the model checkpoint at meta-llama/Llama-3.2-1B and are newly initialized: ['score.weight']\n",
      "You should probably TRAIN this model on a down-stream task to be able to use it for predictions and inference.\n"
     ]
    },
    {
     "name": "stdout",
     "output_type": "stream",
     "text": [
      "using llama3 tokenizer!\n",
      "MAE for project aptanastudio: 3.78\n",
      "MDAE for project aptanastudio: 2.78\n",
      "Standard Accuracy for project aptanastudio: 34.99\n",
      "Running inference for project trained on mule and tested on mulestudio\n",
      "cross project inference using model #00 trained on mule for project mulestudio\n",
      "Loading model from Hugging Face...\n"
     ]
    },
    {
     "name": "stderr",
     "output_type": "stream",
     "text": [
      "Some weights of LlamaForSequenceClassification were not initialized from the model checkpoint at meta-llama/Llama-3.2-1B and are newly initialized: ['score.weight']\n",
      "You should probably TRAIN this model on a down-stream task to be able to use it for predictions and inference.\n"
     ]
    },
    {
     "name": "stdout",
     "output_type": "stream",
     "text": [
      "using llama3 tokenizer!\n",
      "MAE for project mule: 3.57\n",
      "MDAE for project mule: 2.53\n",
      "Standard Accuracy for project mule: 39.44\n",
      "Running inference for project trained on mulestudio and tested on mule\n",
      "cross project inference using model #00 trained on mulestudio for project mule\n",
      "Loading model from Hugging Face...\n"
     ]
    },
    {
     "name": "stderr",
     "output_type": "stream",
     "text": [
      "Some weights of LlamaForSequenceClassification were not initialized from the model checkpoint at meta-llama/Llama-3.2-1B and are newly initialized: ['score.weight']\n",
      "You should probably TRAIN this model on a down-stream task to be able to use it for predictions and inference.\n"
     ]
    },
    {
     "name": "stdout",
     "output_type": "stream",
     "text": [
      "using llama3 tokenizer!\n",
      "MAE for project mulestudio: 2.98\n",
      "MDAE for project mulestudio: 2.54\n",
      "Standard Accuracy for project mulestudio: 34.85\n",
      "Running inference for project trained on clover and tested on usergrid\n",
      "cross project inference using model #000 trained on clover for project usergrid\n",
      "Loading model from Hugging Face...\n"
     ]
    },
    {
     "name": "stderr",
     "output_type": "stream",
     "text": [
      "Some weights of LlamaForSequenceClassification were not initialized from the model checkpoint at meta-llama/Llama-3.2-1B and are newly initialized: ['score.weight']\n",
      "You should probably TRAIN this model on a down-stream task to be able to use it for predictions and inference.\n"
     ]
    },
    {
     "name": "stdout",
     "output_type": "stream",
     "text": [
      "using llama3 tokenizer!\n",
      "MAE for project clover: 2.03\n",
      "MDAE for project clover: 1.67\n",
      "Standard Accuracy for project clover: 13.91\n",
      "Running inference for project trained on talendesb and tested on mesos\n",
      "cross project inference using model #000 trained on talendesb for project mesos\n",
      "Loading model from Hugging Face...\n"
     ]
    },
    {
     "name": "stderr",
     "output_type": "stream",
     "text": [
      "Some weights of LlamaForSequenceClassification were not initialized from the model checkpoint at meta-llama/Llama-3.2-1B and are newly initialized: ['score.weight']\n",
      "You should probably TRAIN this model on a down-stream task to be able to use it for predictions and inference.\n"
     ]
    },
    {
     "name": "stdout",
     "output_type": "stream",
     "text": [
      "using llama3 tokenizer!\n",
      "MAE for project talendesb: 1.52\n",
      "MDAE for project talendesb: 1.01\n",
      "Standard Accuracy for project talendesb: 41.39\n",
      "Running inference for project trained on talenddataquality and tested on aptanastudio\n",
      "cross project inference using model #000 trained on talenddataquality for project aptanastudio\n",
      "Loading model from Hugging Face...\n"
     ]
    },
    {
     "name": "stderr",
     "output_type": "stream",
     "text": [
      "Some weights of LlamaForSequenceClassification were not initialized from the model checkpoint at meta-llama/Llama-3.2-1B and are newly initialized: ['score.weight']\n",
      "You should probably TRAIN this model on a down-stream task to be able to use it for predictions and inference.\n"
     ]
    },
    {
     "name": "stdout",
     "output_type": "stream",
     "text": [
      "using llama3 tokenizer!\n",
      "MAE for project talenddataquality: 4.53\n",
      "MDAE for project talenddataquality: 3.48\n",
      "Standard Accuracy for project talenddataquality: 39.69\n",
      "Running inference for project trained on mule and tested on titanium\n",
      "cross project inference using model #000 trained on mule for project titanium\n",
      "Loading model from Hugging Face...\n"
     ]
    },
    {
     "name": "stderr",
     "output_type": "stream",
     "text": [
      "Some weights of LlamaForSequenceClassification were not initialized from the model checkpoint at meta-llama/Llama-3.2-1B and are newly initialized: ['score.weight']\n",
      "You should probably TRAIN this model on a down-stream task to be able to use it for predictions and inference.\n"
     ]
    },
    {
     "name": "stdout",
     "output_type": "stream",
     "text": [
      "using llama3 tokenizer!\n",
      "MAE for project mule: 3.48\n",
      "MDAE for project mule: 2.13\n",
      "Standard Accuracy for project mule: 40.14\n",
      "Running inference for project trained on talenddataquality and tested on appceleratorstudio\n",
      "cross project inference using model #000 trained on talenddataquality for project appceleratorstudio\n",
      "Loading model from Hugging Face...\n"
     ]
    },
    {
     "name": "stderr",
     "output_type": "stream",
     "text": [
      "Some weights of LlamaForSequenceClassification were not initialized from the model checkpoint at meta-llama/Llama-3.2-1B and are newly initialized: ['score.weight']\n",
      "You should probably TRAIN this model on a down-stream task to be able to use it for predictions and inference.\n"
     ]
    },
    {
     "name": "stdout",
     "output_type": "stream",
     "text": [
      "using llama3 tokenizer!\n",
      "MAE for project talenddataquality: 2.72\n",
      "MDAE for project talenddataquality: 2.08\n",
      "Standard Accuracy for project talenddataquality: 47.12\n",
      "Running inference for project trained on mulestudio and tested on titanium\n",
      "cross project inference using model #000 trained on mulestudio for project titanium\n",
      "Loading model from Hugging Face...\n"
     ]
    },
    {
     "name": "stderr",
     "output_type": "stream",
     "text": [
      "Some weights of LlamaForSequenceClassification were not initialized from the model checkpoint at meta-llama/Llama-3.2-1B and are newly initialized: ['score.weight']\n",
      "You should probably TRAIN this model on a down-stream task to be able to use it for predictions and inference.\n"
     ]
    },
    {
     "name": "stdout",
     "output_type": "stream",
     "text": [
      "using llama3 tokenizer!\n",
      "MAE for project mulestudio: 3.73\n",
      "MDAE for project mulestudio: 2.79\n",
      "Standard Accuracy for project mulestudio: 35.84\n",
      "Running inference for project trained on appceleratorstudio and tested on mulestudio\n",
      "cross project inference using model #000 trained on appceleratorstudio for project mulestudio\n",
      "Loading model from Hugging Face...\n"
     ]
    },
    {
     "name": "stderr",
     "output_type": "stream",
     "text": [
      "Some weights of LlamaForSequenceClassification were not initialized from the model checkpoint at meta-llama/Llama-3.2-1B and are newly initialized: ['score.weight']\n",
      "You should probably TRAIN this model on a down-stream task to be able to use it for predictions and inference.\n"
     ]
    },
    {
     "name": "stdout",
     "output_type": "stream",
     "text": [
      "using llama3 tokenizer!\n",
      "MAE for project appceleratorstudio: 3.41\n",
      "MDAE for project appceleratorstudio: 2.39\n",
      "Standard Accuracy for project appceleratorstudio: 42.15\n",
      "Running inference for project trained on appceleratorstudio and tested on mule\n",
      "cross project inference using model #000 trained on appceleratorstudio for project mule\n",
      "Loading model from Hugging Face...\n"
     ]
    },
    {
     "name": "stderr",
     "output_type": "stream",
     "text": [
      "Some weights of LlamaForSequenceClassification were not initialized from the model checkpoint at meta-llama/Llama-3.2-1B and are newly initialized: ['score.weight']\n",
      "You should probably TRAIN this model on a down-stream task to be able to use it for predictions and inference.\n"
     ]
    },
    {
     "name": "stdout",
     "output_type": "stream",
     "text": [
      "using llama3 tokenizer!\n",
      "MAE for project appceleratorstudio: 2.9\n",
      "MDAE for project appceleratorstudio: 2.35\n",
      "Standard Accuracy for project appceleratorstudio: 36.61\n",
      "Running inference for project trained on mesos and tested on usergrid\n",
      "cross project inference using model #22 trained on mesos for project usergrid\n",
      "Loading model from Hugging Face...\n"
     ]
    },
    {
     "name": "stderr",
     "output_type": "stream",
     "text": [
      "Some weights of LlamaForSequenceClassification were not initialized from the model checkpoint at meta-llama/Llama-3.2-1B and are newly initialized: ['score.weight']\n",
      "You should probably TRAIN this model on a down-stream task to be able to use it for predictions and inference.\n"
     ]
    },
    {
     "name": "stdout",
     "output_type": "stream",
     "text": [
      "using word-level tokenizer!\n",
      "MAE for project mesos: 1.4\n",
      "MDAE for project mesos: 1.16\n",
      "Standard Accuracy for project mesos: 40.39\n",
      "Running inference for project trained on usergrid and tested on mesos\n",
      "cross project inference using model #22 trained on usergrid for project mesos\n",
      "Loading model from Hugging Face...\n"
     ]
    },
    {
     "name": "stderr",
     "output_type": "stream",
     "text": [
      "Some weights of LlamaForSequenceClassification were not initialized from the model checkpoint at meta-llama/Llama-3.2-1B and are newly initialized: ['score.weight']\n",
      "You should probably TRAIN this model on a down-stream task to be able to use it for predictions and inference.\n"
     ]
    },
    {
     "name": "stdout",
     "output_type": "stream",
     "text": [
      "using word-level tokenizer!\n",
      "MAE for project usergrid: 1.73\n",
      "MDAE for project usergrid: 1.29\n",
      "Standard Accuracy for project usergrid: 33.22\n",
      "Running inference for project trained on appceleratorstudio and tested on aptanastudio\n",
      "cross project inference using model #22 trained on appceleratorstudio for project aptanastudio\n",
      "Loading model from Hugging Face...\n"
     ]
    },
    {
     "name": "stderr",
     "output_type": "stream",
     "text": [
      "Some weights of LlamaForSequenceClassification were not initialized from the model checkpoint at meta-llama/Llama-3.2-1B and are newly initialized: ['score.weight']\n",
      "You should probably TRAIN this model on a down-stream task to be able to use it for predictions and inference.\n"
     ]
    },
    {
     "name": "stdout",
     "output_type": "stream",
     "text": [
      "using word-level tokenizer!\n",
      "MAE for project appceleratorstudio: 5.23\n",
      "MDAE for project appceleratorstudio: 3.69\n",
      "Standard Accuracy for project appceleratorstudio: 30.43\n",
      "Running inference for project trained on appceleratorstudio and tested on titanium\n",
      "cross project inference using model #22 trained on appceleratorstudio for project titanium\n",
      "Loading model from Hugging Face...\n"
     ]
    },
    {
     "name": "stderr",
     "output_type": "stream",
     "text": [
      "Some weights of LlamaForSequenceClassification were not initialized from the model checkpoint at meta-llama/Llama-3.2-1B and are newly initialized: ['score.weight']\n",
      "You should probably TRAIN this model on a down-stream task to be able to use it for predictions and inference.\n"
     ]
    },
    {
     "name": "stdout",
     "output_type": "stream",
     "text": [
      "using word-level tokenizer!\n",
      "MAE for project appceleratorstudio: 3.77\n",
      "MDAE for project appceleratorstudio: 2.2\n",
      "Standard Accuracy for project appceleratorstudio: 35.25\n",
      "Running inference for project trained on titanium and tested on appceleratorstudio\n",
      "cross project inference using model #22 trained on titanium for project appceleratorstudio\n",
      "Loading model from Hugging Face...\n"
     ]
    },
    {
     "name": "stderr",
     "output_type": "stream",
     "text": [
      "Some weights of LlamaForSequenceClassification were not initialized from the model checkpoint at meta-llama/Llama-3.2-1B and are newly initialized: ['score.weight']\n",
      "You should probably TRAIN this model on a down-stream task to be able to use it for predictions and inference.\n"
     ]
    },
    {
     "name": "stdout",
     "output_type": "stream",
     "text": [
      "using word-level tokenizer!\n",
      "MAE for project titanium: 2.64\n",
      "MDAE for project titanium: 1.98\n",
      "Standard Accuracy for project titanium: 48.6\n",
      "Running inference for project trained on aptanastudio and tested on titanium\n",
      "cross project inference using model #22 trained on aptanastudio for project titanium\n",
      "Loading model from Hugging Face...\n"
     ]
    },
    {
     "name": "stderr",
     "output_type": "stream",
     "text": [
      "Some weights of LlamaForSequenceClassification were not initialized from the model checkpoint at meta-llama/Llama-3.2-1B and are newly initialized: ['score.weight']\n",
      "You should probably TRAIN this model on a down-stream task to be able to use it for predictions and inference.\n"
     ]
    },
    {
     "name": "stdout",
     "output_type": "stream",
     "text": [
      "using word-level tokenizer!\n",
      "MAE for project aptanastudio: 3.64\n",
      "MDAE for project aptanastudio: 2.65\n",
      "Standard Accuracy for project aptanastudio: 37.35\n",
      "Running inference for project trained on mule and tested on mulestudio\n",
      "cross project inference using model #22 trained on mule for project mulestudio\n",
      "Loading model from Hugging Face...\n"
     ]
    },
    {
     "name": "stderr",
     "output_type": "stream",
     "text": [
      "Some weights of LlamaForSequenceClassification were not initialized from the model checkpoint at meta-llama/Llama-3.2-1B and are newly initialized: ['score.weight']\n",
      "You should probably TRAIN this model on a down-stream task to be able to use it for predictions and inference.\n"
     ]
    },
    {
     "name": "stdout",
     "output_type": "stream",
     "text": [
      "using word-level tokenizer!\n",
      "MAE for project mule: 4.07\n",
      "MDAE for project mule: 2.54\n",
      "Standard Accuracy for project mule: 30.94\n",
      "Running inference for project trained on mulestudio and tested on mule\n",
      "cross project inference using model #22 trained on mulestudio for project mule\n",
      "Loading model from Hugging Face...\n"
     ]
    },
    {
     "name": "stderr",
     "output_type": "stream",
     "text": [
      "Some weights of LlamaForSequenceClassification were not initialized from the model checkpoint at meta-llama/Llama-3.2-1B and are newly initialized: ['score.weight']\n",
      "You should probably TRAIN this model on a down-stream task to be able to use it for predictions and inference.\n"
     ]
    },
    {
     "name": "stdout",
     "output_type": "stream",
     "text": [
      "using word-level tokenizer!\n",
      "MAE for project mulestudio: 3.07\n",
      "MDAE for project mulestudio: 2.69\n",
      "Standard Accuracy for project mulestudio: 32.95\n",
      "Running inference for project trained on clover and tested on usergrid\n",
      "cross project inference using model #222 trained on clover for project usergrid\n",
      "Loading model from Hugging Face...\n"
     ]
    },
    {
     "name": "stderr",
     "output_type": "stream",
     "text": [
      "Some weights of LlamaForSequenceClassification were not initialized from the model checkpoint at meta-llama/Llama-3.2-1B and are newly initialized: ['score.weight']\n",
      "You should probably TRAIN this model on a down-stream task to be able to use it for predictions and inference.\n"
     ]
    },
    {
     "name": "stdout",
     "output_type": "stream",
     "text": [
      "using word-level tokenizer!\n",
      "MAE for project clover: 2.53\n",
      "MDAE for project clover: 2.39\n",
      "Standard Accuracy for project clover: -7.49\n",
      "Running inference for project trained on talendesb and tested on mesos\n",
      "cross project inference using model #222 trained on talendesb for project mesos\n",
      "Loading model from Hugging Face...\n"
     ]
    },
    {
     "name": "stderr",
     "output_type": "stream",
     "text": [
      "Some weights of LlamaForSequenceClassification were not initialized from the model checkpoint at meta-llama/Llama-3.2-1B and are newly initialized: ['score.weight']\n",
      "You should probably TRAIN this model on a down-stream task to be able to use it for predictions and inference.\n"
     ]
    },
    {
     "name": "stdout",
     "output_type": "stream",
     "text": [
      "using word-level tokenizer!\n",
      "MAE for project talendesb: 1.95\n",
      "MDAE for project talendesb: 1.63\n",
      "Standard Accuracy for project talendesb: 24.52\n",
      "Running inference for project trained on talenddataquality and tested on aptanastudio\n",
      "cross project inference using model #222 trained on talenddataquality for project aptanastudio\n",
      "Loading model from Hugging Face...\n"
     ]
    },
    {
     "name": "stderr",
     "output_type": "stream",
     "text": [
      "Some weights of LlamaForSequenceClassification were not initialized from the model checkpoint at meta-llama/Llama-3.2-1B and are newly initialized: ['score.weight']\n",
      "You should probably TRAIN this model on a down-stream task to be able to use it for predictions and inference.\n"
     ]
    },
    {
     "name": "stdout",
     "output_type": "stream",
     "text": [
      "using word-level tokenizer!\n",
      "MAE for project talenddataquality: 4.69\n",
      "MDAE for project talenddataquality: 3.26\n",
      "Standard Accuracy for project talenddataquality: 37.58\n",
      "Running inference for project trained on mule and tested on titanium\n",
      "cross project inference using model #222 trained on mule for project titanium\n",
      "Loading model from Hugging Face...\n"
     ]
    },
    {
     "name": "stderr",
     "output_type": "stream",
     "text": [
      "Some weights of LlamaForSequenceClassification were not initialized from the model checkpoint at meta-llama/Llama-3.2-1B and are newly initialized: ['score.weight']\n",
      "You should probably TRAIN this model on a down-stream task to be able to use it for predictions and inference.\n"
     ]
    },
    {
     "name": "stdout",
     "output_type": "stream",
     "text": [
      "using word-level tokenizer!\n",
      "MAE for project mule: 3.68\n",
      "MDAE for project mule: 2.16\n",
      "Standard Accuracy for project mule: 36.65\n",
      "Running inference for project trained on talenddataquality and tested on appceleratorstudio\n",
      "cross project inference using model #222 trained on talenddataquality for project appceleratorstudio\n",
      "Loading model from Hugging Face...\n"
     ]
    },
    {
     "name": "stderr",
     "output_type": "stream",
     "text": [
      "Some weights of LlamaForSequenceClassification were not initialized from the model checkpoint at meta-llama/Llama-3.2-1B and are newly initialized: ['score.weight']\n",
      "You should probably TRAIN this model on a down-stream task to be able to use it for predictions and inference.\n"
     ]
    },
    {
     "name": "stdout",
     "output_type": "stream",
     "text": [
      "using word-level tokenizer!\n",
      "MAE for project talenddataquality: 2.66\n",
      "MDAE for project talenddataquality: 2.11\n",
      "Standard Accuracy for project talenddataquality: 48.22\n",
      "Running inference for project trained on mulestudio and tested on titanium\n",
      "cross project inference using model #222 trained on mulestudio for project titanium\n",
      "Loading model from Hugging Face...\n"
     ]
    },
    {
     "name": "stderr",
     "output_type": "stream",
     "text": [
      "Some weights of LlamaForSequenceClassification were not initialized from the model checkpoint at meta-llama/Llama-3.2-1B and are newly initialized: ['score.weight']\n",
      "You should probably TRAIN this model on a down-stream task to be able to use it for predictions and inference.\n"
     ]
    },
    {
     "name": "stdout",
     "output_type": "stream",
     "text": [
      "using word-level tokenizer!\n",
      "MAE for project mulestudio: 3.73\n",
      "MDAE for project mulestudio: 2.61\n",
      "Standard Accuracy for project mulestudio: 35.89\n",
      "Running inference for project trained on appceleratorstudio and tested on mulestudio\n",
      "cross project inference using model #222 trained on appceleratorstudio for project mulestudio\n",
      "Loading model from Hugging Face...\n"
     ]
    },
    {
     "name": "stderr",
     "output_type": "stream",
     "text": [
      "Some weights of LlamaForSequenceClassification were not initialized from the model checkpoint at meta-llama/Llama-3.2-1B and are newly initialized: ['score.weight']\n",
      "You should probably TRAIN this model on a down-stream task to be able to use it for predictions and inference.\n"
     ]
    },
    {
     "name": "stdout",
     "output_type": "stream",
     "text": [
      "using word-level tokenizer!\n",
      "MAE for project appceleratorstudio: 3.54\n",
      "MDAE for project appceleratorstudio: 2.44\n",
      "Standard Accuracy for project appceleratorstudio: 39.96\n",
      "Running inference for project trained on appceleratorstudio and tested on mule\n",
      "cross project inference using model #222 trained on appceleratorstudio for project mule\n",
      "Loading model from Hugging Face...\n"
     ]
    },
    {
     "name": "stderr",
     "output_type": "stream",
     "text": [
      "Some weights of LlamaForSequenceClassification were not initialized from the model checkpoint at meta-llama/Llama-3.2-1B and are newly initialized: ['score.weight']\n",
      "You should probably TRAIN this model on a down-stream task to be able to use it for predictions and inference.\n"
     ]
    },
    {
     "name": "stdout",
     "output_type": "stream",
     "text": [
      "using word-level tokenizer!\n",
      "MAE for project appceleratorstudio: 2.89\n",
      "MDAE for project appceleratorstudio: 2.36\n",
      "Standard Accuracy for project appceleratorstudio: 36.88\n",
      "Running inference for project trained on mesos and tested on usergrid\n",
      "cross project inference using model #66 trained on mesos for project usergrid\n",
      "Loading model from Hugging Face...\n"
     ]
    },
    {
     "name": "stderr",
     "output_type": "stream",
     "text": [
      "Some weights of LlamaForSequenceClassification were not initialized from the model checkpoint at meta-llama/Llama-3.2-1B and are newly initialized: ['score.weight']\n",
      "You should probably TRAIN this model on a down-stream task to be able to use it for predictions and inference.\n"
     ]
    },
    {
     "name": "stdout",
     "output_type": "stream",
     "text": [
      "using wordpiece tokenizer!\n",
      "MAE for project mesos: 1.38\n",
      "MDAE for project mesos: 1.03\n",
      "Standard Accuracy for project mesos: 41.3\n",
      "Running inference for project trained on usergrid and tested on mesos\n",
      "cross project inference using model #66 trained on usergrid for project mesos\n",
      "Loading model from Hugging Face...\n"
     ]
    },
    {
     "name": "stderr",
     "output_type": "stream",
     "text": [
      "Some weights of LlamaForSequenceClassification were not initialized from the model checkpoint at meta-llama/Llama-3.2-1B and are newly initialized: ['score.weight']\n",
      "You should probably TRAIN this model on a down-stream task to be able to use it for predictions and inference.\n"
     ]
    },
    {
     "name": "stdout",
     "output_type": "stream",
     "text": [
      "using wordpiece tokenizer!\n",
      "MAE for project usergrid: 1.6\n",
      "MDAE for project usergrid: 1.26\n",
      "Standard Accuracy for project usergrid: 38.01\n",
      "Running inference for project trained on appceleratorstudio and tested on aptanastudio\n",
      "cross project inference using model #66 trained on appceleratorstudio for project aptanastudio\n",
      "Loading model from Hugging Face...\n"
     ]
    },
    {
     "name": "stderr",
     "output_type": "stream",
     "text": [
      "Some weights of LlamaForSequenceClassification were not initialized from the model checkpoint at meta-llama/Llama-3.2-1B and are newly initialized: ['score.weight']\n",
      "You should probably TRAIN this model on a down-stream task to be able to use it for predictions and inference.\n"
     ]
    },
    {
     "name": "stdout",
     "output_type": "stream",
     "text": [
      "using wordpiece tokenizer!\n",
      "MAE for project appceleratorstudio: 4.28\n",
      "MDAE for project appceleratorstudio: 2.74\n",
      "Standard Accuracy for project appceleratorstudio: 43.11\n",
      "Running inference for project trained on appceleratorstudio and tested on titanium\n",
      "cross project inference using model #66 trained on appceleratorstudio for project titanium\n",
      "Loading model from Hugging Face...\n"
     ]
    },
    {
     "name": "stderr",
     "output_type": "stream",
     "text": [
      "Some weights of LlamaForSequenceClassification were not initialized from the model checkpoint at meta-llama/Llama-3.2-1B and are newly initialized: ['score.weight']\n",
      "You should probably TRAIN this model on a down-stream task to be able to use it for predictions and inference.\n"
     ]
    },
    {
     "name": "stdout",
     "output_type": "stream",
     "text": [
      "using wordpiece tokenizer!\n",
      "MAE for project appceleratorstudio: 3.41\n",
      "MDAE for project appceleratorstudio: 2.29\n",
      "Standard Accuracy for project appceleratorstudio: 41.44\n",
      "Running inference for project trained on titanium and tested on appceleratorstudio\n",
      "cross project inference using model #66 trained on titanium for project appceleratorstudio\n",
      "Loading model from Hugging Face...\n"
     ]
    },
    {
     "name": "stderr",
     "output_type": "stream",
     "text": [
      "Some weights of LlamaForSequenceClassification were not initialized from the model checkpoint at meta-llama/Llama-3.2-1B and are newly initialized: ['score.weight']\n",
      "You should probably TRAIN this model on a down-stream task to be able to use it for predictions and inference.\n"
     ]
    },
    {
     "name": "stdout",
     "output_type": "stream",
     "text": [
      "using wordpiece tokenizer!\n",
      "MAE for project titanium: 2.36\n",
      "MDAE for project titanium: 1.66\n",
      "Standard Accuracy for project titanium: 54.07\n",
      "Running inference for project trained on aptanastudio and tested on titanium\n",
      "cross project inference using model #66 trained on aptanastudio for project titanium\n",
      "Loading model from Hugging Face...\n"
     ]
    },
    {
     "name": "stderr",
     "output_type": "stream",
     "text": [
      "Some weights of LlamaForSequenceClassification were not initialized from the model checkpoint at meta-llama/Llama-3.2-1B and are newly initialized: ['score.weight']\n",
      "You should probably TRAIN this model on a down-stream task to be able to use it for predictions and inference.\n"
     ]
    },
    {
     "name": "stdout",
     "output_type": "stream",
     "text": [
      "using wordpiece tokenizer!\n",
      "MAE for project aptanastudio: 4.11\n",
      "MDAE for project aptanastudio: 3.75\n",
      "Standard Accuracy for project aptanastudio: 29.36\n",
      "Running inference for project trained on mule and tested on mulestudio\n",
      "cross project inference using model #66 trained on mule for project mulestudio\n",
      "Loading model from Hugging Face...\n"
     ]
    },
    {
     "name": "stderr",
     "output_type": "stream",
     "text": [
      "Some weights of LlamaForSequenceClassification were not initialized from the model checkpoint at meta-llama/Llama-3.2-1B and are newly initialized: ['score.weight']\n",
      "You should probably TRAIN this model on a down-stream task to be able to use it for predictions and inference.\n"
     ]
    },
    {
     "name": "stdout",
     "output_type": "stream",
     "text": [
      "using wordpiece tokenizer!\n",
      "MAE for project mule: 3.43\n",
      "MDAE for project mule: 2.34\n",
      "Standard Accuracy for project mule: 41.84\n",
      "Running inference for project trained on mulestudio and tested on mule\n",
      "cross project inference using model #66 trained on mulestudio for project mule\n",
      "Loading model from Hugging Face...\n"
     ]
    },
    {
     "name": "stderr",
     "output_type": "stream",
     "text": [
      "Some weights of LlamaForSequenceClassification were not initialized from the model checkpoint at meta-llama/Llama-3.2-1B and are newly initialized: ['score.weight']\n",
      "You should probably TRAIN this model on a down-stream task to be able to use it for predictions and inference.\n"
     ]
    },
    {
     "name": "stdout",
     "output_type": "stream",
     "text": [
      "using wordpiece tokenizer!\n",
      "MAE for project mulestudio: 3.09\n",
      "MDAE for project mulestudio: 2.46\n",
      "Standard Accuracy for project mulestudio: 32.61\n",
      "Running inference for project trained on clover and tested on usergrid\n",
      "cross project inference using model #666 trained on clover for project usergrid\n",
      "Loading model from Hugging Face...\n"
     ]
    },
    {
     "name": "stderr",
     "output_type": "stream",
     "text": [
      "Some weights of LlamaForSequenceClassification were not initialized from the model checkpoint at meta-llama/Llama-3.2-1B and are newly initialized: ['score.weight']\n",
      "You should probably TRAIN this model on a down-stream task to be able to use it for predictions and inference.\n"
     ]
    },
    {
     "name": "stdout",
     "output_type": "stream",
     "text": [
      "using wordpiece tokenizer!\n",
      "MAE for project clover: 2.07\n",
      "MDAE for project clover: 1.58\n",
      "Standard Accuracy for project clover: 11.85\n",
      "Running inference for project trained on talendesb and tested on mesos\n",
      "cross project inference using model #666 trained on talendesb for project mesos\n",
      "Loading model from Hugging Face...\n"
     ]
    },
    {
     "name": "stderr",
     "output_type": "stream",
     "text": [
      "Some weights of LlamaForSequenceClassification were not initialized from the model checkpoint at meta-llama/Llama-3.2-1B and are newly initialized: ['score.weight']\n",
      "You should probably TRAIN this model on a down-stream task to be able to use it for predictions and inference.\n"
     ]
    },
    {
     "name": "stdout",
     "output_type": "stream",
     "text": [
      "using wordpiece tokenizer!\n",
      "MAE for project talendesb: 1.6\n",
      "MDAE for project talendesb: 1.0\n",
      "Standard Accuracy for project talendesb: 38.26\n",
      "Running inference for project trained on talenddataquality and tested on aptanastudio\n",
      "cross project inference using model #666 trained on talenddataquality for project aptanastudio\n",
      "Loading model from Hugging Face...\n"
     ]
    },
    {
     "name": "stderr",
     "output_type": "stream",
     "text": [
      "Some weights of LlamaForSequenceClassification were not initialized from the model checkpoint at meta-llama/Llama-3.2-1B and are newly initialized: ['score.weight']\n",
      "You should probably TRAIN this model on a down-stream task to be able to use it for predictions and inference.\n"
     ]
    },
    {
     "name": "stdout",
     "output_type": "stream",
     "text": [
      "using wordpiece tokenizer!\n",
      "MAE for project talenddataquality: 4.54\n",
      "MDAE for project talenddataquality: 3.16\n",
      "Standard Accuracy for project talenddataquality: 39.65\n",
      "Running inference for project trained on mule and tested on titanium\n",
      "cross project inference using model #666 trained on mule for project titanium\n",
      "Loading model from Hugging Face...\n"
     ]
    },
    {
     "name": "stderr",
     "output_type": "stream",
     "text": [
      "Some weights of LlamaForSequenceClassification were not initialized from the model checkpoint at meta-llama/Llama-3.2-1B and are newly initialized: ['score.weight']\n",
      "You should probably TRAIN this model on a down-stream task to be able to use it for predictions and inference.\n"
     ]
    },
    {
     "name": "stdout",
     "output_type": "stream",
     "text": [
      "using wordpiece tokenizer!\n",
      "MAE for project mule: 3.33\n",
      "MDAE for project mule: 2.29\n",
      "Standard Accuracy for project mule: 42.67\n",
      "Running inference for project trained on talenddataquality and tested on appceleratorstudio\n",
      "cross project inference using model #666 trained on talenddataquality for project appceleratorstudio\n",
      "Loading model from Hugging Face...\n"
     ]
    },
    {
     "name": "stderr",
     "output_type": "stream",
     "text": [
      "Some weights of LlamaForSequenceClassification were not initialized from the model checkpoint at meta-llama/Llama-3.2-1B and are newly initialized: ['score.weight']\n",
      "You should probably TRAIN this model on a down-stream task to be able to use it for predictions and inference.\n"
     ]
    },
    {
     "name": "stdout",
     "output_type": "stream",
     "text": [
      "using wordpiece tokenizer!\n",
      "MAE for project talenddataquality: 2.98\n",
      "MDAE for project talenddataquality: 2.38\n",
      "Standard Accuracy for project talenddataquality: 41.94\n",
      "Running inference for project trained on mulestudio and tested on titanium\n",
      "cross project inference using model #666 trained on mulestudio for project titanium\n",
      "Loading model from Hugging Face...\n"
     ]
    },
    {
     "name": "stderr",
     "output_type": "stream",
     "text": [
      "Some weights of LlamaForSequenceClassification were not initialized from the model checkpoint at meta-llama/Llama-3.2-1B and are newly initialized: ['score.weight']\n",
      "You should probably TRAIN this model on a down-stream task to be able to use it for predictions and inference.\n"
     ]
    },
    {
     "name": "stdout",
     "output_type": "stream",
     "text": [
      "using wordpiece tokenizer!\n",
      "MAE for project mulestudio: 3.51\n",
      "MDAE for project mulestudio: 2.52\n",
      "Standard Accuracy for project mulestudio: 39.6\n",
      "Running inference for project trained on appceleratorstudio and tested on mulestudio\n",
      "cross project inference using model #666 trained on appceleratorstudio for project mulestudio\n",
      "Loading model from Hugging Face...\n"
     ]
    },
    {
     "name": "stderr",
     "output_type": "stream",
     "text": [
      "Some weights of LlamaForSequenceClassification were not initialized from the model checkpoint at meta-llama/Llama-3.2-1B and are newly initialized: ['score.weight']\n",
      "You should probably TRAIN this model on a down-stream task to be able to use it for predictions and inference.\n"
     ]
    },
    {
     "name": "stdout",
     "output_type": "stream",
     "text": [
      "using wordpiece tokenizer!\n",
      "MAE for project appceleratorstudio: 3.39\n",
      "MDAE for project appceleratorstudio: 2.53\n",
      "Standard Accuracy for project appceleratorstudio: 42.49\n",
      "Running inference for project trained on appceleratorstudio and tested on mule\n",
      "cross project inference using model #666 trained on appceleratorstudio for project mule\n",
      "Loading model from Hugging Face...\n"
     ]
    },
    {
     "name": "stderr",
     "output_type": "stream",
     "text": [
      "Some weights of LlamaForSequenceClassification were not initialized from the model checkpoint at meta-llama/Llama-3.2-1B and are newly initialized: ['score.weight']\n",
      "You should probably TRAIN this model on a down-stream task to be able to use it for predictions and inference.\n"
     ]
    },
    {
     "name": "stdout",
     "output_type": "stream",
     "text": [
      "using wordpiece tokenizer!\n",
      "MAE for project appceleratorstudio: 3.01\n",
      "MDAE for project appceleratorstudio: 2.73\n",
      "Standard Accuracy for project appceleratorstudio: 34.23\n",
      "Running inference for project trained on mesos and tested on usergrid\n",
      "cross project inference using model #77 trained on mesos for project usergrid\n",
      "Loading model from Hugging Face...\n"
     ]
    },
    {
     "name": "stderr",
     "output_type": "stream",
     "text": [
      "Some weights of LlamaForSequenceClassification were not initialized from the model checkpoint at meta-llama/Llama-3.2-1B and are newly initialized: ['score.weight']\n",
      "You should probably TRAIN this model on a down-stream task to be able to use it for predictions and inference.\n"
     ]
    },
    {
     "name": "stdout",
     "output_type": "stream",
     "text": [
      "using sentencepiece tokenizer!\n",
      "MAE for project mesos: 1.05\n",
      "MDAE for project mesos: 0.67\n",
      "Standard Accuracy for project mesos: 55.22\n",
      "Running inference for project trained on usergrid and tested on mesos\n",
      "cross project inference using model #77 trained on usergrid for project mesos\n",
      "Loading model from Hugging Face...\n"
     ]
    },
    {
     "name": "stderr",
     "output_type": "stream",
     "text": [
      "Some weights of LlamaForSequenceClassification were not initialized from the model checkpoint at meta-llama/Llama-3.2-1B and are newly initialized: ['score.weight']\n",
      "You should probably TRAIN this model on a down-stream task to be able to use it for predictions and inference.\n"
     ]
    },
    {
     "name": "stdout",
     "output_type": "stream",
     "text": [
      "using sentencepiece tokenizer!\n",
      "MAE for project usergrid: 1.56\n",
      "MDAE for project usergrid: 0.97\n",
      "Standard Accuracy for project usergrid: 39.53\n",
      "Running inference for project trained on appceleratorstudio and tested on aptanastudio\n",
      "cross project inference using model #77 trained on appceleratorstudio for project aptanastudio\n",
      "Loading model from Hugging Face...\n"
     ]
    },
    {
     "name": "stderr",
     "output_type": "stream",
     "text": [
      "Some weights of LlamaForSequenceClassification were not initialized from the model checkpoint at meta-llama/Llama-3.2-1B and are newly initialized: ['score.weight']\n",
      "You should probably TRAIN this model on a down-stream task to be able to use it for predictions and inference.\n"
     ]
    },
    {
     "name": "stdout",
     "output_type": "stream",
     "text": [
      "using sentencepiece tokenizer!\n",
      "MAE for project appceleratorstudio: 4.31\n",
      "MDAE for project appceleratorstudio: 2.69\n",
      "Standard Accuracy for project appceleratorstudio: 42.62\n",
      "Running inference for project trained on appceleratorstudio and tested on titanium\n",
      "cross project inference using model #77 trained on appceleratorstudio for project titanium\n",
      "Loading model from Hugging Face...\n"
     ]
    },
    {
     "name": "stderr",
     "output_type": "stream",
     "text": [
      "Some weights of LlamaForSequenceClassification were not initialized from the model checkpoint at meta-llama/Llama-3.2-1B and are newly initialized: ['score.weight']\n",
      "You should probably TRAIN this model on a down-stream task to be able to use it for predictions and inference.\n"
     ]
    },
    {
     "name": "stdout",
     "output_type": "stream",
     "text": [
      "using sentencepiece tokenizer!\n",
      "MAE for project appceleratorstudio: 3.3\n",
      "MDAE for project appceleratorstudio: 2.39\n",
      "Standard Accuracy for project appceleratorstudio: 43.19\n",
      "Running inference for project trained on titanium and tested on appceleratorstudio\n",
      "cross project inference using model #77 trained on titanium for project appceleratorstudio\n",
      "Loading model from Hugging Face...\n"
     ]
    },
    {
     "name": "stderr",
     "output_type": "stream",
     "text": [
      "Some weights of LlamaForSequenceClassification were not initialized from the model checkpoint at meta-llama/Llama-3.2-1B and are newly initialized: ['score.weight']\n",
      "You should probably TRAIN this model on a down-stream task to be able to use it for predictions and inference.\n"
     ]
    },
    {
     "name": "stdout",
     "output_type": "stream",
     "text": [
      "using sentencepiece tokenizer!\n",
      "MAE for project titanium: 2.36\n",
      "MDAE for project titanium: 1.76\n",
      "Standard Accuracy for project titanium: 54.14\n",
      "Running inference for project trained on aptanastudio and tested on titanium\n",
      "cross project inference using model #77 trained on aptanastudio for project titanium\n",
      "Loading model from Hugging Face...\n"
     ]
    },
    {
     "name": "stderr",
     "output_type": "stream",
     "text": [
      "Some weights of LlamaForSequenceClassification were not initialized from the model checkpoint at meta-llama/Llama-3.2-1B and are newly initialized: ['score.weight']\n",
      "You should probably TRAIN this model on a down-stream task to be able to use it for predictions and inference.\n"
     ]
    },
    {
     "name": "stdout",
     "output_type": "stream",
     "text": [
      "using sentencepiece tokenizer!\n",
      "MAE for project aptanastudio: 3.78\n",
      "MDAE for project aptanastudio: 2.91\n",
      "Standard Accuracy for project aptanastudio: 35.0\n",
      "Running inference for project trained on mule and tested on mulestudio\n",
      "cross project inference using model #77 trained on mule for project mulestudio\n",
      "Loading model from Hugging Face...\n"
     ]
    },
    {
     "name": "stderr",
     "output_type": "stream",
     "text": [
      "Some weights of LlamaForSequenceClassification were not initialized from the model checkpoint at meta-llama/Llama-3.2-1B and are newly initialized: ['score.weight']\n",
      "You should probably TRAIN this model on a down-stream task to be able to use it for predictions and inference.\n"
     ]
    },
    {
     "name": "stdout",
     "output_type": "stream",
     "text": [
      "using sentencepiece tokenizer!\n",
      "MAE for project mule: 3.65\n",
      "MDAE for project mule: 1.99\n",
      "Standard Accuracy for project mule: 38.13\n",
      "Running inference for project trained on mulestudio and tested on mule\n",
      "cross project inference using model #77 trained on mulestudio for project mule\n",
      "Loading model from Hugging Face...\n"
     ]
    },
    {
     "name": "stderr",
     "output_type": "stream",
     "text": [
      "Some weights of LlamaForSequenceClassification were not initialized from the model checkpoint at meta-llama/Llama-3.2-1B and are newly initialized: ['score.weight']\n",
      "You should probably TRAIN this model on a down-stream task to be able to use it for predictions and inference.\n"
     ]
    },
    {
     "name": "stdout",
     "output_type": "stream",
     "text": [
      "using sentencepiece tokenizer!\n",
      "MAE for project mulestudio: 3.31\n",
      "MDAE for project mulestudio: 2.86\n",
      "Standard Accuracy for project mulestudio: 27.74\n",
      "Running inference for project trained on clover and tested on usergrid\n",
      "cross project inference using model #777 trained on clover for project usergrid\n",
      "Loading model from Hugging Face...\n"
     ]
    },
    {
     "name": "stderr",
     "output_type": "stream",
     "text": [
      "Some weights of LlamaForSequenceClassification were not initialized from the model checkpoint at meta-llama/Llama-3.2-1B and are newly initialized: ['score.weight']\n",
      "You should probably TRAIN this model on a down-stream task to be able to use it for predictions and inference.\n"
     ]
    },
    {
     "name": "stdout",
     "output_type": "stream",
     "text": [
      "using sentencepiece tokenizer!\n",
      "MAE for project clover: 1.48\n",
      "MDAE for project clover: 1.25\n",
      "Standard Accuracy for project clover: 37.04\n",
      "Running inference for project trained on talendesb and tested on mesos\n",
      "cross project inference using model #777 trained on talendesb for project mesos\n",
      "Loading model from Hugging Face...\n"
     ]
    },
    {
     "name": "stderr",
     "output_type": "stream",
     "text": [
      "Some weights of LlamaForSequenceClassification were not initialized from the model checkpoint at meta-llama/Llama-3.2-1B and are newly initialized: ['score.weight']\n",
      "You should probably TRAIN this model on a down-stream task to be able to use it for predictions and inference.\n"
     ]
    },
    {
     "name": "stdout",
     "output_type": "stream",
     "text": [
      "using sentencepiece tokenizer!\n",
      "MAE for project talendesb: 1.66\n",
      "MDAE for project talendesb: 1.06\n",
      "Standard Accuracy for project talendesb: 35.73\n",
      "Running inference for project trained on talenddataquality and tested on aptanastudio\n",
      "cross project inference using model #777 trained on talenddataquality for project aptanastudio\n",
      "Loading model from Hugging Face...\n"
     ]
    },
    {
     "name": "stderr",
     "output_type": "stream",
     "text": [
      "Some weights of LlamaForSequenceClassification were not initialized from the model checkpoint at meta-llama/Llama-3.2-1B and are newly initialized: ['score.weight']\n",
      "You should probably TRAIN this model on a down-stream task to be able to use it for predictions and inference.\n"
     ]
    },
    {
     "name": "stdout",
     "output_type": "stream",
     "text": [
      "using sentencepiece tokenizer!\n",
      "MAE for project talenddataquality: 4.73\n",
      "MDAE for project talenddataquality: 3.21\n",
      "Standard Accuracy for project talenddataquality: 37.03\n",
      "Running inference for project trained on mule and tested on titanium\n",
      "cross project inference using model #777 trained on mule for project titanium\n",
      "Loading model from Hugging Face...\n"
     ]
    },
    {
     "name": "stderr",
     "output_type": "stream",
     "text": [
      "Some weights of LlamaForSequenceClassification were not initialized from the model checkpoint at meta-llama/Llama-3.2-1B and are newly initialized: ['score.weight']\n",
      "You should probably TRAIN this model on a down-stream task to be able to use it for predictions and inference.\n"
     ]
    },
    {
     "name": "stdout",
     "output_type": "stream",
     "text": [
      "using sentencepiece tokenizer!\n",
      "MAE for project mule: 3.31\n",
      "MDAE for project mule: 2.15\n",
      "Standard Accuracy for project mule: 43.13\n",
      "Running inference for project trained on talenddataquality and tested on appceleratorstudio\n",
      "cross project inference using model #777 trained on talenddataquality for project appceleratorstudio\n",
      "Loading model from Hugging Face...\n"
     ]
    },
    {
     "name": "stderr",
     "output_type": "stream",
     "text": [
      "Some weights of LlamaForSequenceClassification were not initialized from the model checkpoint at meta-llama/Llama-3.2-1B and are newly initialized: ['score.weight']\n",
      "You should probably TRAIN this model on a down-stream task to be able to use it for predictions and inference.\n"
     ]
    },
    {
     "name": "stdout",
     "output_type": "stream",
     "text": [
      "using sentencepiece tokenizer!\n",
      "MAE for project talenddataquality: 2.49\n",
      "MDAE for project talenddataquality: 1.93\n",
      "Standard Accuracy for project talenddataquality: 51.43\n",
      "Running inference for project trained on mulestudio and tested on titanium\n",
      "cross project inference using model #777 trained on mulestudio for project titanium\n",
      "Loading model from Hugging Face...\n"
     ]
    },
    {
     "name": "stderr",
     "output_type": "stream",
     "text": [
      "Some weights of LlamaForSequenceClassification were not initialized from the model checkpoint at meta-llama/Llama-3.2-1B and are newly initialized: ['score.weight']\n",
      "You should probably TRAIN this model on a down-stream task to be able to use it for predictions and inference.\n"
     ]
    },
    {
     "name": "stdout",
     "output_type": "stream",
     "text": [
      "using sentencepiece tokenizer!\n",
      "MAE for project mulestudio: 3.97\n",
      "MDAE for project mulestudio: 3.45\n",
      "Standard Accuracy for project mulestudio: 31.78\n",
      "Running inference for project trained on appceleratorstudio and tested on mulestudio\n",
      "cross project inference using model #777 trained on appceleratorstudio for project mulestudio\n",
      "Loading model from Hugging Face...\n"
     ]
    },
    {
     "name": "stderr",
     "output_type": "stream",
     "text": [
      "Some weights of LlamaForSequenceClassification were not initialized from the model checkpoint at meta-llama/Llama-3.2-1B and are newly initialized: ['score.weight']\n",
      "You should probably TRAIN this model on a down-stream task to be able to use it for predictions and inference.\n"
     ]
    },
    {
     "name": "stdout",
     "output_type": "stream",
     "text": [
      "using sentencepiece tokenizer!\n",
      "MAE for project appceleratorstudio: 3.53\n",
      "MDAE for project appceleratorstudio: 2.46\n",
      "Standard Accuracy for project appceleratorstudio: 40.16\n",
      "Running inference for project trained on appceleratorstudio and tested on mule\n",
      "cross project inference using model #777 trained on appceleratorstudio for project mule\n",
      "Loading model from Hugging Face...\n"
     ]
    },
    {
     "name": "stderr",
     "output_type": "stream",
     "text": [
      "Some weights of LlamaForSequenceClassification were not initialized from the model checkpoint at meta-llama/Llama-3.2-1B and are newly initialized: ['score.weight']\n",
      "You should probably TRAIN this model on a down-stream task to be able to use it for predictions and inference.\n"
     ]
    },
    {
     "name": "stdout",
     "output_type": "stream",
     "text": [
      "using sentencepiece tokenizer!\n",
      "MAE for project appceleratorstudio: 2.77\n",
      "MDAE for project appceleratorstudio: 2.44\n",
      "Standard Accuracy for project appceleratorstudio: 39.48\n",
      "All projects processed\n"
     ]
    },
    {
     "data": {
      "text/html": [
       "<div>\n",
       "<style scoped>\n",
       "    .dataframe tbody tr th:only-of-type {\n",
       "        vertical-align: middle;\n",
       "    }\n",
       "\n",
       "    .dataframe tbody tr th {\n",
       "        vertical-align: top;\n",
       "    }\n",
       "\n",
       "    .dataframe thead th {\n",
       "        text-align: right;\n",
       "    }\n",
       "</style>\n",
       "<table border=\"1\" class=\"dataframe\">\n",
       "  <thead>\n",
       "    <tr style=\"text-align: right;\">\n",
       "      <th></th>\n",
       "      <th>Train</th>\n",
       "      <th>Test</th>\n",
       "      <th>Llama3.2</th>\n",
       "      <th>Llama3.2+SPWordLevel</th>\n",
       "      <th>Llama3.2+SPWordPiece</th>\n",
       "      <th>Llama3.2+SPSentencePiece</th>\n",
       "    </tr>\n",
       "  </thead>\n",
       "  <tbody>\n",
       "    <tr>\n",
       "      <th>0</th>\n",
       "      <td>mesos</td>\n",
       "      <td>usergrid</td>\n",
       "      <td>1.34</td>\n",
       "      <td>1.40</td>\n",
       "      <td>1.38</td>\n",
       "      <td>1.05</td>\n",
       "    </tr>\n",
       "    <tr>\n",
       "      <th>1</th>\n",
       "      <td>usergrid</td>\n",
       "      <td>mesos</td>\n",
       "      <td>1.74</td>\n",
       "      <td>1.73</td>\n",
       "      <td>1.60</td>\n",
       "      <td>1.56</td>\n",
       "    </tr>\n",
       "    <tr>\n",
       "      <th>2</th>\n",
       "      <td>appceleratorstudio</td>\n",
       "      <td>aptanastudio</td>\n",
       "      <td>4.36</td>\n",
       "      <td>5.23</td>\n",
       "      <td>4.28</td>\n",
       "      <td>4.31</td>\n",
       "    </tr>\n",
       "    <tr>\n",
       "      <th>3</th>\n",
       "      <td>appceleratorstudio</td>\n",
       "      <td>titanium</td>\n",
       "      <td>3.36</td>\n",
       "      <td>3.77</td>\n",
       "      <td>3.41</td>\n",
       "      <td>3.30</td>\n",
       "    </tr>\n",
       "    <tr>\n",
       "      <th>4</th>\n",
       "      <td>titanium</td>\n",
       "      <td>appceleratorstudio</td>\n",
       "      <td>2.55</td>\n",
       "      <td>2.64</td>\n",
       "      <td>2.36</td>\n",
       "      <td>2.36</td>\n",
       "    </tr>\n",
       "    <tr>\n",
       "      <th>5</th>\n",
       "      <td>aptanastudio</td>\n",
       "      <td>titanium</td>\n",
       "      <td>3.78</td>\n",
       "      <td>3.64</td>\n",
       "      <td>4.11</td>\n",
       "      <td>3.78</td>\n",
       "    </tr>\n",
       "    <tr>\n",
       "      <th>6</th>\n",
       "      <td>mule</td>\n",
       "      <td>mulestudio</td>\n",
       "      <td>3.57</td>\n",
       "      <td>4.07</td>\n",
       "      <td>3.43</td>\n",
       "      <td>3.65</td>\n",
       "    </tr>\n",
       "    <tr>\n",
       "      <th>7</th>\n",
       "      <td>mulestudio</td>\n",
       "      <td>mule</td>\n",
       "      <td>2.98</td>\n",
       "      <td>3.07</td>\n",
       "      <td>3.09</td>\n",
       "      <td>3.31</td>\n",
       "    </tr>\n",
       "    <tr>\n",
       "      <th>8</th>\n",
       "      <td>clover</td>\n",
       "      <td>usergrid</td>\n",
       "      <td>2.03</td>\n",
       "      <td>2.53</td>\n",
       "      <td>2.07</td>\n",
       "      <td>1.48</td>\n",
       "    </tr>\n",
       "    <tr>\n",
       "      <th>9</th>\n",
       "      <td>talendesb</td>\n",
       "      <td>mesos</td>\n",
       "      <td>1.52</td>\n",
       "      <td>1.95</td>\n",
       "      <td>1.60</td>\n",
       "      <td>1.66</td>\n",
       "    </tr>\n",
       "    <tr>\n",
       "      <th>10</th>\n",
       "      <td>talenddataquality</td>\n",
       "      <td>aptanastudio</td>\n",
       "      <td>4.53</td>\n",
       "      <td>4.69</td>\n",
       "      <td>4.54</td>\n",
       "      <td>4.73</td>\n",
       "    </tr>\n",
       "    <tr>\n",
       "      <th>11</th>\n",
       "      <td>mule</td>\n",
       "      <td>titanium</td>\n",
       "      <td>3.48</td>\n",
       "      <td>3.68</td>\n",
       "      <td>3.33</td>\n",
       "      <td>3.31</td>\n",
       "    </tr>\n",
       "    <tr>\n",
       "      <th>12</th>\n",
       "      <td>talenddataquality</td>\n",
       "      <td>appceleratorstudio</td>\n",
       "      <td>2.72</td>\n",
       "      <td>2.66</td>\n",
       "      <td>2.98</td>\n",
       "      <td>2.49</td>\n",
       "    </tr>\n",
       "    <tr>\n",
       "      <th>13</th>\n",
       "      <td>mulestudio</td>\n",
       "      <td>titanium</td>\n",
       "      <td>3.73</td>\n",
       "      <td>3.73</td>\n",
       "      <td>3.51</td>\n",
       "      <td>3.97</td>\n",
       "    </tr>\n",
       "    <tr>\n",
       "      <th>14</th>\n",
       "      <td>appceleratorstudio</td>\n",
       "      <td>mulestudio</td>\n",
       "      <td>3.41</td>\n",
       "      <td>3.54</td>\n",
       "      <td>3.39</td>\n",
       "      <td>3.53</td>\n",
       "    </tr>\n",
       "    <tr>\n",
       "      <th>15</th>\n",
       "      <td>appceleratorstudio</td>\n",
       "      <td>mule</td>\n",
       "      <td>2.90</td>\n",
       "      <td>2.89</td>\n",
       "      <td>3.01</td>\n",
       "      <td>2.77</td>\n",
       "    </tr>\n",
       "  </tbody>\n",
       "</table>\n",
       "</div>"
      ],
      "text/plain": [
       "                 Train                Test  Llama3.2  Llama3.2+SPWordLevel  \\\n",
       "0                mesos            usergrid      1.34                  1.40   \n",
       "1             usergrid               mesos      1.74                  1.73   \n",
       "2   appceleratorstudio        aptanastudio      4.36                  5.23   \n",
       "3   appceleratorstudio            titanium      3.36                  3.77   \n",
       "4             titanium  appceleratorstudio      2.55                  2.64   \n",
       "5         aptanastudio            titanium      3.78                  3.64   \n",
       "6                 mule          mulestudio      3.57                  4.07   \n",
       "7           mulestudio                mule      2.98                  3.07   \n",
       "8               clover            usergrid      2.03                  2.53   \n",
       "9            talendesb               mesos      1.52                  1.95   \n",
       "10   talenddataquality        aptanastudio      4.53                  4.69   \n",
       "11                mule            titanium      3.48                  3.68   \n",
       "12   talenddataquality  appceleratorstudio      2.72                  2.66   \n",
       "13          mulestudio            titanium      3.73                  3.73   \n",
       "14  appceleratorstudio          mulestudio      3.41                  3.54   \n",
       "15  appceleratorstudio                mule      2.90                  2.89   \n",
       "\n",
       "    Llama3.2+SPWordPiece  Llama3.2+SPSentencePiece  \n",
       "0                   1.38                      1.05  \n",
       "1                   1.60                      1.56  \n",
       "2                   4.28                      4.31  \n",
       "3                   3.41                      3.30  \n",
       "4                   2.36                      2.36  \n",
       "5                   4.11                      3.78  \n",
       "6                   3.43                      3.65  \n",
       "7                   3.09                      3.31  \n",
       "8                   2.07                      1.48  \n",
       "9                   1.60                      1.66  \n",
       "10                  4.54                      4.73  \n",
       "11                  3.33                      3.31  \n",
       "12                  2.98                      2.49  \n",
       "13                  3.51                      3.97  \n",
       "14                  3.39                      3.53  \n",
       "15                  3.01                      2.77  "
      ]
     },
     "execution_count": 5,
     "metadata": {},
     "output_type": "execute_result"
    }
   ],
   "source": [
    "llama3_cross_df = pd.DataFrame(\n",
    "    {\n",
    "        'Train': [item['train'] for item in ALL_CROSS_PROJECTS],\n",
    "        'Test': [item['test'] for item in ALL_CROSS_PROJECTS]\n",
    "    }\n",
    "    , dtype='float64'\n",
    ")\n",
    "llama3_cross_df_mdae = llama3_cross_df.copy()\n",
    "llama3_cross_df_sa = llama3_cross_df.copy()\n",
    "\n",
    "for model in MODELS:\n",
    "    maes = []\n",
    "    mdmaes = []\n",
    "    standard_accuracies = []\n",
    "\n",
    "    for i, projects in enumerate(CROSS_PROJECTS):\n",
    "        for project in projects:\n",
    "            model_id = model\n",
    "            caracter = model[1:]\n",
    "            caracter = caracter * (i + 2)\n",
    "            model_id = f\"#{caracter}\"\n",
    "\n",
    "            print(f\"Running inference for project trained on {project['train']} and tested on {project['test']}\")\n",
    "            mae, mdae, sa = main(model_id, f\"{project['train']}_{project['test']}\" )\n",
    "            \n",
    "            mae = round(mae, 2)\n",
    "            mdae = round(mdae, 2)\n",
    "            sa = round(sa, 2)\n",
    "            maes.append(mae)\n",
    "            mdmaes.append(mdae)\n",
    "            standard_accuracies.append(sa)\n",
    "            print(f\"MAE for project {project['train']}: {mae}\")\n",
    "            print(f\"MDAE for project {project['train']}: {mdae}\")\n",
    "            print(f\"Standard Accuracy for project {project['train']}: {sa}\")\n",
    "\n",
    "            hf_model_id = f\"DEVCamiloSepulveda/{model[1:]}-LLAMA3SP-{project['train']}\"\n",
    "            # clean_hf_cache(hf_model_id)\n",
    "            clean_gpu_memory()\n",
    "    llama3_cross_df[MODELS[model]] = maes\n",
    "    llama3_cross_df[MODELS[model]] = llama3_cross_df[MODELS[model]].apply(lambda x: round(x, 2))\n",
    "    llama3_cross_df_mdae[MODELS[model]] = mdmaes\n",
    "    llama3_cross_df_mdae[MODELS[model]] = llama3_cross_df_mdae[MODELS[model]].apply(lambda x: round(x, 2))\n",
    "    llama3_cross_df_sa[MODELS[model]] = standard_accuracies\n",
    "    llama3_cross_df_sa[MODELS[model]] = llama3_cross_df_sa[MODELS[model]].apply(lambda x: round(x, 2))\n",
    "\n",
    "\n",
    "print(\"All projects processed\")\n",
    "\n",
    "llama3_cross_df"
   ]
  },
  {
   "cell_type": "markdown",
   "metadata": {},
   "source": [
    "##### Optional: Save the results\n",
    "\n",
    "You can save the results of the DataFrame to a CSV file for further analysis or record-keeping. Run the following script to save the `llama3_cross_df` DataFrame to a CSV file."
   ]
  },
  {
   "cell_type": "code",
   "execution_count": 6,
   "metadata": {},
   "outputs": [
    {
     "name": "stdout",
     "output_type": "stream",
     "text": [
      "CSV file 'Llama3_cross_results.csv' created successfully.\n"
     ]
    }
   ],
   "source": [
    "# Save the DataFrtaFrame to a CSV file\n",
    "llama3_cross_df.to_csv('./data_model_analysis/Llama3_cross_results.csv', index=False)\n",
    "\n",
    "print(\"CSV file 'Llama3_cross_results.csv' created successfully.\")"
   ]
  },
  {
   "cell_type": "code",
   "execution_count": 6,
   "metadata": {},
   "outputs": [
    {
     "name": "stdout",
     "output_type": "stream",
     "text": [
      "CSV file 'Llama3_cross_results_mdae.csv' and 'Llama3_cross_results_sa.csv' created successfully.\n"
     ]
    }
   ],
   "source": [
    "llama3_cross_df_mdae.to_csv('./data_model_analysis/Llama3_cross_results_mdae.csv', index=False)\n",
    "llama3_cross_df_sa.to_csv('./data_model_analysis/Llama3_cross_results_sa.csv', index=False)\n",
    "\n",
    "print(\"CSV file 'Llama3_cross_results_mdae.csv' and 'Llama3_cross_results_sa.csv' created successfully.\")"
   ]
  },
  {
   "cell_type": "markdown",
   "metadata": {},
   "source": [
    "##### Run the cell below to do inference on testing dataset using **local** trained model on all cross projects"
   ]
  },
  {
   "cell_type": "code",
   "execution_count": 7,
   "metadata": {},
   "outputs": [
    {
     "name": "stdout",
     "output_type": "stream",
     "text": [
      "Loading models from local on Cross projects inference...\n",
      "within project inference using model ./models/mesos_usergrid_epo_6 for project mesos\n",
      "Loading model from local...\n"
     ]
    },
    {
     "name": "stderr",
     "output_type": "stream",
     "text": [
      "Some weights of LlamaForSequenceClassification were not initialized from the model checkpoint at meta-llama/Llama-3.2-1B and are newly initialized: ['score.weight']\n",
      "You should probably TRAIN this model on a down-stream task to be able to use it for predictions and inference.\n"
     ]
    },
    {
     "name": "stdout",
     "output_type": "stream",
     "text": [
      "Batch Size:  302\n",
      "using llama3 tokenizer!\n"
     ]
    },
    {
     "name": "stderr",
     "output_type": "stream",
     "text": [
      "C:\\Users\\Camilo\\AppData\\Local\\Temp\\ipykernel_21024\\2126901288.py:245: UserWarning: To copy construct from a tensor, it is recommended to use sourceTensor.clone().detach() or sourceTensor.clone().detach().requires_grad_(True), rather than torch.tensor(sourceTensor).\n",
      "  test_seq = torch.tensor(tokens_test['input_ids'])\n"
     ]
    },
    {
     "name": "stdout",
     "output_type": "stream",
     "text": [
      "Model: mesos_usergrid, MAE: 1.37, MdAE: 1.06, SA: 39.19\n",
      "within project inference using model ./models/usergrid_mesos_epo_4 for project usergrid\n",
      "Loading model from local...\n"
     ]
    },
    {
     "name": "stderr",
     "output_type": "stream",
     "text": [
      "Some weights of LlamaForSequenceClassification were not initialized from the model checkpoint at meta-llama/Llama-3.2-1B and are newly initialized: ['score.weight']\n",
      "You should probably TRAIN this model on a down-stream task to be able to use it for predictions and inference.\n"
     ]
    },
    {
     "name": "stdout",
     "output_type": "stream",
     "text": [
      "Batch Size:  86\n",
      "using llama3 tokenizer!\n",
      "Model: usergrid_mesos, MAE: 1.45, MdAE: 1.2, SA: 40.64\n",
      "within project inference using model ./models/appceleratorstudio_aptanastudio_epo_0 for project appceleratorstudio\n",
      "Loading model from local...\n"
     ]
    },
    {
     "name": "stderr",
     "output_type": "stream",
     "text": [
      "Some weights of LlamaForSequenceClassification were not initialized from the model checkpoint at meta-llama/Llama-3.2-1B and are newly initialized: ['score.weight']\n",
      "You should probably TRAIN this model on a down-stream task to be able to use it for predictions and inference.\n"
     ]
    },
    {
     "name": "stdout",
     "output_type": "stream",
     "text": [
      "Batch Size:  512\n",
      "using llama3 tokenizer!\n",
      "Model: appceleratorstudio_aptanastudio, MAE: 1.53, MdAE: 1.23, SA: 66.62\n",
      "within project inference using model ./models/appceleratorstudio_titanium_epo_0 for project appceleratorstudio\n",
      "Loading model from local...\n"
     ]
    },
    {
     "name": "stderr",
     "output_type": "stream",
     "text": [
      "Some weights of LlamaForSequenceClassification were not initialized from the model checkpoint at meta-llama/Llama-3.2-1B and are newly initialized: ['score.weight']\n",
      "You should probably TRAIN this model on a down-stream task to be able to use it for predictions and inference.\n"
     ]
    },
    {
     "name": "stdout",
     "output_type": "stream",
     "text": [
      "Batch Size:  512\n",
      "using llama3 tokenizer!\n",
      "Model: appceleratorstudio_titanium, MAE: 1.7, MdAE: 1.45, SA: 62.93\n",
      "within project inference using model ./models/titanium_appceleratorstudio_epo_0 for project titanium\n",
      "Loading model from local...\n"
     ]
    },
    {
     "name": "stderr",
     "output_type": "stream",
     "text": [
      "Some weights of LlamaForSequenceClassification were not initialized from the model checkpoint at meta-llama/Llama-3.2-1B and are newly initialized: ['score.weight']\n",
      "You should probably TRAIN this model on a down-stream task to be able to use it for predictions and inference.\n"
     ]
    },
    {
     "name": "stdout",
     "output_type": "stream",
     "text": [
      "Batch Size:  405\n",
      "using llama3 tokenizer!\n",
      "Model: titanium_appceleratorstudio, MAE: 2.65, MdAE: 2.19, SA: 44.29\n",
      "within project inference using model ./models/aptanastudio_titanium_epo_2 for project aptanastudio\n",
      "Loading model from local...\n"
     ]
    },
    {
     "name": "stderr",
     "output_type": "stream",
     "text": [
      "Some weights of LlamaForSequenceClassification were not initialized from the model checkpoint at meta-llama/Llama-3.2-1B and are newly initialized: ['score.weight']\n",
      "You should probably TRAIN this model on a down-stream task to be able to use it for predictions and inference.\n"
     ]
    },
    {
     "name": "stdout",
     "output_type": "stream",
     "text": [
      "Batch Size:  149\n",
      "using llama3 tokenizer!\n",
      "Model: aptanastudio_titanium, MAE: 3.48, MdAE: 2.8, SA: 48.17\n",
      "within project inference using model ./models/mule_mulestudio_epo_16 for project mule\n",
      "Loading model from local...\n"
     ]
    },
    {
     "name": "stderr",
     "output_type": "stream",
     "text": [
      "Some weights of LlamaForSequenceClassification were not initialized from the model checkpoint at meta-llama/Llama-3.2-1B and are newly initialized: ['score.weight']\n",
      "You should probably TRAIN this model on a down-stream task to be able to use it for predictions and inference.\n"
     ]
    },
    {
     "name": "stdout",
     "output_type": "stream",
     "text": [
      "Batch Size:  159\n",
      "using llama3 tokenizer!\n",
      "Model: mule_mulestudio, MAE: 2.73, MdAE: 2.52, SA: 33.71\n",
      "within project inference using model ./models/mulestudio_mule_epo_6 for project mulestudio\n",
      "Loading model from local...\n"
     ]
    },
    {
     "name": "stderr",
     "output_type": "stream",
     "text": [
      "Some weights of LlamaForSequenceClassification were not initialized from the model checkpoint at meta-llama/Llama-3.2-1B and are newly initialized: ['score.weight']\n",
      "You should probably TRAIN this model on a down-stream task to be able to use it for predictions and inference.\n"
     ]
    },
    {
     "name": "stdout",
     "output_type": "stream",
     "text": [
      "Batch Size:  131\n",
      "using llama3 tokenizer!\n",
      "Model: mulestudio_mule, MAE: 3.87, MdAE: 3.04, SA: 39.99\n",
      "within project inference using model ./models/clover_usergrid_epo_8 for project clover\n",
      "Loading model from local...\n"
     ]
    },
    {
     "name": "stderr",
     "output_type": "stream",
     "text": [
      "Some weights of LlamaForSequenceClassification were not initialized from the model checkpoint at meta-llama/Llama-3.2-1B and are newly initialized: ['score.weight']\n",
      "You should probably TRAIN this model on a down-stream task to be able to use it for predictions and inference.\n"
     ]
    },
    {
     "name": "stdout",
     "output_type": "stream",
     "text": [
      "Batch Size:  69\n",
      "using llama3 tokenizer!\n",
      "Model: clover_usergrid, MAE: 4.17, MdAE: 2.55, SA: 6.6\n",
      "within project inference using model ./models/talendesb_mesos_epo_15 for project talendesb\n",
      "Loading model from local...\n"
     ]
    },
    {
     "name": "stderr",
     "output_type": "stream",
     "text": [
      "Some weights of LlamaForSequenceClassification were not initialized from the model checkpoint at meta-llama/Llama-3.2-1B and are newly initialized: ['score.weight']\n",
      "You should probably TRAIN this model on a down-stream task to be able to use it for predictions and inference.\n"
     ]
    },
    {
     "name": "stdout",
     "output_type": "stream",
     "text": [
      "Batch Size:  156\n",
      "using llama3 tokenizer!\n",
      "Model: talendesb_mesos, MAE: 1.07, MdAE: 0.87, SA: 30.58\n",
      "within project inference using model ./models/talenddataquality_aptanastudio_epo_3 for project talenddataquality\n",
      "Loading model from local...\n"
     ]
    },
    {
     "name": "stderr",
     "output_type": "stream",
     "text": [
      "Some weights of LlamaForSequenceClassification were not initialized from the model checkpoint at meta-llama/Llama-3.2-1B and are newly initialized: ['score.weight']\n",
      "You should probably TRAIN this model on a down-stream task to be able to use it for predictions and inference.\n"
     ]
    },
    {
     "name": "stdout",
     "output_type": "stream",
     "text": [
      "Batch Size:  248\n",
      "using llama3 tokenizer!\n",
      "Model: talenddataquality_aptanastudio, MAE: 3.71, MdAE: 3.4, SA: -27.29\n",
      "within project inference using model ./models/mule_titanium_epo_13 for project mule\n",
      "Loading model from local...\n"
     ]
    },
    {
     "name": "stderr",
     "output_type": "stream",
     "text": [
      "Some weights of LlamaForSequenceClassification were not initialized from the model checkpoint at meta-llama/Llama-3.2-1B and are newly initialized: ['score.weight']\n",
      "You should probably TRAIN this model on a down-stream task to be able to use it for predictions and inference.\n"
     ]
    },
    {
     "name": "stdout",
     "output_type": "stream",
     "text": [
      "Batch Size:  159\n",
      "using llama3 tokenizer!\n",
      "Model: mule_titanium, MAE: 2.68, MdAE: 2.33, SA: 35.1\n",
      "within project inference using model ./models/talenddataquality_appceleratorstudio_epo_0 for project talenddataquality\n",
      "Loading model from local...\n"
     ]
    },
    {
     "name": "stderr",
     "output_type": "stream",
     "text": [
      "Some weights of LlamaForSequenceClassification were not initialized from the model checkpoint at meta-llama/Llama-3.2-1B and are newly initialized: ['score.weight']\n",
      "You should probably TRAIN this model on a down-stream task to be able to use it for predictions and inference.\n"
     ]
    },
    {
     "name": "stdout",
     "output_type": "stream",
     "text": [
      "Batch Size:  248\n",
      "using llama3 tokenizer!\n",
      "Model: talenddataquality_appceleratorstudio, MAE: 3.92, MdAE: 3.91, SA: -34.41\n",
      "within project inference using model ./models/mulestudio_titanium_epo_1 for project mulestudio\n",
      "Loading model from local...\n"
     ]
    },
    {
     "name": "stderr",
     "output_type": "stream",
     "text": [
      "Some weights of LlamaForSequenceClassification were not initialized from the model checkpoint at meta-llama/Llama-3.2-1B and are newly initialized: ['score.weight']\n",
      "You should probably TRAIN this model on a down-stream task to be able to use it for predictions and inference.\n"
     ]
    },
    {
     "name": "stdout",
     "output_type": "stream",
     "text": [
      "Batch Size:  131\n",
      "using llama3 tokenizer!\n",
      "Model: mulestudio_titanium, MAE: 3.85, MdAE: 3.12, SA: 40.32\n",
      "within project inference using model ./models/appceleratorstudio_mulestudio_epo_0 for project appceleratorstudio\n",
      "Loading model from local...\n"
     ]
    },
    {
     "name": "stderr",
     "output_type": "stream",
     "text": [
      "Some weights of LlamaForSequenceClassification were not initialized from the model checkpoint at meta-llama/Llama-3.2-1B and are newly initialized: ['score.weight']\n",
      "You should probably TRAIN this model on a down-stream task to be able to use it for predictions and inference.\n"
     ]
    },
    {
     "name": "stdout",
     "output_type": "stream",
     "text": [
      "Batch Size:  512\n",
      "using llama3 tokenizer!\n",
      "Model: appceleratorstudio_mulestudio, MAE: 1.74, MdAE: 1.54, SA: 61.97\n",
      "within project inference using model ./models/appceleratorstudio_mule_epo_2 for project appceleratorstudio\n",
      "Loading model from local...\n"
     ]
    },
    {
     "name": "stderr",
     "output_type": "stream",
     "text": [
      "Some weights of LlamaForSequenceClassification were not initialized from the model checkpoint at meta-llama/Llama-3.2-1B and are newly initialized: ['score.weight']\n",
      "You should probably TRAIN this model on a down-stream task to be able to use it for predictions and inference.\n"
     ]
    },
    {
     "name": "stdout",
     "output_type": "stream",
     "text": [
      "Batch Size:  512\n",
      "using llama3 tokenizer!\n",
      "Model: appceleratorstudio_mule, MAE: 1.91, MdAE: 1.71, SA: 58.32\n"
     ]
    },
    {
     "data": {
      "text/html": [
       "<div>\n",
       "<style scoped>\n",
       "    .dataframe tbody tr th:only-of-type {\n",
       "        vertical-align: middle;\n",
       "    }\n",
       "\n",
       "    .dataframe tbody tr th {\n",
       "        vertical-align: top;\n",
       "    }\n",
       "\n",
       "    .dataframe thead th {\n",
       "        text-align: right;\n",
       "    }\n",
       "</style>\n",
       "<table border=\"1\" class=\"dataframe\">\n",
       "  <thead>\n",
       "    <tr style=\"text-align: right;\">\n",
       "      <th></th>\n",
       "      <th>Train</th>\n",
       "      <th>Test</th>\n",
       "      <th>MAE</th>\n",
       "      <th>MdAE</th>\n",
       "      <th>SA</th>\n",
       "    </tr>\n",
       "  </thead>\n",
       "  <tbody>\n",
       "    <tr>\n",
       "      <th>0</th>\n",
       "      <td>mesos</td>\n",
       "      <td>usergrid</td>\n",
       "      <td>1.37</td>\n",
       "      <td>1.06</td>\n",
       "      <td>39.19</td>\n",
       "    </tr>\n",
       "    <tr>\n",
       "      <th>1</th>\n",
       "      <td>usergrid</td>\n",
       "      <td>mesos</td>\n",
       "      <td>1.45</td>\n",
       "      <td>1.20</td>\n",
       "      <td>40.64</td>\n",
       "    </tr>\n",
       "    <tr>\n",
       "      <th>2</th>\n",
       "      <td>appceleratorstudio</td>\n",
       "      <td>aptanastudio</td>\n",
       "      <td>1.53</td>\n",
       "      <td>1.23</td>\n",
       "      <td>66.62</td>\n",
       "    </tr>\n",
       "    <tr>\n",
       "      <th>3</th>\n",
       "      <td>appceleratorstudio</td>\n",
       "      <td>titanium</td>\n",
       "      <td>1.70</td>\n",
       "      <td>1.45</td>\n",
       "      <td>62.93</td>\n",
       "    </tr>\n",
       "    <tr>\n",
       "      <th>4</th>\n",
       "      <td>titanium</td>\n",
       "      <td>appceleratorstudio</td>\n",
       "      <td>2.65</td>\n",
       "      <td>2.19</td>\n",
       "      <td>44.29</td>\n",
       "    </tr>\n",
       "    <tr>\n",
       "      <th>5</th>\n",
       "      <td>aptanastudio</td>\n",
       "      <td>titanium</td>\n",
       "      <td>3.48</td>\n",
       "      <td>2.80</td>\n",
       "      <td>48.17</td>\n",
       "    </tr>\n",
       "    <tr>\n",
       "      <th>6</th>\n",
       "      <td>mule</td>\n",
       "      <td>mulestudio</td>\n",
       "      <td>2.73</td>\n",
       "      <td>2.52</td>\n",
       "      <td>33.71</td>\n",
       "    </tr>\n",
       "    <tr>\n",
       "      <th>7</th>\n",
       "      <td>mulestudio</td>\n",
       "      <td>mule</td>\n",
       "      <td>3.87</td>\n",
       "      <td>3.04</td>\n",
       "      <td>39.99</td>\n",
       "    </tr>\n",
       "    <tr>\n",
       "      <th>8</th>\n",
       "      <td>clover</td>\n",
       "      <td>usergrid</td>\n",
       "      <td>4.17</td>\n",
       "      <td>2.55</td>\n",
       "      <td>6.60</td>\n",
       "    </tr>\n",
       "    <tr>\n",
       "      <th>9</th>\n",
       "      <td>talendesb</td>\n",
       "      <td>mesos</td>\n",
       "      <td>1.07</td>\n",
       "      <td>0.87</td>\n",
       "      <td>30.58</td>\n",
       "    </tr>\n",
       "    <tr>\n",
       "      <th>10</th>\n",
       "      <td>talenddataquality</td>\n",
       "      <td>aptanastudio</td>\n",
       "      <td>3.71</td>\n",
       "      <td>3.40</td>\n",
       "      <td>-27.29</td>\n",
       "    </tr>\n",
       "    <tr>\n",
       "      <th>11</th>\n",
       "      <td>mule</td>\n",
       "      <td>titanium</td>\n",
       "      <td>2.68</td>\n",
       "      <td>2.33</td>\n",
       "      <td>35.10</td>\n",
       "    </tr>\n",
       "    <tr>\n",
       "      <th>12</th>\n",
       "      <td>talenddataquality</td>\n",
       "      <td>appceleratorstudio</td>\n",
       "      <td>3.92</td>\n",
       "      <td>3.91</td>\n",
       "      <td>-34.41</td>\n",
       "    </tr>\n",
       "    <tr>\n",
       "      <th>13</th>\n",
       "      <td>mulestudio</td>\n",
       "      <td>titanium</td>\n",
       "      <td>3.85</td>\n",
       "      <td>3.12</td>\n",
       "      <td>40.32</td>\n",
       "    </tr>\n",
       "    <tr>\n",
       "      <th>14</th>\n",
       "      <td>appceleratorstudio</td>\n",
       "      <td>mulestudio</td>\n",
       "      <td>1.74</td>\n",
       "      <td>1.54</td>\n",
       "      <td>61.97</td>\n",
       "    </tr>\n",
       "    <tr>\n",
       "      <th>15</th>\n",
       "      <td>appceleratorstudio</td>\n",
       "      <td>mule</td>\n",
       "      <td>1.91</td>\n",
       "      <td>1.71</td>\n",
       "      <td>58.32</td>\n",
       "    </tr>\n",
       "  </tbody>\n",
       "</table>\n",
       "</div>"
      ],
      "text/plain": [
       "                 Train                Test   MAE  MdAE     SA\n",
       "0                mesos            usergrid  1.37  1.06  39.19\n",
       "1             usergrid               mesos  1.45  1.20  40.64\n",
       "2   appceleratorstudio        aptanastudio  1.53  1.23  66.62\n",
       "3   appceleratorstudio            titanium  1.70  1.45  62.93\n",
       "4             titanium  appceleratorstudio  2.65  2.19  44.29\n",
       "5         aptanastudio            titanium  3.48  2.80  48.17\n",
       "6                 mule          mulestudio  2.73  2.52  33.71\n",
       "7           mulestudio                mule  3.87  3.04  39.99\n",
       "8               clover            usergrid  4.17  2.55   6.60\n",
       "9            talendesb               mesos  1.07  0.87  30.58\n",
       "10   talenddataquality        aptanastudio  3.71  3.40 -27.29\n",
       "11                mule            titanium  2.68  2.33  35.10\n",
       "12   talenddataquality  appceleratorstudio  3.92  3.91 -34.41\n",
       "13          mulestudio            titanium  3.85  3.12  40.32\n",
       "14  appceleratorstudio          mulestudio  1.74  1.54  61.97\n",
       "15  appceleratorstudio                mule  1.91  1.71  58.32"
      ]
     },
     "execution_count": 7,
     "metadata": {},
     "output_type": "execute_result"
    }
   ],
   "source": [
    "print(\"Loading models from local on Cross projects inference...\")\n",
    "\n",
    "cross_projects = [item for sublist in PROJECTS[1:] for item in sublist]\n",
    "cross_maes, cross_mdaes, cross_saes = local_model_inference(cross_projects)\n",
    "cross_df = create_df(cross_maes, cross_mdaes, cross_saes, cross_projects)\n",
    "\n",
    "cross_df"
   ]
  },
  {
   "cell_type": "markdown",
   "metadata": {},
   "source": [
    "##### Optional: Save the results\n",
    "\n",
    "You can save the results of the DataFrame to a CSV file for further analysis or record-keeping. Run the following script to save the `cross_df` DataFrame to a CSV file."
   ]
  },
  {
   "cell_type": "code",
   "execution_count": 8,
   "metadata": {},
   "outputs": [
    {
     "name": "stdout",
     "output_type": "stream",
     "text": [
      "CSV file 'Llama3SP_cross_results.csv' created successfully.\n"
     ]
    }
   ],
   "source": [
    "# Save the DataFrtaFrame to a CSV file\n",
    "cross_df.to_csv('./data_model_analysis/Llama3SP_cross_results.csv', index=False)\n",
    "\n",
    "print(\"CSV file 'Llama3SP_cross_results.csv' created successfully.\")"
   ]
  }
 ],
 "metadata": {
  "kernelspec": {
   "display_name": "Python 3",
   "language": "python",
   "name": "python3"
  },
  "language_info": {
   "codemirror_mode": {
    "name": "ipython",
    "version": 3
   },
   "file_extension": ".py",
   "mimetype": "text/x-python",
   "name": "python",
   "nbconvert_exporter": "python",
   "pygments_lexer": "ipython3",
   "version": "3.9.13"
  }
 },
 "nbformat": 4,
 "nbformat_minor": 4
}
